{
 "cells": [
  {
   "cell_type": "code",
   "execution_count": 1,
   "metadata": {},
   "outputs": [
    {
     "data": {
      "text/html": [
       "        <script type=\"text/javascript\">\n",
       "        window.PlotlyConfig = {MathJaxConfig: 'local'};\n",
       "        if (window.MathJax) {MathJax.Hub.Config({SVG: {font: \"STIX-Web\"}});}\n",
       "        if (typeof require !== 'undefined') {\n",
       "        require.undef(\"plotly\");\n",
       "        requirejs.config({\n",
       "            paths: {\n",
       "                'plotly': ['https://cdn.plot.ly/plotly-latest.min']\n",
       "            }\n",
       "        });\n",
       "        require(['plotly'], function(Plotly) {\n",
       "            window._Plotly = Plotly;\n",
       "        });\n",
       "        }\n",
       "        </script>\n",
       "        "
      ]
     },
     "metadata": {},
     "output_type": "display_data"
    }
   ],
   "source": [
    "import numpy as np\n",
    "import pandas as pd\n",
    "\n",
    "import plotly.graph_objs as go\n",
    "from plotly.offline import init_notebook_mode, iplot\n",
    "from sympy.geometry import Point3D\n",
    "\n",
    "structures = pd.read_csv('./input/structures.csv')\n",
    "train = pd.read_csv('./input/train.csv')\n",
    "\n",
    "# initiate the plotly notebook mode\n",
    "init_notebook_mode(connected=True)\n",
    "\n",
    "\n",
    "def plot_interactions(molecule_name, structures_df, train_df):\n",
    "    \"\"\"Creates a 3D plot of the molecule\"\"\"\n",
    "    \n",
    "    atomic_radii = dict(C=0.77, F=0.71, H=0.38, N=0.75, O=0.73)  \n",
    "    cpk_colors = dict(C='black', F='green', H='white', N='blue', O='red')\n",
    "    \n",
    "    if molecule_name not in train_df.molecule_name.unique():\n",
    "        print(f'Molecule \"{molecule_name}\" is not in the training set!')\n",
    "        return\n",
    "    \n",
    "    molecule = structures[structures.molecule_name == molecule_name]\n",
    "    coordinates = molecule[['x', 'y', 'z']].values\n",
    "    x_coordinates = coordinates[:, 0]\n",
    "    y_coordinates = coordinates[:, 1]\n",
    "    z_coordinates = coordinates[:, 2]\n",
    "    elements = molecule.atom.tolist()\n",
    "    radii = [atomic_radii[element] for element in elements]\n",
    "    \n",
    "    data_train = train_df[train_df.molecule_name == molecule_name][['atom_index_0', 'atom_index_1', 'scalar_coupling_constant']]\n",
    "    interactions = data_train.groupby('atom_index_0')['atom_index_1'].apply(set).to_dict()\n",
    "    coupling_constants = data_train.set_index(['atom_index_0', 'atom_index_1']).round(2).to_dict()['scalar_coupling_constant']\n",
    "    \n",
    "    def get_bonds():\n",
    "        \"\"\"Generates a set of bonds from atomic cartesian coordinates\"\"\"\n",
    "        ids = np.arange(coordinates.shape[0])\n",
    "        bonds = dict()\n",
    "        coordinates_compare, radii_compare, ids_compare = coordinates, radii, ids\n",
    "        \n",
    "        for _ in range(len(ids)):\n",
    "            coordinates_compare = np.roll(coordinates_compare, -1, axis=0)\n",
    "            radii_compare = np.roll(radii_compare, -1, axis=0)\n",
    "            ids_compare = np.roll(ids_compare, -1, axis=0)\n",
    "            distances = np.linalg.norm(coordinates - coordinates_compare, axis=1)\n",
    "            bond_distances = (radii + radii_compare) * 1.3\n",
    "            mask = np.logical_and(distances > 0.1, distances <  bond_distances)\n",
    "            distances = distances.round(2)\n",
    "            new_bonds = {frozenset([i, j]): dist for i, j, dist in zip(ids[mask], ids_compare[mask], distances[mask])}\n",
    "            bonds.update(new_bonds)\n",
    "        return bonds      \n",
    "            \n",
    "    def atom_trace():\n",
    "        \"\"\"Creates an atom trace for the plot\"\"\"\n",
    "        colors = [cpk_colors[element] for element in elements]\n",
    "        markers = dict(color=colors, line=dict(color='lightgray', width=2), size=7, symbol='circle', opacity=0.8)\n",
    "        trace = go.Scatter3d(x=x_coordinates, y=y_coordinates, z=z_coordinates, mode='markers', marker=markers,\n",
    "                             text=elements, name='')\n",
    "        return trace\n",
    "\n",
    "    def bond_trace():\n",
    "        \"\"\"\"Creates a bond trace for the plot\"\"\"\n",
    "        trace = go.Scatter3d(x=[], y=[], z=[], hoverinfo='none', mode='lines',\n",
    "                             marker=dict(color='grey', size=7, opacity=1), line=dict(width=3))\n",
    "        for i, j in bonds.keys():\n",
    "            trace['x'] += (x_coordinates[i], x_coordinates[j], None)\n",
    "            trace['y'] += (y_coordinates[i], y_coordinates[j], None)\n",
    "            trace['z'] += (z_coordinates[i], z_coordinates[j], None)\n",
    "        return trace\n",
    "    \n",
    "    def interaction_trace(atom_id):\n",
    "        \"\"\"\"Creates an interaction trace for the plot\"\"\"\n",
    "        trace = go.Scatter3d(x=[], y=[], z=[], hoverinfo='none', mode='lines',\n",
    "                             marker=dict(color='pink', size=7, opacity=0.5),\n",
    "                            visible=False)\n",
    "        for i in interactions[atom_id]:\n",
    "            trace['x'] += (x_coordinates[atom_id], x_coordinates[i], None)\n",
    "            trace['y'] += (y_coordinates[atom_id], y_coordinates[i], None)\n",
    "            trace['z'] += (z_coordinates[atom_id], z_coordinates[i], None)\n",
    "        return trace\n",
    "    \n",
    "    bonds = get_bonds()\n",
    "    \n",
    "    zipped = zip(range(len(elements)), x_coordinates, y_coordinates, z_coordinates)\n",
    "    annotations_id = [dict(text=num, x=x, y=y, z=z, showarrow=False, yshift=15, font = dict(color = \"blue\"))\n",
    "                      for num, x, y, z in zipped]\n",
    "    \n",
    "    annotations_length = []\n",
    "    for (i, j), dist in bonds.items():\n",
    "        p_i, p_j = Point3D(coordinates[i]), Point3D(coordinates[j])\n",
    "        p = p_i.midpoint(p_j)\n",
    "        annotation = dict(text=dist, x=float(p.x), y=float(p.y), z=float(p.z), showarrow=False, yshift=10)\n",
    "        annotations_length.append(annotation)\n",
    "    \n",
    "    annotations_interaction = []\n",
    "    for k, v in interactions.items():\n",
    "        annotations = []\n",
    "        for i in v:\n",
    "            p_i, p_j = Point3D(coordinates[k]), Point3D(coordinates[i])\n",
    "            p = p_i.midpoint(p_j)\n",
    "            constant = coupling_constants[(k, i)]\n",
    "            annotation = dict(text=constant, x=float(p.x), y=float(p.y), z=float(p.z), showarrow=False, yshift=25,\n",
    "                              font = dict(color = \"hotpink\"))\n",
    "            annotations.append(annotation)\n",
    "        annotations_interaction.append(annotations)\n",
    "    \n",
    "    buttons = []\n",
    "    for num, i in enumerate(interactions.keys()):\n",
    "        mask = [False] * len(interactions)\n",
    "        mask[num] = True\n",
    "        button = dict(label=f'Atom {i}',\n",
    "                      method='update',\n",
    "                      args=[{'visible': [True] * 2 + mask},\n",
    "                            {'scene.annotations': annotations_id + annotations_length + annotations_interaction[num]}])\n",
    "        buttons.append(button)\n",
    "        \n",
    "    updatemenus = list([\n",
    "        dict(buttons = buttons,\n",
    "             direction = 'down',\n",
    "             xanchor = 'left',\n",
    "             yanchor = 'top'\n",
    "            )\n",
    "    ])\n",
    "    \n",
    "    data = [atom_trace(), bond_trace()]\n",
    "    \n",
    "    # add interaction traces\n",
    "    for num, i in enumerate(interactions.keys()):\n",
    "        trace = interaction_trace(i)\n",
    "        if num == 0:\n",
    "            trace.visible = True \n",
    "        data.append(trace)\n",
    "        \n",
    "    axis_params = dict(showgrid=False, showbackground=False, showticklabels=False, zeroline=False, titlefont=dict(color='white'))\n",
    "    layout = dict(scene=dict(xaxis=axis_params, yaxis=axis_params, zaxis=axis_params,\n",
    "                             annotations=annotations_id + annotations_length + annotations_interaction[0]),\n",
    "                  margin=dict(r=0, l=0, b=0, t=0), showlegend=False, updatemenus=updatemenus)\n",
    "\n",
    "    fig = go.Figure(data=data, layout=layout)\n",
    "    iplot(fig)"
   ]
  },
  {
   "cell_type": "code",
   "execution_count": 11,
   "metadata": {},
   "outputs": [],
   "source": [
    "import random\n",
    "molecule_names = train.molecule_name.unique()"
   ]
  },
  {
   "cell_type": "code",
   "execution_count": 28,
   "metadata": {},
   "outputs": [
    {
     "name": "stdout",
     "output_type": "stream",
     "text": [
      "dsgdb9nsd_000141\n"
     ]
    },
    {
     "data": {
      "application/vnd.plotly.v1+json": {
       "config": {
        "linkText": "Export to plot.ly",
        "plotlyServerURL": "https://plot.ly",
        "showLink": false
       },
       "data": [
        {
         "marker": {
          "color": [
           "black",
           "black",
           "black",
           "black",
           "red",
           "white",
           "white",
           "white",
           "white"
          ],
          "line": {
           "color": "lightgray",
           "width": 2
          },
          "opacity": 0.8,
          "size": 7,
          "symbol": "circle"
         },
         "mode": "markers",
         "name": "",
         "text": [
          "C",
          "C",
          "C",
          "C",
          "O",
          "H",
          "H",
          "H",
          "H"
         ],
         "type": "scatter3d",
         "x": [
          0.017249426499999998,
          0.0192685813,
          -0.0106977409,
          0.5219731603,
          1.246660677,
          0.0228731533,
          -0.8009894725,
          0.0866399781,
          0.9541532273000001
         ],
         "y": [
          -1.1863973559999998,
          0.0140484544,
          1.451080186,
          2.199219564,
          2.1420974459999997,
          -2.247579949,
          1.919363995,
          3.166243515,
          1.644677074
         ],
         "z": [
          -0.0328792108,
          0.0226989053,
          0.0703490806,
          1.226547893,
          0.005568350600000001,
          -0.0787438088,
          -0.5151192469,
          1.475160887,
          2.057024001
         ]
        },
        {
         "hoverinfo": "none",
         "line": {
          "width": 3
         },
         "marker": {
          "color": "grey",
          "opacity": 1,
          "size": 7
         },
         "mode": "lines",
         "type": "scatter3d",
         "x": [
          0.017249426499999998,
          0.0192685813,
          null,
          0.0192685813,
          -0.0106977409,
          null,
          -0.0106977409,
          0.5219731603,
          null,
          0.5219731603,
          1.246660677,
          null,
          -0.0106977409,
          1.246660677,
          null,
          -0.0106977409,
          -0.8009894725,
          null,
          0.5219731603,
          0.0866399781,
          null,
          0.017249426499999998,
          0.0228731533,
          null,
          0.9541532273000001,
          0.5219731603,
          null
         ],
         "y": [
          -1.1863973559999998,
          0.0140484544,
          null,
          0.0140484544,
          1.451080186,
          null,
          1.451080186,
          2.199219564,
          null,
          2.199219564,
          2.1420974459999997,
          null,
          1.451080186,
          2.1420974459999997,
          null,
          1.451080186,
          1.919363995,
          null,
          2.199219564,
          3.166243515,
          null,
          -1.1863973559999998,
          -2.247579949,
          null,
          1.644677074,
          2.199219564,
          null
         ],
         "z": [
          -0.0328792108,
          0.0226989053,
          null,
          0.0226989053,
          0.0703490806,
          null,
          0.0703490806,
          1.226547893,
          null,
          1.226547893,
          0.005568350600000001,
          null,
          0.0703490806,
          0.005568350600000001,
          null,
          0.0703490806,
          -0.5151192469,
          null,
          1.226547893,
          1.475160887,
          null,
          -0.0328792108,
          -0.0787438088,
          null,
          2.057024001,
          1.226547893,
          null
         ]
        },
        {
         "hoverinfo": "none",
         "marker": {
          "color": "pink",
          "opacity": 0.5,
          "size": 7
         },
         "mode": "lines",
         "type": "scatter3d",
         "visible": true,
         "x": [
          0.0228731533,
          0.017249426499999998,
          null,
          0.0228731533,
          0.0192685813,
          null,
          0.0228731533,
          -0.0106977409,
          null
         ],
         "y": [
          -2.247579949,
          -1.1863973559999998,
          null,
          -2.247579949,
          0.0140484544,
          null,
          -2.247579949,
          1.451080186,
          null
         ],
         "z": [
          -0.0787438088,
          -0.0328792108,
          null,
          -0.0787438088,
          0.0226989053,
          null,
          -0.0787438088,
          0.0703490806,
          null
         ]
        },
        {
         "hoverinfo": "none",
         "marker": {
          "color": "pink",
          "opacity": 0.5,
          "size": 7
         },
         "mode": "lines",
         "type": "scatter3d",
         "visible": false,
         "x": [
          -0.8009894725,
          0.017249426499999998,
          null,
          -0.8009894725,
          0.0192685813,
          null,
          -0.8009894725,
          -0.0106977409,
          null,
          -0.8009894725,
          0.5219731603,
          null,
          -0.8009894725,
          0.0866399781,
          null,
          -0.8009894725,
          0.9541532273000001,
          null
         ],
         "y": [
          1.919363995,
          -1.1863973559999998,
          null,
          1.919363995,
          0.0140484544,
          null,
          1.919363995,
          1.451080186,
          null,
          1.919363995,
          2.199219564,
          null,
          1.919363995,
          3.166243515,
          null,
          1.919363995,
          1.644677074,
          null
         ],
         "z": [
          -0.5151192469,
          -0.0328792108,
          null,
          -0.5151192469,
          0.0226989053,
          null,
          -0.5151192469,
          0.0703490806,
          null,
          -0.5151192469,
          1.226547893,
          null,
          -0.5151192469,
          1.475160887,
          null,
          -0.5151192469,
          2.057024001,
          null
         ]
        },
        {
         "hoverinfo": "none",
         "marker": {
          "color": "pink",
          "opacity": 0.5,
          "size": 7
         },
         "mode": "lines",
         "type": "scatter3d",
         "visible": false,
         "x": [
          0.0866399781,
          0.9541532273000001,
          null,
          0.0866399781,
          0.0192685813,
          null,
          0.0866399781,
          -0.0106977409,
          null,
          0.0866399781,
          0.5219731603,
          null
         ],
         "y": [
          3.166243515,
          1.644677074,
          null,
          3.166243515,
          0.0140484544,
          null,
          3.166243515,
          1.451080186,
          null,
          3.166243515,
          2.199219564,
          null
         ],
         "z": [
          1.475160887,
          2.057024001,
          null,
          1.475160887,
          0.0226989053,
          null,
          1.475160887,
          0.0703490806,
          null,
          1.475160887,
          1.226547893,
          null
         ]
        },
        {
         "hoverinfo": "none",
         "marker": {
          "color": "pink",
          "opacity": 0.5,
          "size": 7
         },
         "mode": "lines",
         "type": "scatter3d",
         "visible": false,
         "x": [
          0.9541532273000001,
          0.0192685813,
          null,
          0.9541532273000001,
          -0.0106977409,
          null,
          0.9541532273000001,
          0.5219731603,
          null
         ],
         "y": [
          1.644677074,
          0.0140484544,
          null,
          1.644677074,
          1.451080186,
          null,
          1.644677074,
          2.199219564,
          null
         ],
         "z": [
          2.057024001,
          0.0226989053,
          null,
          2.057024001,
          0.0703490806,
          null,
          2.057024001,
          1.226547893,
          null
         ]
        }
       ],
       "layout": {
        "margin": {
         "b": 0,
         "l": 0,
         "r": 0,
         "t": 0
        },
        "scene": {
         "annotations": [
          {
           "font": {
            "color": "blue"
           },
           "showarrow": false,
           "text": "0",
           "x": 0.017249426499999998,
           "y": -1.1863973559999998,
           "yshift": 15,
           "z": -0.0328792108
          },
          {
           "font": {
            "color": "blue"
           },
           "showarrow": false,
           "text": "1",
           "x": 0.0192685813,
           "y": 0.0140484544,
           "yshift": 15,
           "z": 0.0226989053
          },
          {
           "font": {
            "color": "blue"
           },
           "showarrow": false,
           "text": "2",
           "x": -0.0106977409,
           "y": 1.451080186,
           "yshift": 15,
           "z": 0.0703490806
          },
          {
           "font": {
            "color": "blue"
           },
           "showarrow": false,
           "text": "3",
           "x": 0.5219731603,
           "y": 2.199219564,
           "yshift": 15,
           "z": 1.226547893
          },
          {
           "font": {
            "color": "blue"
           },
           "showarrow": false,
           "text": "4",
           "x": 1.246660677,
           "y": 2.1420974459999997,
           "yshift": 15,
           "z": 0.005568350600000001
          },
          {
           "font": {
            "color": "blue"
           },
           "showarrow": false,
           "text": "5",
           "x": 0.0228731533,
           "y": -2.247579949,
           "yshift": 15,
           "z": -0.0787438088
          },
          {
           "font": {
            "color": "blue"
           },
           "showarrow": false,
           "text": "6",
           "x": -0.8009894725,
           "y": 1.919363995,
           "yshift": 15,
           "z": -0.5151192469
          },
          {
           "font": {
            "color": "blue"
           },
           "showarrow": false,
           "text": "7",
           "x": 0.0866399781,
           "y": 3.166243515,
           "yshift": 15,
           "z": 1.475160887
          },
          {
           "font": {
            "color": "blue"
           },
           "showarrow": false,
           "text": "8",
           "x": 0.9541532273000001,
           "y": 1.644677074,
           "yshift": 15,
           "z": 2.057024001
          },
          {
           "showarrow": false,
           "text": "1.2",
           "x": 0.0182590039,
           "y": -0.5861744508,
           "yshift": 10,
           "z": -0.00509015275
          },
          {
           "showarrow": false,
           "text": "1.44",
           "x": 0.0042854202,
           "y": 0.7325643202,
           "yshift": 10,
           "z": 0.04652399295
          },
          {
           "showarrow": false,
           "text": "1.48",
           "x": 0.2556377097,
           "y": 1.825149875,
           "yshift": 10,
           "z": 0.6484484868
          },
          {
           "showarrow": false,
           "text": "1.42",
           "x": 0.88431691865,
           "y": 2.170658505,
           "yshift": 10,
           "z": 0.6160581218
          },
          {
           "showarrow": false,
           "text": "1.44",
           "x": 0.61798146805,
           "y": 1.796588816,
           "yshift": 10,
           "z": 0.0379587156
          },
          {
           "showarrow": false,
           "text": "1.09",
           "x": -0.4058436067,
           "y": 1.6852220905,
           "yshift": 10,
           "z": -0.22238508315
          },
          {
           "showarrow": false,
           "text": "1.09",
           "x": 0.3043065692,
           "y": 2.6827315395,
           "yshift": 10,
           "z": 1.35085439
          },
          {
           "showarrow": false,
           "text": "1.06",
           "x": 0.0200612899,
           "y": -1.7169886525,
           "yshift": 10,
           "z": -0.0558115098
          },
          {
           "showarrow": false,
           "text": "1.09",
           "x": 0.7380631938,
           "y": 1.921948319,
           "yshift": 10,
           "z": 1.641785947
          },
          {
           "font": {
            "color": "hotpink"
           },
           "showarrow": false,
           "text": "197.9",
           "x": 0.0200612899,
           "y": -1.7169886525,
           "yshift": 25,
           "z": -0.0558115098
          },
          {
           "font": {
            "color": "hotpink"
           },
           "showarrow": false,
           "text": "18.15",
           "x": 0.0210708673,
           "y": -1.1167657473,
           "yshift": 25,
           "z": -0.02802245175
          },
          {
           "font": {
            "color": "hotpink"
           },
           "showarrow": false,
           "text": "3.13",
           "x": 0.0060877062,
           "y": -0.3982498815,
           "yshift": 25,
           "z": -0.0041973641
          }
         ],
         "xaxis": {
          "showbackground": false,
          "showgrid": false,
          "showticklabels": false,
          "title": {
           "font": {
            "color": "white"
           }
          },
          "zeroline": false
         },
         "yaxis": {
          "showbackground": false,
          "showgrid": false,
          "showticklabels": false,
          "title": {
           "font": {
            "color": "white"
           }
          },
          "zeroline": false
         },
         "zaxis": {
          "showbackground": false,
          "showgrid": false,
          "showticklabels": false,
          "title": {
           "font": {
            "color": "white"
           }
          },
          "zeroline": false
         }
        },
        "showlegend": false,
        "template": {
         "data": {
          "bar": [
           {
            "error_x": {
             "color": "#2a3f5f"
            },
            "error_y": {
             "color": "#2a3f5f"
            },
            "marker": {
             "line": {
              "color": "#E5ECF6",
              "width": 0.5
             }
            },
            "type": "bar"
           }
          ],
          "barpolar": [
           {
            "marker": {
             "line": {
              "color": "#E5ECF6",
              "width": 0.5
             }
            },
            "type": "barpolar"
           }
          ],
          "carpet": [
           {
            "aaxis": {
             "endlinecolor": "#2a3f5f",
             "gridcolor": "white",
             "linecolor": "white",
             "minorgridcolor": "white",
             "startlinecolor": "#2a3f5f"
            },
            "baxis": {
             "endlinecolor": "#2a3f5f",
             "gridcolor": "white",
             "linecolor": "white",
             "minorgridcolor": "white",
             "startlinecolor": "#2a3f5f"
            },
            "type": "carpet"
           }
          ],
          "choropleth": [
           {
            "colorbar": {
             "outlinewidth": 0,
             "ticks": ""
            },
            "type": "choropleth"
           }
          ],
          "contour": [
           {
            "colorbar": {
             "outlinewidth": 0,
             "ticks": ""
            },
            "colorscale": [
             [
              0,
              "#0d0887"
             ],
             [
              0.1111111111111111,
              "#46039f"
             ],
             [
              0.2222222222222222,
              "#7201a8"
             ],
             [
              0.3333333333333333,
              "#9c179e"
             ],
             [
              0.4444444444444444,
              "#bd3786"
             ],
             [
              0.5555555555555556,
              "#d8576b"
             ],
             [
              0.6666666666666666,
              "#ed7953"
             ],
             [
              0.7777777777777778,
              "#fb9f3a"
             ],
             [
              0.8888888888888888,
              "#fdca26"
             ],
             [
              1,
              "#f0f921"
             ]
            ],
            "type": "contour"
           }
          ],
          "contourcarpet": [
           {
            "colorbar": {
             "outlinewidth": 0,
             "ticks": ""
            },
            "type": "contourcarpet"
           }
          ],
          "heatmap": [
           {
            "colorbar": {
             "outlinewidth": 0,
             "ticks": ""
            },
            "colorscale": [
             [
              0,
              "#0d0887"
             ],
             [
              0.1111111111111111,
              "#46039f"
             ],
             [
              0.2222222222222222,
              "#7201a8"
             ],
             [
              0.3333333333333333,
              "#9c179e"
             ],
             [
              0.4444444444444444,
              "#bd3786"
             ],
             [
              0.5555555555555556,
              "#d8576b"
             ],
             [
              0.6666666666666666,
              "#ed7953"
             ],
             [
              0.7777777777777778,
              "#fb9f3a"
             ],
             [
              0.8888888888888888,
              "#fdca26"
             ],
             [
              1,
              "#f0f921"
             ]
            ],
            "type": "heatmap"
           }
          ],
          "heatmapgl": [
           {
            "colorbar": {
             "outlinewidth": 0,
             "ticks": ""
            },
            "colorscale": [
             [
              0,
              "#0d0887"
             ],
             [
              0.1111111111111111,
              "#46039f"
             ],
             [
              0.2222222222222222,
              "#7201a8"
             ],
             [
              0.3333333333333333,
              "#9c179e"
             ],
             [
              0.4444444444444444,
              "#bd3786"
             ],
             [
              0.5555555555555556,
              "#d8576b"
             ],
             [
              0.6666666666666666,
              "#ed7953"
             ],
             [
              0.7777777777777778,
              "#fb9f3a"
             ],
             [
              0.8888888888888888,
              "#fdca26"
             ],
             [
              1,
              "#f0f921"
             ]
            ],
            "type": "heatmapgl"
           }
          ],
          "histogram": [
           {
            "marker": {
             "colorbar": {
              "outlinewidth": 0,
              "ticks": ""
             }
            },
            "type": "histogram"
           }
          ],
          "histogram2d": [
           {
            "colorbar": {
             "outlinewidth": 0,
             "ticks": ""
            },
            "colorscale": [
             [
              0,
              "#0d0887"
             ],
             [
              0.1111111111111111,
              "#46039f"
             ],
             [
              0.2222222222222222,
              "#7201a8"
             ],
             [
              0.3333333333333333,
              "#9c179e"
             ],
             [
              0.4444444444444444,
              "#bd3786"
             ],
             [
              0.5555555555555556,
              "#d8576b"
             ],
             [
              0.6666666666666666,
              "#ed7953"
             ],
             [
              0.7777777777777778,
              "#fb9f3a"
             ],
             [
              0.8888888888888888,
              "#fdca26"
             ],
             [
              1,
              "#f0f921"
             ]
            ],
            "type": "histogram2d"
           }
          ],
          "histogram2dcontour": [
           {
            "colorbar": {
             "outlinewidth": 0,
             "ticks": ""
            },
            "colorscale": [
             [
              0,
              "#0d0887"
             ],
             [
              0.1111111111111111,
              "#46039f"
             ],
             [
              0.2222222222222222,
              "#7201a8"
             ],
             [
              0.3333333333333333,
              "#9c179e"
             ],
             [
              0.4444444444444444,
              "#bd3786"
             ],
             [
              0.5555555555555556,
              "#d8576b"
             ],
             [
              0.6666666666666666,
              "#ed7953"
             ],
             [
              0.7777777777777778,
              "#fb9f3a"
             ],
             [
              0.8888888888888888,
              "#fdca26"
             ],
             [
              1,
              "#f0f921"
             ]
            ],
            "type": "histogram2dcontour"
           }
          ],
          "mesh3d": [
           {
            "colorbar": {
             "outlinewidth": 0,
             "ticks": ""
            },
            "type": "mesh3d"
           }
          ],
          "parcoords": [
           {
            "line": {
             "colorbar": {
              "outlinewidth": 0,
              "ticks": ""
             }
            },
            "type": "parcoords"
           }
          ],
          "scatter": [
           {
            "marker": {
             "colorbar": {
              "outlinewidth": 0,
              "ticks": ""
             }
            },
            "type": "scatter"
           }
          ],
          "scatter3d": [
           {
            "line": {
             "colorbar": {
              "outlinewidth": 0,
              "ticks": ""
             }
            },
            "marker": {
             "colorbar": {
              "outlinewidth": 0,
              "ticks": ""
             }
            },
            "type": "scatter3d"
           }
          ],
          "scattercarpet": [
           {
            "marker": {
             "colorbar": {
              "outlinewidth": 0,
              "ticks": ""
             }
            },
            "type": "scattercarpet"
           }
          ],
          "scattergeo": [
           {
            "marker": {
             "colorbar": {
              "outlinewidth": 0,
              "ticks": ""
             }
            },
            "type": "scattergeo"
           }
          ],
          "scattergl": [
           {
            "marker": {
             "colorbar": {
              "outlinewidth": 0,
              "ticks": ""
             }
            },
            "type": "scattergl"
           }
          ],
          "scattermapbox": [
           {
            "marker": {
             "colorbar": {
              "outlinewidth": 0,
              "ticks": ""
             }
            },
            "type": "scattermapbox"
           }
          ],
          "scatterpolar": [
           {
            "marker": {
             "colorbar": {
              "outlinewidth": 0,
              "ticks": ""
             }
            },
            "type": "scatterpolar"
           }
          ],
          "scatterpolargl": [
           {
            "marker": {
             "colorbar": {
              "outlinewidth": 0,
              "ticks": ""
             }
            },
            "type": "scatterpolargl"
           }
          ],
          "scatterternary": [
           {
            "marker": {
             "colorbar": {
              "outlinewidth": 0,
              "ticks": ""
             }
            },
            "type": "scatterternary"
           }
          ],
          "surface": [
           {
            "colorbar": {
             "outlinewidth": 0,
             "ticks": ""
            },
            "colorscale": [
             [
              0,
              "#0d0887"
             ],
             [
              0.1111111111111111,
              "#46039f"
             ],
             [
              0.2222222222222222,
              "#7201a8"
             ],
             [
              0.3333333333333333,
              "#9c179e"
             ],
             [
              0.4444444444444444,
              "#bd3786"
             ],
             [
              0.5555555555555556,
              "#d8576b"
             ],
             [
              0.6666666666666666,
              "#ed7953"
             ],
             [
              0.7777777777777778,
              "#fb9f3a"
             ],
             [
              0.8888888888888888,
              "#fdca26"
             ],
             [
              1,
              "#f0f921"
             ]
            ],
            "type": "surface"
           }
          ],
          "table": [
           {
            "cells": {
             "fill": {
              "color": "#EBF0F8"
             },
             "line": {
              "color": "white"
             }
            },
            "header": {
             "fill": {
              "color": "#C8D4E3"
             },
             "line": {
              "color": "white"
             }
            },
            "type": "table"
           }
          ]
         },
         "layout": {
          "annotationdefaults": {
           "arrowcolor": "#2a3f5f",
           "arrowhead": 0,
           "arrowwidth": 1
          },
          "colorscale": {
           "diverging": [
            [
             0,
             "#8e0152"
            ],
            [
             0.1,
             "#c51b7d"
            ],
            [
             0.2,
             "#de77ae"
            ],
            [
             0.3,
             "#f1b6da"
            ],
            [
             0.4,
             "#fde0ef"
            ],
            [
             0.5,
             "#f7f7f7"
            ],
            [
             0.6,
             "#e6f5d0"
            ],
            [
             0.7,
             "#b8e186"
            ],
            [
             0.8,
             "#7fbc41"
            ],
            [
             0.9,
             "#4d9221"
            ],
            [
             1,
             "#276419"
            ]
           ],
           "sequential": [
            [
             0,
             "#0d0887"
            ],
            [
             0.1111111111111111,
             "#46039f"
            ],
            [
             0.2222222222222222,
             "#7201a8"
            ],
            [
             0.3333333333333333,
             "#9c179e"
            ],
            [
             0.4444444444444444,
             "#bd3786"
            ],
            [
             0.5555555555555556,
             "#d8576b"
            ],
            [
             0.6666666666666666,
             "#ed7953"
            ],
            [
             0.7777777777777778,
             "#fb9f3a"
            ],
            [
             0.8888888888888888,
             "#fdca26"
            ],
            [
             1,
             "#f0f921"
            ]
           ],
           "sequentialminus": [
            [
             0,
             "#0d0887"
            ],
            [
             0.1111111111111111,
             "#46039f"
            ],
            [
             0.2222222222222222,
             "#7201a8"
            ],
            [
             0.3333333333333333,
             "#9c179e"
            ],
            [
             0.4444444444444444,
             "#bd3786"
            ],
            [
             0.5555555555555556,
             "#d8576b"
            ],
            [
             0.6666666666666666,
             "#ed7953"
            ],
            [
             0.7777777777777778,
             "#fb9f3a"
            ],
            [
             0.8888888888888888,
             "#fdca26"
            ],
            [
             1,
             "#f0f921"
            ]
           ]
          },
          "colorway": [
           "#636efa",
           "#EF553B",
           "#00cc96",
           "#ab63fa",
           "#FFA15A",
           "#19d3f3",
           "#FF6692",
           "#B6E880",
           "#FF97FF",
           "#FECB52"
          ],
          "font": {
           "color": "#2a3f5f"
          },
          "geo": {
           "bgcolor": "white",
           "lakecolor": "white",
           "landcolor": "#E5ECF6",
           "showlakes": true,
           "showland": true,
           "subunitcolor": "white"
          },
          "hoverlabel": {
           "align": "left"
          },
          "hovermode": "closest",
          "mapbox": {
           "style": "light"
          },
          "paper_bgcolor": "white",
          "plot_bgcolor": "#E5ECF6",
          "polar": {
           "angularaxis": {
            "gridcolor": "white",
            "linecolor": "white",
            "ticks": ""
           },
           "bgcolor": "#E5ECF6",
           "radialaxis": {
            "gridcolor": "white",
            "linecolor": "white",
            "ticks": ""
           }
          },
          "scene": {
           "xaxis": {
            "backgroundcolor": "#E5ECF6",
            "gridcolor": "white",
            "gridwidth": 2,
            "linecolor": "white",
            "showbackground": true,
            "ticks": "",
            "zerolinecolor": "white"
           },
           "yaxis": {
            "backgroundcolor": "#E5ECF6",
            "gridcolor": "white",
            "gridwidth": 2,
            "linecolor": "white",
            "showbackground": true,
            "ticks": "",
            "zerolinecolor": "white"
           },
           "zaxis": {
            "backgroundcolor": "#E5ECF6",
            "gridcolor": "white",
            "gridwidth": 2,
            "linecolor": "white",
            "showbackground": true,
            "ticks": "",
            "zerolinecolor": "white"
           }
          },
          "shapedefaults": {
           "line": {
            "color": "#2a3f5f"
           }
          },
          "ternary": {
           "aaxis": {
            "gridcolor": "white",
            "linecolor": "white",
            "ticks": ""
           },
           "baxis": {
            "gridcolor": "white",
            "linecolor": "white",
            "ticks": ""
           },
           "bgcolor": "#E5ECF6",
           "caxis": {
            "gridcolor": "white",
            "linecolor": "white",
            "ticks": ""
           }
          },
          "title": {
           "x": 0.05
          },
          "xaxis": {
           "automargin": true,
           "gridcolor": "white",
           "linecolor": "white",
           "ticks": "",
           "zerolinecolor": "white",
           "zerolinewidth": 2
          },
          "yaxis": {
           "automargin": true,
           "gridcolor": "white",
           "linecolor": "white",
           "ticks": "",
           "zerolinecolor": "white",
           "zerolinewidth": 2
          }
         }
        },
        "updatemenus": [
         {
          "buttons": [
           {
            "args": [
             {
              "visible": [
               true,
               true,
               true,
               false,
               false,
               false
              ]
             },
             {
              "scene.annotations": [
               {
                "font": {
                 "color": "blue"
                },
                "showarrow": false,
                "text": 0,
                "x": 0.017249426499999998,
                "y": -1.1863973559999998,
                "yshift": 15,
                "z": -0.0328792108
               },
               {
                "font": {
                 "color": "blue"
                },
                "showarrow": false,
                "text": 1,
                "x": 0.0192685813,
                "y": 0.0140484544,
                "yshift": 15,
                "z": 0.0226989053
               },
               {
                "font": {
                 "color": "blue"
                },
                "showarrow": false,
                "text": 2,
                "x": -0.0106977409,
                "y": 1.451080186,
                "yshift": 15,
                "z": 0.0703490806
               },
               {
                "font": {
                 "color": "blue"
                },
                "showarrow": false,
                "text": 3,
                "x": 0.5219731603,
                "y": 2.199219564,
                "yshift": 15,
                "z": 1.226547893
               },
               {
                "font": {
                 "color": "blue"
                },
                "showarrow": false,
                "text": 4,
                "x": 1.246660677,
                "y": 2.1420974459999997,
                "yshift": 15,
                "z": 0.005568350600000001
               },
               {
                "font": {
                 "color": "blue"
                },
                "showarrow": false,
                "text": 5,
                "x": 0.0228731533,
                "y": -2.247579949,
                "yshift": 15,
                "z": -0.0787438088
               },
               {
                "font": {
                 "color": "blue"
                },
                "showarrow": false,
                "text": 6,
                "x": -0.8009894725,
                "y": 1.919363995,
                "yshift": 15,
                "z": -0.5151192469
               },
               {
                "font": {
                 "color": "blue"
                },
                "showarrow": false,
                "text": 7,
                "x": 0.0866399781,
                "y": 3.166243515,
                "yshift": 15,
                "z": 1.475160887
               },
               {
                "font": {
                 "color": "blue"
                },
                "showarrow": false,
                "text": 8,
                "x": 0.9541532273000001,
                "y": 1.644677074,
                "yshift": 15,
                "z": 2.057024001
               },
               {
                "showarrow": false,
                "text": 1.2,
                "x": 0.0182590039,
                "y": -0.5861744508,
                "yshift": 10,
                "z": -0.00509015275
               },
               {
                "showarrow": false,
                "text": 1.44,
                "x": 0.0042854202,
                "y": 0.7325643202,
                "yshift": 10,
                "z": 0.04652399295
               },
               {
                "showarrow": false,
                "text": 1.48,
                "x": 0.2556377097,
                "y": 1.825149875,
                "yshift": 10,
                "z": 0.6484484868
               },
               {
                "showarrow": false,
                "text": 1.42,
                "x": 0.88431691865,
                "y": 2.170658505,
                "yshift": 10,
                "z": 0.6160581218
               },
               {
                "showarrow": false,
                "text": 1.44,
                "x": 0.61798146805,
                "y": 1.796588816,
                "yshift": 10,
                "z": 0.0379587156
               },
               {
                "showarrow": false,
                "text": 1.09,
                "x": -0.4058436067,
                "y": 1.6852220905,
                "yshift": 10,
                "z": -0.22238508315
               },
               {
                "showarrow": false,
                "text": 1.09,
                "x": 0.3043065692,
                "y": 2.6827315395,
                "yshift": 10,
                "z": 1.35085439
               },
               {
                "showarrow": false,
                "text": 1.06,
                "x": 0.0200612899,
                "y": -1.7169886525,
                "yshift": 10,
                "z": -0.0558115098
               },
               {
                "showarrow": false,
                "text": 1.09,
                "x": 0.7380631938,
                "y": 1.921948319,
                "yshift": 10,
                "z": 1.641785947
               },
               {
                "font": {
                 "color": "hotpink"
                },
                "showarrow": false,
                "text": 197.9,
                "x": 0.0200612899,
                "y": -1.7169886525,
                "yshift": 25,
                "z": -0.0558115098
               },
               {
                "font": {
                 "color": "hotpink"
                },
                "showarrow": false,
                "text": 18.15,
                "x": 0.0210708673,
                "y": -1.1167657473,
                "yshift": 25,
                "z": -0.02802245175
               },
               {
                "font": {
                 "color": "hotpink"
                },
                "showarrow": false,
                "text": 3.13,
                "x": 0.0060877062,
                "y": -0.3982498815,
                "yshift": 25,
                "z": -0.0041973641
               }
              ]
             }
            ],
            "label": "Atom 5",
            "method": "update"
           },
           {
            "args": [
             {
              "visible": [
               true,
               true,
               false,
               true,
               false,
               false
              ]
             },
             {
              "scene.annotations": [
               {
                "font": {
                 "color": "blue"
                },
                "showarrow": false,
                "text": 0,
                "x": 0.017249426499999998,
                "y": -1.1863973559999998,
                "yshift": 15,
                "z": -0.0328792108
               },
               {
                "font": {
                 "color": "blue"
                },
                "showarrow": false,
                "text": 1,
                "x": 0.0192685813,
                "y": 0.0140484544,
                "yshift": 15,
                "z": 0.0226989053
               },
               {
                "font": {
                 "color": "blue"
                },
                "showarrow": false,
                "text": 2,
                "x": -0.0106977409,
                "y": 1.451080186,
                "yshift": 15,
                "z": 0.0703490806
               },
               {
                "font": {
                 "color": "blue"
                },
                "showarrow": false,
                "text": 3,
                "x": 0.5219731603,
                "y": 2.199219564,
                "yshift": 15,
                "z": 1.226547893
               },
               {
                "font": {
                 "color": "blue"
                },
                "showarrow": false,
                "text": 4,
                "x": 1.246660677,
                "y": 2.1420974459999997,
                "yshift": 15,
                "z": 0.005568350600000001
               },
               {
                "font": {
                 "color": "blue"
                },
                "showarrow": false,
                "text": 5,
                "x": 0.0228731533,
                "y": -2.247579949,
                "yshift": 15,
                "z": -0.0787438088
               },
               {
                "font": {
                 "color": "blue"
                },
                "showarrow": false,
                "text": 6,
                "x": -0.8009894725,
                "y": 1.919363995,
                "yshift": 15,
                "z": -0.5151192469
               },
               {
                "font": {
                 "color": "blue"
                },
                "showarrow": false,
                "text": 7,
                "x": 0.0866399781,
                "y": 3.166243515,
                "yshift": 15,
                "z": 1.475160887
               },
               {
                "font": {
                 "color": "blue"
                },
                "showarrow": false,
                "text": 8,
                "x": 0.9541532273000001,
                "y": 1.644677074,
                "yshift": 15,
                "z": 2.057024001
               },
               {
                "showarrow": false,
                "text": 1.2,
                "x": 0.0182590039,
                "y": -0.5861744508,
                "yshift": 10,
                "z": -0.00509015275
               },
               {
                "showarrow": false,
                "text": 1.44,
                "x": 0.0042854202,
                "y": 0.7325643202,
                "yshift": 10,
                "z": 0.04652399295
               },
               {
                "showarrow": false,
                "text": 1.48,
                "x": 0.2556377097,
                "y": 1.825149875,
                "yshift": 10,
                "z": 0.6484484868
               },
               {
                "showarrow": false,
                "text": 1.42,
                "x": 0.88431691865,
                "y": 2.170658505,
                "yshift": 10,
                "z": 0.6160581218
               },
               {
                "showarrow": false,
                "text": 1.44,
                "x": 0.61798146805,
                "y": 1.796588816,
                "yshift": 10,
                "z": 0.0379587156
               },
               {
                "showarrow": false,
                "text": 1.09,
                "x": -0.4058436067,
                "y": 1.6852220905,
                "yshift": 10,
                "z": -0.22238508315
               },
               {
                "showarrow": false,
                "text": 1.09,
                "x": 0.3043065692,
                "y": 2.6827315395,
                "yshift": 10,
                "z": 1.35085439
               },
               {
                "showarrow": false,
                "text": 1.06,
                "x": 0.0200612899,
                "y": -1.7169886525,
                "yshift": 10,
                "z": -0.0558115098
               },
               {
                "showarrow": false,
                "text": 1.09,
                "x": 0.7380631938,
                "y": 1.921948319,
                "yshift": 10,
                "z": 1.641785947
               },
               {
                "font": {
                 "color": "hotpink"
                },
                "showarrow": false,
                "text": 3.5,
                "x": -0.391870023,
                "y": 0.3664833195,
                "yshift": 25,
                "z": -0.27399922885
               },
               {
                "font": {
                 "color": "hotpink"
                },
                "showarrow": false,
                "text": 2.67,
                "x": -0.3908604456,
                "y": 0.9667062247,
                "yshift": 25,
                "z": -0.2462101708
               },
               {
                "font": {
                 "color": "hotpink"
                },
                "showarrow": false,
                "text": 127.28,
                "x": -0.4058436067,
                "y": 1.6852220905,
                "yshift": 25,
                "z": -0.22238508315
               },
               {
                "font": {
                 "color": "hotpink"
                },
                "showarrow": false,
                "text": -1.98,
                "x": -0.1395081561,
                "y": 2.0592917795,
                "yshift": 25,
                "z": 0.35571432305
               },
               {
                "font": {
                 "color": "hotpink"
                },
                "showarrow": false,
                "text": 2.27,
                "x": -0.3571747472,
                "y": 2.542803755,
                "yshift": 25,
                "z": 0.48002082005
               },
               {
                "font": {
                 "color": "hotpink"
                },
                "showarrow": false,
                "text": 0.41,
                "x": 0.0765818774,
                "y": 1.7820205345,
                "yshift": 25,
                "z": 0.77095237705
               }
              ]
             }
            ],
            "label": "Atom 6",
            "method": "update"
           },
           {
            "args": [
             {
              "visible": [
               true,
               true,
               false,
               false,
               true,
               false
              ]
             },
             {
              "scene.annotations": [
               {
                "font": {
                 "color": "blue"
                },
                "showarrow": false,
                "text": 0,
                "x": 0.017249426499999998,
                "y": -1.1863973559999998,
                "yshift": 15,
                "z": -0.0328792108
               },
               {
                "font": {
                 "color": "blue"
                },
                "showarrow": false,
                "text": 1,
                "x": 0.0192685813,
                "y": 0.0140484544,
                "yshift": 15,
                "z": 0.0226989053
               },
               {
                "font": {
                 "color": "blue"
                },
                "showarrow": false,
                "text": 2,
                "x": -0.0106977409,
                "y": 1.451080186,
                "yshift": 15,
                "z": 0.0703490806
               },
               {
                "font": {
                 "color": "blue"
                },
                "showarrow": false,
                "text": 3,
                "x": 0.5219731603,
                "y": 2.199219564,
                "yshift": 15,
                "z": 1.226547893
               },
               {
                "font": {
                 "color": "blue"
                },
                "showarrow": false,
                "text": 4,
                "x": 1.246660677,
                "y": 2.1420974459999997,
                "yshift": 15,
                "z": 0.005568350600000001
               },
               {
                "font": {
                 "color": "blue"
                },
                "showarrow": false,
                "text": 5,
                "x": 0.0228731533,
                "y": -2.247579949,
                "yshift": 15,
                "z": -0.0787438088
               },
               {
                "font": {
                 "color": "blue"
                },
                "showarrow": false,
                "text": 6,
                "x": -0.8009894725,
                "y": 1.919363995,
                "yshift": 15,
                "z": -0.5151192469
               },
               {
                "font": {
                 "color": "blue"
                },
                "showarrow": false,
                "text": 7,
                "x": 0.0866399781,
                "y": 3.166243515,
                "yshift": 15,
                "z": 1.475160887
               },
               {
                "font": {
                 "color": "blue"
                },
                "showarrow": false,
                "text": 8,
                "x": 0.9541532273000001,
                "y": 1.644677074,
                "yshift": 15,
                "z": 2.057024001
               },
               {
                "showarrow": false,
                "text": 1.2,
                "x": 0.0182590039,
                "y": -0.5861744508,
                "yshift": 10,
                "z": -0.00509015275
               },
               {
                "showarrow": false,
                "text": 1.44,
                "x": 0.0042854202,
                "y": 0.7325643202,
                "yshift": 10,
                "z": 0.04652399295
               },
               {
                "showarrow": false,
                "text": 1.48,
                "x": 0.2556377097,
                "y": 1.825149875,
                "yshift": 10,
                "z": 0.6484484868
               },
               {
                "showarrow": false,
                "text": 1.42,
                "x": 0.88431691865,
                "y": 2.170658505,
                "yshift": 10,
                "z": 0.6160581218
               },
               {
                "showarrow": false,
                "text": 1.44,
                "x": 0.61798146805,
                "y": 1.796588816,
                "yshift": 10,
                "z": 0.0379587156
               },
               {
                "showarrow": false,
                "text": 1.09,
                "x": -0.4058436067,
                "y": 1.6852220905,
                "yshift": 10,
                "z": -0.22238508315
               },
               {
                "showarrow": false,
                "text": 1.09,
                "x": 0.3043065692,
                "y": 2.6827315395,
                "yshift": 10,
                "z": 1.35085439
               },
               {
                "showarrow": false,
                "text": 1.06,
                "x": 0.0200612899,
                "y": -1.7169886525,
                "yshift": 10,
                "z": -0.0558115098
               },
               {
                "showarrow": false,
                "text": 1.09,
                "x": 0.7380631938,
                "y": 1.921948319,
                "yshift": 10,
                "z": 1.641785947
               },
               {
                "font": {
                 "color": "hotpink"
                },
                "showarrow": false,
                "text": 7.9,
                "x": 0.5203966027,
                "y": 2.4054602945,
                "yshift": 25,
                "z": 1.766092444
               },
               {
                "font": {
                 "color": "hotpink"
                },
                "showarrow": false,
                "text": 1.32,
                "x": 0.0529542797,
                "y": 1.5901459847,
                "yshift": 25,
                "z": 0.74892989615
               },
               {
                "font": {
                 "color": "hotpink"
                },
                "showarrow": false,
                "text": -0.39,
                "x": 0.0379711186,
                "y": 2.3086618505,
                "yshift": 25,
                "z": 0.7727549838
               },
               {
                "font": {
                 "color": "hotpink"
                },
                "showarrow": false,
                "text": 113.35,
                "x": 0.3043065692,
                "y": 2.6827315395,
                "yshift": 25,
                "z": 1.35085439
               }
              ]
             }
            ],
            "label": "Atom 7",
            "method": "update"
           },
           {
            "args": [
             {
              "visible": [
               true,
               true,
               false,
               false,
               false,
               true
              ]
             },
             {
              "scene.annotations": [
               {
                "font": {
                 "color": "blue"
                },
                "showarrow": false,
                "text": 0,
                "x": 0.017249426499999998,
                "y": -1.1863973559999998,
                "yshift": 15,
                "z": -0.0328792108
               },
               {
                "font": {
                 "color": "blue"
                },
                "showarrow": false,
                "text": 1,
                "x": 0.0192685813,
                "y": 0.0140484544,
                "yshift": 15,
                "z": 0.0226989053
               },
               {
                "font": {
                 "color": "blue"
                },
                "showarrow": false,
                "text": 2,
                "x": -0.0106977409,
                "y": 1.451080186,
                "yshift": 15,
                "z": 0.0703490806
               },
               {
                "font": {
                 "color": "blue"
                },
                "showarrow": false,
                "text": 3,
                "x": 0.5219731603,
                "y": 2.199219564,
                "yshift": 15,
                "z": 1.226547893
               },
               {
                "font": {
                 "color": "blue"
                },
                "showarrow": false,
                "text": 4,
                "x": 1.246660677,
                "y": 2.1420974459999997,
                "yshift": 15,
                "z": 0.005568350600000001
               },
               {
                "font": {
                 "color": "blue"
                },
                "showarrow": false,
                "text": 5,
                "x": 0.0228731533,
                "y": -2.247579949,
                "yshift": 15,
                "z": -0.0787438088
               },
               {
                "font": {
                 "color": "blue"
                },
                "showarrow": false,
                "text": 6,
                "x": -0.8009894725,
                "y": 1.919363995,
                "yshift": 15,
                "z": -0.5151192469
               },
               {
                "font": {
                 "color": "blue"
                },
                "showarrow": false,
                "text": 7,
                "x": 0.0866399781,
                "y": 3.166243515,
                "yshift": 15,
                "z": 1.475160887
               },
               {
                "font": {
                 "color": "blue"
                },
                "showarrow": false,
                "text": 8,
                "x": 0.9541532273000001,
                "y": 1.644677074,
                "yshift": 15,
                "z": 2.057024001
               },
               {
                "showarrow": false,
                "text": 1.2,
                "x": 0.0182590039,
                "y": -0.5861744508,
                "yshift": 10,
                "z": -0.00509015275
               },
               {
                "showarrow": false,
                "text": 1.44,
                "x": 0.0042854202,
                "y": 0.7325643202,
                "yshift": 10,
                "z": 0.04652399295
               },
               {
                "showarrow": false,
                "text": 1.48,
                "x": 0.2556377097,
                "y": 1.825149875,
                "yshift": 10,
                "z": 0.6484484868
               },
               {
                "showarrow": false,
                "text": 1.42,
                "x": 0.88431691865,
                "y": 2.170658505,
                "yshift": 10,
                "z": 0.6160581218
               },
               {
                "showarrow": false,
                "text": 1.44,
                "x": 0.61798146805,
                "y": 1.796588816,
                "yshift": 10,
                "z": 0.0379587156
               },
               {
                "showarrow": false,
                "text": 1.09,
                "x": -0.4058436067,
                "y": 1.6852220905,
                "yshift": 10,
                "z": -0.22238508315
               },
               {
                "showarrow": false,
                "text": 1.09,
                "x": 0.3043065692,
                "y": 2.6827315395,
                "yshift": 10,
                "z": 1.35085439
               },
               {
                "showarrow": false,
                "text": 1.06,
                "x": 0.0200612899,
                "y": -1.7169886525,
                "yshift": 10,
                "z": -0.0558115098
               },
               {
                "showarrow": false,
                "text": 1.09,
                "x": 0.7380631938,
                "y": 1.921948319,
                "yshift": 10,
                "z": 1.641785947
               },
               {
                "font": {
                 "color": "hotpink"
                },
                "showarrow": false,
                "text": 2.87,
                "x": 0.4867109043,
                "y": 0.8293627642,
                "yshift": 25,
                "z": 1.03986145315
               },
               {
                "font": {
                 "color": "hotpink"
                },
                "showarrow": false,
                "text": -1.5,
                "x": 0.4717277432,
                "y": 1.54787863,
                "yshift": 25,
                "z": 1.0636865408
               },
               {
                "font": {
                 "color": "hotpink"
                },
                "showarrow": false,
                "text": 116.08,
                "x": 0.7380631938,
                "y": 1.921948319,
                "yshift": 25,
                "z": 1.641785947
               }
              ]
             }
            ],
            "label": "Atom 8",
            "method": "update"
           }
          ],
          "direction": "down",
          "xanchor": "left",
          "yanchor": "top"
         }
        ]
       }
      },
      "text/html": [
       "<div>\n",
       "        \n",
       "        \n",
       "            <div id=\"f2d24435-cf6b-40e8-a312-5e9ac89ba859\" class=\"plotly-graph-div\" style=\"height:525px; width:100%;\"></div>\n",
       "            <script type=\"text/javascript\">\n",
       "                require([\"plotly\"], function(Plotly) {\n",
       "                    window.PLOTLYENV=window.PLOTLYENV || {};\n",
       "                    \n",
       "                if (document.getElementById(\"f2d24435-cf6b-40e8-a312-5e9ac89ba859\")) {\n",
       "                    Plotly.newPlot(\n",
       "                        'f2d24435-cf6b-40e8-a312-5e9ac89ba859',\n",
       "                        [{\"marker\": {\"color\": [\"black\", \"black\", \"black\", \"black\", \"red\", \"white\", \"white\", \"white\", \"white\"], \"line\": {\"color\": \"lightgray\", \"width\": 2}, \"opacity\": 0.8, \"size\": 7, \"symbol\": \"circle\"}, \"mode\": \"markers\", \"name\": \"\", \"text\": [\"C\", \"C\", \"C\", \"C\", \"O\", \"H\", \"H\", \"H\", \"H\"], \"type\": \"scatter3d\", \"x\": [0.017249426499999998, 0.0192685813, -0.0106977409, 0.5219731603, 1.246660677, 0.0228731533, -0.8009894725, 0.0866399781, 0.9541532273000001], \"y\": [-1.1863973559999998, 0.0140484544, 1.451080186, 2.199219564, 2.1420974459999997, -2.247579949, 1.919363995, 3.166243515, 1.644677074], \"z\": [-0.0328792108, 0.0226989053, 0.0703490806, 1.226547893, 0.005568350600000001, -0.0787438088, -0.5151192469, 1.475160887, 2.057024001]}, {\"hoverinfo\": \"none\", \"line\": {\"width\": 3}, \"marker\": {\"color\": \"grey\", \"opacity\": 1, \"size\": 7}, \"mode\": \"lines\", \"type\": \"scatter3d\", \"x\": [0.017249426499999998, 0.0192685813, null, 0.0192685813, -0.0106977409, null, -0.0106977409, 0.5219731603, null, 0.5219731603, 1.246660677, null, -0.0106977409, 1.246660677, null, -0.0106977409, -0.8009894725, null, 0.5219731603, 0.0866399781, null, 0.017249426499999998, 0.0228731533, null, 0.9541532273000001, 0.5219731603, null], \"y\": [-1.1863973559999998, 0.0140484544, null, 0.0140484544, 1.451080186, null, 1.451080186, 2.199219564, null, 2.199219564, 2.1420974459999997, null, 1.451080186, 2.1420974459999997, null, 1.451080186, 1.919363995, null, 2.199219564, 3.166243515, null, -1.1863973559999998, -2.247579949, null, 1.644677074, 2.199219564, null], \"z\": [-0.0328792108, 0.0226989053, null, 0.0226989053, 0.0703490806, null, 0.0703490806, 1.226547893, null, 1.226547893, 0.005568350600000001, null, 0.0703490806, 0.005568350600000001, null, 0.0703490806, -0.5151192469, null, 1.226547893, 1.475160887, null, -0.0328792108, -0.0787438088, null, 2.057024001, 1.226547893, null]}, {\"hoverinfo\": \"none\", \"marker\": {\"color\": \"pink\", \"opacity\": 0.5, \"size\": 7}, \"mode\": \"lines\", \"type\": \"scatter3d\", \"visible\": true, \"x\": [0.0228731533, 0.017249426499999998, null, 0.0228731533, 0.0192685813, null, 0.0228731533, -0.0106977409, null], \"y\": [-2.247579949, -1.1863973559999998, null, -2.247579949, 0.0140484544, null, -2.247579949, 1.451080186, null], \"z\": [-0.0787438088, -0.0328792108, null, -0.0787438088, 0.0226989053, null, -0.0787438088, 0.0703490806, null]}, {\"hoverinfo\": \"none\", \"marker\": {\"color\": \"pink\", \"opacity\": 0.5, \"size\": 7}, \"mode\": \"lines\", \"type\": \"scatter3d\", \"visible\": false, \"x\": [-0.8009894725, 0.017249426499999998, null, -0.8009894725, 0.0192685813, null, -0.8009894725, -0.0106977409, null, -0.8009894725, 0.5219731603, null, -0.8009894725, 0.0866399781, null, -0.8009894725, 0.9541532273000001, null], \"y\": [1.919363995, -1.1863973559999998, null, 1.919363995, 0.0140484544, null, 1.919363995, 1.451080186, null, 1.919363995, 2.199219564, null, 1.919363995, 3.166243515, null, 1.919363995, 1.644677074, null], \"z\": [-0.5151192469, -0.0328792108, null, -0.5151192469, 0.0226989053, null, -0.5151192469, 0.0703490806, null, -0.5151192469, 1.226547893, null, -0.5151192469, 1.475160887, null, -0.5151192469, 2.057024001, null]}, {\"hoverinfo\": \"none\", \"marker\": {\"color\": \"pink\", \"opacity\": 0.5, \"size\": 7}, \"mode\": \"lines\", \"type\": \"scatter3d\", \"visible\": false, \"x\": [0.0866399781, 0.9541532273000001, null, 0.0866399781, 0.0192685813, null, 0.0866399781, -0.0106977409, null, 0.0866399781, 0.5219731603, null], \"y\": [3.166243515, 1.644677074, null, 3.166243515, 0.0140484544, null, 3.166243515, 1.451080186, null, 3.166243515, 2.199219564, null], \"z\": [1.475160887, 2.057024001, null, 1.475160887, 0.0226989053, null, 1.475160887, 0.0703490806, null, 1.475160887, 1.226547893, null]}, {\"hoverinfo\": \"none\", \"marker\": {\"color\": \"pink\", \"opacity\": 0.5, \"size\": 7}, \"mode\": \"lines\", \"type\": \"scatter3d\", \"visible\": false, \"x\": [0.9541532273000001, 0.0192685813, null, 0.9541532273000001, -0.0106977409, null, 0.9541532273000001, 0.5219731603, null], \"y\": [1.644677074, 0.0140484544, null, 1.644677074, 1.451080186, null, 1.644677074, 2.199219564, null], \"z\": [2.057024001, 0.0226989053, null, 2.057024001, 0.0703490806, null, 2.057024001, 1.226547893, null]}],\n",
       "                        {\"margin\": {\"b\": 0, \"l\": 0, \"r\": 0, \"t\": 0}, \"scene\": {\"annotations\": [{\"font\": {\"color\": \"blue\"}, \"showarrow\": false, \"text\": \"0\", \"x\": 0.017249426499999998, \"y\": -1.1863973559999998, \"yshift\": 15, \"z\": -0.0328792108}, {\"font\": {\"color\": \"blue\"}, \"showarrow\": false, \"text\": \"1\", \"x\": 0.0192685813, \"y\": 0.0140484544, \"yshift\": 15, \"z\": 0.0226989053}, {\"font\": {\"color\": \"blue\"}, \"showarrow\": false, \"text\": \"2\", \"x\": -0.0106977409, \"y\": 1.451080186, \"yshift\": 15, \"z\": 0.0703490806}, {\"font\": {\"color\": \"blue\"}, \"showarrow\": false, \"text\": \"3\", \"x\": 0.5219731603, \"y\": 2.199219564, \"yshift\": 15, \"z\": 1.226547893}, {\"font\": {\"color\": \"blue\"}, \"showarrow\": false, \"text\": \"4\", \"x\": 1.246660677, \"y\": 2.1420974459999997, \"yshift\": 15, \"z\": 0.005568350600000001}, {\"font\": {\"color\": \"blue\"}, \"showarrow\": false, \"text\": \"5\", \"x\": 0.0228731533, \"y\": -2.247579949, \"yshift\": 15, \"z\": -0.0787438088}, {\"font\": {\"color\": \"blue\"}, \"showarrow\": false, \"text\": \"6\", \"x\": -0.8009894725, \"y\": 1.919363995, \"yshift\": 15, \"z\": -0.5151192469}, {\"font\": {\"color\": \"blue\"}, \"showarrow\": false, \"text\": \"7\", \"x\": 0.0866399781, \"y\": 3.166243515, \"yshift\": 15, \"z\": 1.475160887}, {\"font\": {\"color\": \"blue\"}, \"showarrow\": false, \"text\": \"8\", \"x\": 0.9541532273000001, \"y\": 1.644677074, \"yshift\": 15, \"z\": 2.057024001}, {\"showarrow\": false, \"text\": \"1.2\", \"x\": 0.0182590039, \"y\": -0.5861744508, \"yshift\": 10, \"z\": -0.00509015275}, {\"showarrow\": false, \"text\": \"1.44\", \"x\": 0.0042854202, \"y\": 0.7325643202, \"yshift\": 10, \"z\": 0.04652399295}, {\"showarrow\": false, \"text\": \"1.48\", \"x\": 0.2556377097, \"y\": 1.825149875, \"yshift\": 10, \"z\": 0.6484484868}, {\"showarrow\": false, \"text\": \"1.42\", \"x\": 0.88431691865, \"y\": 2.170658505, \"yshift\": 10, \"z\": 0.6160581218}, {\"showarrow\": false, \"text\": \"1.44\", \"x\": 0.61798146805, \"y\": 1.796588816, \"yshift\": 10, \"z\": 0.0379587156}, {\"showarrow\": false, \"text\": \"1.09\", \"x\": -0.4058436067, \"y\": 1.6852220905, \"yshift\": 10, \"z\": -0.22238508315}, {\"showarrow\": false, \"text\": \"1.09\", \"x\": 0.3043065692, \"y\": 2.6827315395, \"yshift\": 10, \"z\": 1.35085439}, {\"showarrow\": false, \"text\": \"1.06\", \"x\": 0.0200612899, \"y\": -1.7169886525, \"yshift\": 10, \"z\": -0.0558115098}, {\"showarrow\": false, \"text\": \"1.09\", \"x\": 0.7380631938, \"y\": 1.921948319, \"yshift\": 10, \"z\": 1.641785947}, {\"font\": {\"color\": \"hotpink\"}, \"showarrow\": false, \"text\": \"197.9\", \"x\": 0.0200612899, \"y\": -1.7169886525, \"yshift\": 25, \"z\": -0.0558115098}, {\"font\": {\"color\": \"hotpink\"}, \"showarrow\": false, \"text\": \"18.15\", \"x\": 0.0210708673, \"y\": -1.1167657473, \"yshift\": 25, \"z\": -0.02802245175}, {\"font\": {\"color\": \"hotpink\"}, \"showarrow\": false, \"text\": \"3.13\", \"x\": 0.0060877062, \"y\": -0.3982498815, \"yshift\": 25, \"z\": -0.0041973641}], \"xaxis\": {\"showbackground\": false, \"showgrid\": false, \"showticklabels\": false, \"title\": {\"font\": {\"color\": \"white\"}}, \"zeroline\": false}, \"yaxis\": {\"showbackground\": false, \"showgrid\": false, \"showticklabels\": false, \"title\": {\"font\": {\"color\": \"white\"}}, \"zeroline\": false}, \"zaxis\": {\"showbackground\": false, \"showgrid\": false, \"showticklabels\": false, \"title\": {\"font\": {\"color\": \"white\"}}, \"zeroline\": false}}, \"showlegend\": false, \"template\": {\"data\": {\"bar\": [{\"error_x\": {\"color\": \"#2a3f5f\"}, \"error_y\": {\"color\": \"#2a3f5f\"}, \"marker\": {\"line\": {\"color\": \"#E5ECF6\", \"width\": 0.5}}, \"type\": \"bar\"}], \"barpolar\": [{\"marker\": {\"line\": {\"color\": \"#E5ECF6\", \"width\": 0.5}}, \"type\": \"barpolar\"}], \"carpet\": [{\"aaxis\": {\"endlinecolor\": \"#2a3f5f\", \"gridcolor\": \"white\", \"linecolor\": \"white\", \"minorgridcolor\": \"white\", \"startlinecolor\": \"#2a3f5f\"}, \"baxis\": {\"endlinecolor\": \"#2a3f5f\", \"gridcolor\": \"white\", \"linecolor\": \"white\", \"minorgridcolor\": \"white\", \"startlinecolor\": \"#2a3f5f\"}, \"type\": \"carpet\"}], \"choropleth\": [{\"colorbar\": {\"outlinewidth\": 0, \"ticks\": \"\"}, \"type\": \"choropleth\"}], \"contour\": [{\"colorbar\": {\"outlinewidth\": 0, \"ticks\": \"\"}, \"colorscale\": [[0.0, \"#0d0887\"], [0.1111111111111111, \"#46039f\"], [0.2222222222222222, \"#7201a8\"], [0.3333333333333333, \"#9c179e\"], [0.4444444444444444, \"#bd3786\"], [0.5555555555555556, \"#d8576b\"], [0.6666666666666666, \"#ed7953\"], [0.7777777777777778, \"#fb9f3a\"], [0.8888888888888888, \"#fdca26\"], [1.0, \"#f0f921\"]], \"type\": \"contour\"}], \"contourcarpet\": [{\"colorbar\": {\"outlinewidth\": 0, \"ticks\": \"\"}, \"type\": \"contourcarpet\"}], \"heatmap\": [{\"colorbar\": {\"outlinewidth\": 0, \"ticks\": \"\"}, \"colorscale\": [[0.0, \"#0d0887\"], [0.1111111111111111, \"#46039f\"], [0.2222222222222222, \"#7201a8\"], [0.3333333333333333, \"#9c179e\"], [0.4444444444444444, \"#bd3786\"], [0.5555555555555556, \"#d8576b\"], [0.6666666666666666, \"#ed7953\"], [0.7777777777777778, \"#fb9f3a\"], [0.8888888888888888, \"#fdca26\"], [1.0, \"#f0f921\"]], \"type\": \"heatmap\"}], \"heatmapgl\": [{\"colorbar\": {\"outlinewidth\": 0, \"ticks\": \"\"}, \"colorscale\": [[0.0, \"#0d0887\"], [0.1111111111111111, \"#46039f\"], [0.2222222222222222, \"#7201a8\"], [0.3333333333333333, \"#9c179e\"], [0.4444444444444444, \"#bd3786\"], [0.5555555555555556, \"#d8576b\"], [0.6666666666666666, \"#ed7953\"], [0.7777777777777778, \"#fb9f3a\"], [0.8888888888888888, \"#fdca26\"], [1.0, \"#f0f921\"]], \"type\": \"heatmapgl\"}], \"histogram\": [{\"marker\": {\"colorbar\": {\"outlinewidth\": 0, \"ticks\": \"\"}}, \"type\": \"histogram\"}], \"histogram2d\": [{\"colorbar\": {\"outlinewidth\": 0, \"ticks\": \"\"}, \"colorscale\": [[0.0, \"#0d0887\"], [0.1111111111111111, \"#46039f\"], [0.2222222222222222, \"#7201a8\"], [0.3333333333333333, \"#9c179e\"], [0.4444444444444444, \"#bd3786\"], [0.5555555555555556, \"#d8576b\"], [0.6666666666666666, \"#ed7953\"], [0.7777777777777778, \"#fb9f3a\"], [0.8888888888888888, \"#fdca26\"], [1.0, \"#f0f921\"]], \"type\": \"histogram2d\"}], \"histogram2dcontour\": [{\"colorbar\": {\"outlinewidth\": 0, \"ticks\": \"\"}, \"colorscale\": [[0.0, \"#0d0887\"], [0.1111111111111111, \"#46039f\"], [0.2222222222222222, \"#7201a8\"], [0.3333333333333333, \"#9c179e\"], [0.4444444444444444, \"#bd3786\"], [0.5555555555555556, \"#d8576b\"], [0.6666666666666666, \"#ed7953\"], [0.7777777777777778, \"#fb9f3a\"], [0.8888888888888888, \"#fdca26\"], [1.0, \"#f0f921\"]], \"type\": \"histogram2dcontour\"}], \"mesh3d\": [{\"colorbar\": {\"outlinewidth\": 0, \"ticks\": \"\"}, \"type\": \"mesh3d\"}], \"parcoords\": [{\"line\": {\"colorbar\": {\"outlinewidth\": 0, \"ticks\": \"\"}}, \"type\": \"parcoords\"}], \"scatter\": [{\"marker\": {\"colorbar\": {\"outlinewidth\": 0, \"ticks\": \"\"}}, \"type\": \"scatter\"}], \"scatter3d\": [{\"line\": {\"colorbar\": {\"outlinewidth\": 0, \"ticks\": \"\"}}, \"marker\": {\"colorbar\": {\"outlinewidth\": 0, \"ticks\": \"\"}}, \"type\": \"scatter3d\"}], \"scattercarpet\": [{\"marker\": {\"colorbar\": {\"outlinewidth\": 0, \"ticks\": \"\"}}, \"type\": \"scattercarpet\"}], \"scattergeo\": [{\"marker\": {\"colorbar\": {\"outlinewidth\": 0, \"ticks\": \"\"}}, \"type\": \"scattergeo\"}], \"scattergl\": [{\"marker\": {\"colorbar\": {\"outlinewidth\": 0, \"ticks\": \"\"}}, \"type\": \"scattergl\"}], \"scattermapbox\": [{\"marker\": {\"colorbar\": {\"outlinewidth\": 0, \"ticks\": \"\"}}, \"type\": \"scattermapbox\"}], \"scatterpolar\": [{\"marker\": {\"colorbar\": {\"outlinewidth\": 0, \"ticks\": \"\"}}, \"type\": \"scatterpolar\"}], \"scatterpolargl\": [{\"marker\": {\"colorbar\": {\"outlinewidth\": 0, \"ticks\": \"\"}}, \"type\": \"scatterpolargl\"}], \"scatterternary\": [{\"marker\": {\"colorbar\": {\"outlinewidth\": 0, \"ticks\": \"\"}}, \"type\": \"scatterternary\"}], \"surface\": [{\"colorbar\": {\"outlinewidth\": 0, \"ticks\": \"\"}, \"colorscale\": [[0.0, \"#0d0887\"], [0.1111111111111111, \"#46039f\"], [0.2222222222222222, \"#7201a8\"], [0.3333333333333333, \"#9c179e\"], [0.4444444444444444, \"#bd3786\"], [0.5555555555555556, \"#d8576b\"], [0.6666666666666666, \"#ed7953\"], [0.7777777777777778, \"#fb9f3a\"], [0.8888888888888888, \"#fdca26\"], [1.0, \"#f0f921\"]], \"type\": \"surface\"}], \"table\": [{\"cells\": {\"fill\": {\"color\": \"#EBF0F8\"}, \"line\": {\"color\": \"white\"}}, \"header\": {\"fill\": {\"color\": \"#C8D4E3\"}, \"line\": {\"color\": \"white\"}}, \"type\": \"table\"}]}, \"layout\": {\"annotationdefaults\": {\"arrowcolor\": \"#2a3f5f\", \"arrowhead\": 0, \"arrowwidth\": 1}, \"colorscale\": {\"diverging\": [[0, \"#8e0152\"], [0.1, \"#c51b7d\"], [0.2, \"#de77ae\"], [0.3, \"#f1b6da\"], [0.4, \"#fde0ef\"], [0.5, \"#f7f7f7\"], [0.6, \"#e6f5d0\"], [0.7, \"#b8e186\"], [0.8, \"#7fbc41\"], [0.9, \"#4d9221\"], [1, \"#276419\"]], \"sequential\": [[0.0, \"#0d0887\"], [0.1111111111111111, \"#46039f\"], [0.2222222222222222, \"#7201a8\"], [0.3333333333333333, \"#9c179e\"], [0.4444444444444444, \"#bd3786\"], [0.5555555555555556, \"#d8576b\"], [0.6666666666666666, \"#ed7953\"], [0.7777777777777778, \"#fb9f3a\"], [0.8888888888888888, \"#fdca26\"], [1.0, \"#f0f921\"]], \"sequentialminus\": [[0.0, \"#0d0887\"], [0.1111111111111111, \"#46039f\"], [0.2222222222222222, \"#7201a8\"], [0.3333333333333333, \"#9c179e\"], [0.4444444444444444, \"#bd3786\"], [0.5555555555555556, \"#d8576b\"], [0.6666666666666666, \"#ed7953\"], [0.7777777777777778, \"#fb9f3a\"], [0.8888888888888888, \"#fdca26\"], [1.0, \"#f0f921\"]]}, \"colorway\": [\"#636efa\", \"#EF553B\", \"#00cc96\", \"#ab63fa\", \"#FFA15A\", \"#19d3f3\", \"#FF6692\", \"#B6E880\", \"#FF97FF\", \"#FECB52\"], \"font\": {\"color\": \"#2a3f5f\"}, \"geo\": {\"bgcolor\": \"white\", \"lakecolor\": \"white\", \"landcolor\": \"#E5ECF6\", \"showlakes\": true, \"showland\": true, \"subunitcolor\": \"white\"}, \"hoverlabel\": {\"align\": \"left\"}, \"hovermode\": \"closest\", \"mapbox\": {\"style\": \"light\"}, \"paper_bgcolor\": \"white\", \"plot_bgcolor\": \"#E5ECF6\", \"polar\": {\"angularaxis\": {\"gridcolor\": \"white\", \"linecolor\": \"white\", \"ticks\": \"\"}, \"bgcolor\": \"#E5ECF6\", \"radialaxis\": {\"gridcolor\": \"white\", \"linecolor\": \"white\", \"ticks\": \"\"}}, \"scene\": {\"xaxis\": {\"backgroundcolor\": \"#E5ECF6\", \"gridcolor\": \"white\", \"gridwidth\": 2, \"linecolor\": \"white\", \"showbackground\": true, \"ticks\": \"\", \"zerolinecolor\": \"white\"}, \"yaxis\": {\"backgroundcolor\": \"#E5ECF6\", \"gridcolor\": \"white\", \"gridwidth\": 2, \"linecolor\": \"white\", \"showbackground\": true, \"ticks\": \"\", \"zerolinecolor\": \"white\"}, \"zaxis\": {\"backgroundcolor\": \"#E5ECF6\", \"gridcolor\": \"white\", \"gridwidth\": 2, \"linecolor\": \"white\", \"showbackground\": true, \"ticks\": \"\", \"zerolinecolor\": \"white\"}}, \"shapedefaults\": {\"line\": {\"color\": \"#2a3f5f\"}}, \"ternary\": {\"aaxis\": {\"gridcolor\": \"white\", \"linecolor\": \"white\", \"ticks\": \"\"}, \"baxis\": {\"gridcolor\": \"white\", \"linecolor\": \"white\", \"ticks\": \"\"}, \"bgcolor\": \"#E5ECF6\", \"caxis\": {\"gridcolor\": \"white\", \"linecolor\": \"white\", \"ticks\": \"\"}}, \"title\": {\"x\": 0.05}, \"xaxis\": {\"automargin\": true, \"gridcolor\": \"white\", \"linecolor\": \"white\", \"ticks\": \"\", \"zerolinecolor\": \"white\", \"zerolinewidth\": 2}, \"yaxis\": {\"automargin\": true, \"gridcolor\": \"white\", \"linecolor\": \"white\", \"ticks\": \"\", \"zerolinecolor\": \"white\", \"zerolinewidth\": 2}}}, \"updatemenus\": [{\"buttons\": [{\"args\": [{\"visible\": [true, true, true, false, false, false]}, {\"scene.annotations\": [{\"font\": {\"color\": \"blue\"}, \"showarrow\": false, \"text\": 0, \"x\": 0.017249426499999998, \"y\": -1.1863973559999998, \"yshift\": 15, \"z\": -0.0328792108}, {\"font\": {\"color\": \"blue\"}, \"showarrow\": false, \"text\": 1, \"x\": 0.0192685813, \"y\": 0.0140484544, \"yshift\": 15, \"z\": 0.0226989053}, {\"font\": {\"color\": \"blue\"}, \"showarrow\": false, \"text\": 2, \"x\": -0.0106977409, \"y\": 1.451080186, \"yshift\": 15, \"z\": 0.0703490806}, {\"font\": {\"color\": \"blue\"}, \"showarrow\": false, \"text\": 3, \"x\": 0.5219731603, \"y\": 2.199219564, \"yshift\": 15, \"z\": 1.226547893}, {\"font\": {\"color\": \"blue\"}, \"showarrow\": false, \"text\": 4, \"x\": 1.246660677, \"y\": 2.1420974459999997, \"yshift\": 15, \"z\": 0.005568350600000001}, {\"font\": {\"color\": \"blue\"}, \"showarrow\": false, \"text\": 5, \"x\": 0.0228731533, \"y\": -2.247579949, \"yshift\": 15, \"z\": -0.0787438088}, {\"font\": {\"color\": \"blue\"}, \"showarrow\": false, \"text\": 6, \"x\": -0.8009894725, \"y\": 1.919363995, \"yshift\": 15, \"z\": -0.5151192469}, {\"font\": {\"color\": \"blue\"}, \"showarrow\": false, \"text\": 7, \"x\": 0.0866399781, \"y\": 3.166243515, \"yshift\": 15, \"z\": 1.475160887}, {\"font\": {\"color\": \"blue\"}, \"showarrow\": false, \"text\": 8, \"x\": 0.9541532273000001, \"y\": 1.644677074, \"yshift\": 15, \"z\": 2.057024001}, {\"showarrow\": false, \"text\": 1.2, \"x\": 0.0182590039, \"y\": -0.5861744508, \"yshift\": 10, \"z\": -0.00509015275}, {\"showarrow\": false, \"text\": 1.44, \"x\": 0.0042854202, \"y\": 0.7325643202, \"yshift\": 10, \"z\": 0.04652399295}, {\"showarrow\": false, \"text\": 1.48, \"x\": 0.2556377097, \"y\": 1.825149875, \"yshift\": 10, \"z\": 0.6484484868}, {\"showarrow\": false, \"text\": 1.42, \"x\": 0.88431691865, \"y\": 2.170658505, \"yshift\": 10, \"z\": 0.6160581218}, {\"showarrow\": false, \"text\": 1.44, \"x\": 0.61798146805, \"y\": 1.796588816, \"yshift\": 10, \"z\": 0.0379587156}, {\"showarrow\": false, \"text\": 1.09, \"x\": -0.4058436067, \"y\": 1.6852220905, \"yshift\": 10, \"z\": -0.22238508315}, {\"showarrow\": false, \"text\": 1.09, \"x\": 0.3043065692, \"y\": 2.6827315395, \"yshift\": 10, \"z\": 1.35085439}, {\"showarrow\": false, \"text\": 1.06, \"x\": 0.0200612899, \"y\": -1.7169886525, \"yshift\": 10, \"z\": -0.0558115098}, {\"showarrow\": false, \"text\": 1.09, \"x\": 0.7380631938, \"y\": 1.921948319, \"yshift\": 10, \"z\": 1.641785947}, {\"font\": {\"color\": \"hotpink\"}, \"showarrow\": false, \"text\": 197.9, \"x\": 0.0200612899, \"y\": -1.7169886525, \"yshift\": 25, \"z\": -0.0558115098}, {\"font\": {\"color\": \"hotpink\"}, \"showarrow\": false, \"text\": 18.15, \"x\": 0.0210708673, \"y\": -1.1167657473, \"yshift\": 25, \"z\": -0.02802245175}, {\"font\": {\"color\": \"hotpink\"}, \"showarrow\": false, \"text\": 3.13, \"x\": 0.0060877062, \"y\": -0.3982498815, \"yshift\": 25, \"z\": -0.0041973641}]}], \"label\": \"Atom 5\", \"method\": \"update\"}, {\"args\": [{\"visible\": [true, true, false, true, false, false]}, {\"scene.annotations\": [{\"font\": {\"color\": \"blue\"}, \"showarrow\": false, \"text\": 0, \"x\": 0.017249426499999998, \"y\": -1.1863973559999998, \"yshift\": 15, \"z\": -0.0328792108}, {\"font\": {\"color\": \"blue\"}, \"showarrow\": false, \"text\": 1, \"x\": 0.0192685813, \"y\": 0.0140484544, \"yshift\": 15, \"z\": 0.0226989053}, {\"font\": {\"color\": \"blue\"}, \"showarrow\": false, \"text\": 2, \"x\": -0.0106977409, \"y\": 1.451080186, \"yshift\": 15, \"z\": 0.0703490806}, {\"font\": {\"color\": \"blue\"}, \"showarrow\": false, \"text\": 3, \"x\": 0.5219731603, \"y\": 2.199219564, \"yshift\": 15, \"z\": 1.226547893}, {\"font\": {\"color\": \"blue\"}, \"showarrow\": false, \"text\": 4, \"x\": 1.246660677, \"y\": 2.1420974459999997, \"yshift\": 15, \"z\": 0.005568350600000001}, {\"font\": {\"color\": \"blue\"}, \"showarrow\": false, \"text\": 5, \"x\": 0.0228731533, \"y\": -2.247579949, \"yshift\": 15, \"z\": -0.0787438088}, {\"font\": {\"color\": \"blue\"}, \"showarrow\": false, \"text\": 6, \"x\": -0.8009894725, \"y\": 1.919363995, \"yshift\": 15, \"z\": -0.5151192469}, {\"font\": {\"color\": \"blue\"}, \"showarrow\": false, \"text\": 7, \"x\": 0.0866399781, \"y\": 3.166243515, \"yshift\": 15, \"z\": 1.475160887}, {\"font\": {\"color\": \"blue\"}, \"showarrow\": false, \"text\": 8, \"x\": 0.9541532273000001, \"y\": 1.644677074, \"yshift\": 15, \"z\": 2.057024001}, {\"showarrow\": false, \"text\": 1.2, \"x\": 0.0182590039, \"y\": -0.5861744508, \"yshift\": 10, \"z\": -0.00509015275}, {\"showarrow\": false, \"text\": 1.44, \"x\": 0.0042854202, \"y\": 0.7325643202, \"yshift\": 10, \"z\": 0.04652399295}, {\"showarrow\": false, \"text\": 1.48, \"x\": 0.2556377097, \"y\": 1.825149875, \"yshift\": 10, \"z\": 0.6484484868}, {\"showarrow\": false, \"text\": 1.42, \"x\": 0.88431691865, \"y\": 2.170658505, \"yshift\": 10, \"z\": 0.6160581218}, {\"showarrow\": false, \"text\": 1.44, \"x\": 0.61798146805, \"y\": 1.796588816, \"yshift\": 10, \"z\": 0.0379587156}, {\"showarrow\": false, \"text\": 1.09, \"x\": -0.4058436067, \"y\": 1.6852220905, \"yshift\": 10, \"z\": -0.22238508315}, {\"showarrow\": false, \"text\": 1.09, \"x\": 0.3043065692, \"y\": 2.6827315395, \"yshift\": 10, \"z\": 1.35085439}, {\"showarrow\": false, \"text\": 1.06, \"x\": 0.0200612899, \"y\": -1.7169886525, \"yshift\": 10, \"z\": -0.0558115098}, {\"showarrow\": false, \"text\": 1.09, \"x\": 0.7380631938, \"y\": 1.921948319, \"yshift\": 10, \"z\": 1.641785947}, {\"font\": {\"color\": \"hotpink\"}, \"showarrow\": false, \"text\": 3.5, \"x\": -0.391870023, \"y\": 0.3664833195, \"yshift\": 25, \"z\": -0.27399922885}, {\"font\": {\"color\": \"hotpink\"}, \"showarrow\": false, \"text\": 2.67, \"x\": -0.3908604456, \"y\": 0.9667062247, \"yshift\": 25, \"z\": -0.2462101708}, {\"font\": {\"color\": \"hotpink\"}, \"showarrow\": false, \"text\": 127.28, \"x\": -0.4058436067, \"y\": 1.6852220905, \"yshift\": 25, \"z\": -0.22238508315}, {\"font\": {\"color\": \"hotpink\"}, \"showarrow\": false, \"text\": -1.98, \"x\": -0.1395081561, \"y\": 2.0592917795, \"yshift\": 25, \"z\": 0.35571432305}, {\"font\": {\"color\": \"hotpink\"}, \"showarrow\": false, \"text\": 2.27, \"x\": -0.3571747472, \"y\": 2.542803755, \"yshift\": 25, \"z\": 0.48002082005}, {\"font\": {\"color\": \"hotpink\"}, \"showarrow\": false, \"text\": 0.41, \"x\": 0.0765818774, \"y\": 1.7820205345, \"yshift\": 25, \"z\": 0.77095237705}]}], \"label\": \"Atom 6\", \"method\": \"update\"}, {\"args\": [{\"visible\": [true, true, false, false, true, false]}, {\"scene.annotations\": [{\"font\": {\"color\": \"blue\"}, \"showarrow\": false, \"text\": 0, \"x\": 0.017249426499999998, \"y\": -1.1863973559999998, \"yshift\": 15, \"z\": -0.0328792108}, {\"font\": {\"color\": \"blue\"}, \"showarrow\": false, \"text\": 1, \"x\": 0.0192685813, \"y\": 0.0140484544, \"yshift\": 15, \"z\": 0.0226989053}, {\"font\": {\"color\": \"blue\"}, \"showarrow\": false, \"text\": 2, \"x\": -0.0106977409, \"y\": 1.451080186, \"yshift\": 15, \"z\": 0.0703490806}, {\"font\": {\"color\": \"blue\"}, \"showarrow\": false, \"text\": 3, \"x\": 0.5219731603, \"y\": 2.199219564, \"yshift\": 15, \"z\": 1.226547893}, {\"font\": {\"color\": \"blue\"}, \"showarrow\": false, \"text\": 4, \"x\": 1.246660677, \"y\": 2.1420974459999997, \"yshift\": 15, \"z\": 0.005568350600000001}, {\"font\": {\"color\": \"blue\"}, \"showarrow\": false, \"text\": 5, \"x\": 0.0228731533, \"y\": -2.247579949, \"yshift\": 15, \"z\": -0.0787438088}, {\"font\": {\"color\": \"blue\"}, \"showarrow\": false, \"text\": 6, \"x\": -0.8009894725, \"y\": 1.919363995, \"yshift\": 15, \"z\": -0.5151192469}, {\"font\": {\"color\": \"blue\"}, \"showarrow\": false, \"text\": 7, \"x\": 0.0866399781, \"y\": 3.166243515, \"yshift\": 15, \"z\": 1.475160887}, {\"font\": {\"color\": \"blue\"}, \"showarrow\": false, \"text\": 8, \"x\": 0.9541532273000001, \"y\": 1.644677074, \"yshift\": 15, \"z\": 2.057024001}, {\"showarrow\": false, \"text\": 1.2, \"x\": 0.0182590039, \"y\": -0.5861744508, \"yshift\": 10, \"z\": -0.00509015275}, {\"showarrow\": false, \"text\": 1.44, \"x\": 0.0042854202, \"y\": 0.7325643202, \"yshift\": 10, \"z\": 0.04652399295}, {\"showarrow\": false, \"text\": 1.48, \"x\": 0.2556377097, \"y\": 1.825149875, \"yshift\": 10, \"z\": 0.6484484868}, {\"showarrow\": false, \"text\": 1.42, \"x\": 0.88431691865, \"y\": 2.170658505, \"yshift\": 10, \"z\": 0.6160581218}, {\"showarrow\": false, \"text\": 1.44, \"x\": 0.61798146805, \"y\": 1.796588816, \"yshift\": 10, \"z\": 0.0379587156}, {\"showarrow\": false, \"text\": 1.09, \"x\": -0.4058436067, \"y\": 1.6852220905, \"yshift\": 10, \"z\": -0.22238508315}, {\"showarrow\": false, \"text\": 1.09, \"x\": 0.3043065692, \"y\": 2.6827315395, \"yshift\": 10, \"z\": 1.35085439}, {\"showarrow\": false, \"text\": 1.06, \"x\": 0.0200612899, \"y\": -1.7169886525, \"yshift\": 10, \"z\": -0.0558115098}, {\"showarrow\": false, \"text\": 1.09, \"x\": 0.7380631938, \"y\": 1.921948319, \"yshift\": 10, \"z\": 1.641785947}, {\"font\": {\"color\": \"hotpink\"}, \"showarrow\": false, \"text\": 7.9, \"x\": 0.5203966027, \"y\": 2.4054602945, \"yshift\": 25, \"z\": 1.766092444}, {\"font\": {\"color\": \"hotpink\"}, \"showarrow\": false, \"text\": 1.32, \"x\": 0.0529542797, \"y\": 1.5901459847, \"yshift\": 25, \"z\": 0.74892989615}, {\"font\": {\"color\": \"hotpink\"}, \"showarrow\": false, \"text\": -0.39, \"x\": 0.0379711186, \"y\": 2.3086618505, \"yshift\": 25, \"z\": 0.7727549838}, {\"font\": {\"color\": \"hotpink\"}, \"showarrow\": false, \"text\": 113.35, \"x\": 0.3043065692, \"y\": 2.6827315395, \"yshift\": 25, \"z\": 1.35085439}]}], \"label\": \"Atom 7\", \"method\": \"update\"}, {\"args\": [{\"visible\": [true, true, false, false, false, true]}, {\"scene.annotations\": [{\"font\": {\"color\": \"blue\"}, \"showarrow\": false, \"text\": 0, \"x\": 0.017249426499999998, \"y\": -1.1863973559999998, \"yshift\": 15, \"z\": -0.0328792108}, {\"font\": {\"color\": \"blue\"}, \"showarrow\": false, \"text\": 1, \"x\": 0.0192685813, \"y\": 0.0140484544, \"yshift\": 15, \"z\": 0.0226989053}, {\"font\": {\"color\": \"blue\"}, \"showarrow\": false, \"text\": 2, \"x\": -0.0106977409, \"y\": 1.451080186, \"yshift\": 15, \"z\": 0.0703490806}, {\"font\": {\"color\": \"blue\"}, \"showarrow\": false, \"text\": 3, \"x\": 0.5219731603, \"y\": 2.199219564, \"yshift\": 15, \"z\": 1.226547893}, {\"font\": {\"color\": \"blue\"}, \"showarrow\": false, \"text\": 4, \"x\": 1.246660677, \"y\": 2.1420974459999997, \"yshift\": 15, \"z\": 0.005568350600000001}, {\"font\": {\"color\": \"blue\"}, \"showarrow\": false, \"text\": 5, \"x\": 0.0228731533, \"y\": -2.247579949, \"yshift\": 15, \"z\": -0.0787438088}, {\"font\": {\"color\": \"blue\"}, \"showarrow\": false, \"text\": 6, \"x\": -0.8009894725, \"y\": 1.919363995, \"yshift\": 15, \"z\": -0.5151192469}, {\"font\": {\"color\": \"blue\"}, \"showarrow\": false, \"text\": 7, \"x\": 0.0866399781, \"y\": 3.166243515, \"yshift\": 15, \"z\": 1.475160887}, {\"font\": {\"color\": \"blue\"}, \"showarrow\": false, \"text\": 8, \"x\": 0.9541532273000001, \"y\": 1.644677074, \"yshift\": 15, \"z\": 2.057024001}, {\"showarrow\": false, \"text\": 1.2, \"x\": 0.0182590039, \"y\": -0.5861744508, \"yshift\": 10, \"z\": -0.00509015275}, {\"showarrow\": false, \"text\": 1.44, \"x\": 0.0042854202, \"y\": 0.7325643202, \"yshift\": 10, \"z\": 0.04652399295}, {\"showarrow\": false, \"text\": 1.48, \"x\": 0.2556377097, \"y\": 1.825149875, \"yshift\": 10, \"z\": 0.6484484868}, {\"showarrow\": false, \"text\": 1.42, \"x\": 0.88431691865, \"y\": 2.170658505, \"yshift\": 10, \"z\": 0.6160581218}, {\"showarrow\": false, \"text\": 1.44, \"x\": 0.61798146805, \"y\": 1.796588816, \"yshift\": 10, \"z\": 0.0379587156}, {\"showarrow\": false, \"text\": 1.09, \"x\": -0.4058436067, \"y\": 1.6852220905, \"yshift\": 10, \"z\": -0.22238508315}, {\"showarrow\": false, \"text\": 1.09, \"x\": 0.3043065692, \"y\": 2.6827315395, \"yshift\": 10, \"z\": 1.35085439}, {\"showarrow\": false, \"text\": 1.06, \"x\": 0.0200612899, \"y\": -1.7169886525, \"yshift\": 10, \"z\": -0.0558115098}, {\"showarrow\": false, \"text\": 1.09, \"x\": 0.7380631938, \"y\": 1.921948319, \"yshift\": 10, \"z\": 1.641785947}, {\"font\": {\"color\": \"hotpink\"}, \"showarrow\": false, \"text\": 2.87, \"x\": 0.4867109043, \"y\": 0.8293627642, \"yshift\": 25, \"z\": 1.03986145315}, {\"font\": {\"color\": \"hotpink\"}, \"showarrow\": false, \"text\": -1.5, \"x\": 0.4717277432, \"y\": 1.54787863, \"yshift\": 25, \"z\": 1.0636865408}, {\"font\": {\"color\": \"hotpink\"}, \"showarrow\": false, \"text\": 116.08, \"x\": 0.7380631938, \"y\": 1.921948319, \"yshift\": 25, \"z\": 1.641785947}]}], \"label\": \"Atom 8\", \"method\": \"update\"}], \"direction\": \"down\", \"xanchor\": \"left\", \"yanchor\": \"top\"}]},\n",
       "                        {\"responsive\": true}\n",
       "                    ).then(function(){\n",
       "                            \n",
       "var gd = document.getElementById('f2d24435-cf6b-40e8-a312-5e9ac89ba859');\n",
       "var x = new MutationObserver(function (mutations, observer) {{\n",
       "        var display = window.getComputedStyle(gd).display;\n",
       "        if (!display || display === 'none') {{\n",
       "            console.log([gd, 'removed!']);\n",
       "            Plotly.purge(gd);\n",
       "            observer.disconnect();\n",
       "        }}\n",
       "}});\n",
       "\n",
       "// Listen for the removal of the full notebook cells\n",
       "var notebookContainer = gd.closest('#notebook-container');\n",
       "if (notebookContainer) {{\n",
       "    x.observe(notebookContainer, {childList: true});\n",
       "}}\n",
       "\n",
       "// Listen for the clearing of the current output cell\n",
       "var outputEl = gd.closest('.output');\n",
       "if (outputEl) {{\n",
       "    x.observe(outputEl, {childList: true});\n",
       "}}\n",
       "\n",
       "                        })\n",
       "                };\n",
       "                });\n",
       "            </script>\n",
       "        </div>"
      ]
     },
     "metadata": {},
     "output_type": "display_data"
    }
   ],
   "source": [
    "molecule_name = 'dsgdb9nsd_000141'\n",
    "print(molecule_name)\n",
    "plot_interactions(molecule_name, structures, train)"
   ]
  },
  {
   "cell_type": "code",
   "execution_count": 20,
   "metadata": {},
   "outputs": [],
   "source": [
    "import numpy as np\n",
    "import pandas as pd\n",
    "\n",
    "structures = pd.read_csv('./input/structures.csv')\n",
    "structures_group = structures.groupby('molecule_name')\n",
    "molecule_names = structures['molecule_name'].unique()\n",
    "atomic_radii = dict(C=0.77, F=0.71, H=0.38, N=0.75, O=0.73)"
   ]
  },
  {
   "cell_type": "code",
   "execution_count": 25,
   "metadata": {},
   "outputs": [
    {
     "data": {
      "application/vnd.jupyter.widget-view+json": {
       "model_id": "cfb009ceac6044b3aae19ea84173d80c",
       "version_major": 2,
       "version_minor": 0
      },
      "text/plain": [
       "HBox(children=(IntProgress(value=0, max=130775), HTML(value='')))"
      ]
     },
     "metadata": {},
     "output_type": "display_data"
    }
   ],
   "source": [
    "xyz = structures[['x','y','z']].values\n",
    "ss = structures.groupby('molecule_name').size()\n",
    "ss = ss.cumsum()\n",
    "ssx = np.zeros(len(ss) + 1, 'int')\n",
    "ssx[1:] = ss\n",
    "def sofast_dist(xyz, ssx, molecule_id):\n",
    "    start_molecule, end_molecule = ssx[molecule_id], ssx[molecule_id+1]\n",
    "    locs = xyz[start_molecule:end_molecule]     \n",
    "    d=locs[:,None,:]-locs\n",
    "    return np.sqrt(np.einsum('ijk,ijk->ij',d,d))\n",
    "\n",
    "for molecule_id in tqdm_notebook(range(len(molecule_names))):\n",
    "    sofast_dist(xyz, ssx, molecule_id)"
   ]
  },
  {
   "cell_type": "code",
   "execution_count": 24,
   "metadata": {},
   "outputs": [
    {
     "data": {
      "text/plain": [
       "array([      0,       5,       9, ..., 2358623, 2358641, 2358657])"
      ]
     },
     "execution_count": 24,
     "metadata": {},
     "output_type": "execute_result"
    }
   ],
   "source": [
    "ssx"
   ]
  }
 ],
 "metadata": {
  "kernelspec": {
   "display_name": "Python 3",
   "language": "python",
   "name": "python3"
  },
  "language_info": {
   "codemirror_mode": {
    "name": "ipython",
    "version": 3
   },
   "file_extension": ".py",
   "mimetype": "text/x-python",
   "name": "python",
   "nbconvert_exporter": "python",
   "pygments_lexer": "ipython3",
   "version": "3.6.8"
  }
 },
 "nbformat": 4,
 "nbformat_minor": 2
}
