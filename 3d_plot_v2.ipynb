{
 "cells": [
  {
   "cell_type": "code",
   "execution_count": 1,
   "metadata": {},
   "outputs": [
    {
     "data": {
      "text/html": [
       "        <script type=\"text/javascript\">\n",
       "        window.PlotlyConfig = {MathJaxConfig: 'local'};\n",
       "        if (window.MathJax) {MathJax.Hub.Config({SVG: {font: \"STIX-Web\"}});}\n",
       "        if (typeof require !== 'undefined') {\n",
       "        require.undef(\"plotly\");\n",
       "        requirejs.config({\n",
       "            paths: {\n",
       "                'plotly': ['https://cdn.plot.ly/plotly-latest.min']\n",
       "            }\n",
       "        });\n",
       "        require(['plotly'], function(Plotly) {\n",
       "            window._Plotly = Plotly;\n",
       "        });\n",
       "        }\n",
       "        </script>\n",
       "        "
      ]
     },
     "metadata": {},
     "output_type": "display_data"
    }
   ],
   "source": [
    "import numpy as np\n",
    "import pandas as pd\n",
    "\n",
    "import plotly.graph_objs as go\n",
    "from plotly.offline import init_notebook_mode, iplot\n",
    "from sympy.geometry import Point3D\n",
    "\n",
    "structures = pd.read_csv('./input/structures.csv')\n",
    "train = pd.read_csv('./input/train.csv')\n",
    "\n",
    "# initiate the plotly notebook mode\n",
    "init_notebook_mode(connected=True)\n",
    "\n",
    "\n",
    "def plot_interactions(molecule_name, structures_df, train_df):\n",
    "    \"\"\"Creates a 3D plot of the molecule\"\"\"\n",
    "    \n",
    "    atomic_radii = dict(C=0.77, F=0.71, H=0.38, N=0.75, O=0.73)  \n",
    "    cpk_colors = dict(C='black', F='green', H='white', N='blue', O='red')\n",
    "    \n",
    "    if molecule_name not in train_df.molecule_name.unique():\n",
    "        print(f'Molecule \"{molecule_name}\" is not in the training set!')\n",
    "        return\n",
    "    \n",
    "    molecule = structures[structures.molecule_name == molecule_name]\n",
    "    coordinates = molecule[['x', 'y', 'z']].values\n",
    "    x_coordinates = coordinates[:, 0]\n",
    "    y_coordinates = coordinates[:, 1]\n",
    "    z_coordinates = coordinates[:, 2]\n",
    "    elements = molecule.atom.tolist()\n",
    "    radii = [atomic_radii[element] for element in elements]\n",
    "    \n",
    "    data_train = train_df[train_df.molecule_name == molecule_name][['atom_index_0', 'atom_index_1', 'scalar_coupling_constant']]\n",
    "    interactions = data_train.groupby('atom_index_0')['atom_index_1'].apply(set).to_dict()\n",
    "    coupling_constants = data_train.set_index(['atom_index_0', 'atom_index_1']).round(2).to_dict()['scalar_coupling_constant']\n",
    "    \n",
    "    def get_bonds():\n",
    "        \"\"\"Generates a set of bonds from atomic cartesian coordinates\"\"\"\n",
    "        ids = np.arange(coordinates.shape[0])\n",
    "        bonds = dict()\n",
    "        coordinates_compare, radii_compare, ids_compare = coordinates, radii, ids\n",
    "        \n",
    "        for _ in range(len(ids)):\n",
    "            coordinates_compare = np.roll(coordinates_compare, -1, axis=0)\n",
    "            radii_compare = np.roll(radii_compare, -1, axis=0)\n",
    "            ids_compare = np.roll(ids_compare, -1, axis=0)\n",
    "            distances = np.linalg.norm(coordinates - coordinates_compare, axis=1)\n",
    "            bond_distances = (radii + radii_compare) * 1.3\n",
    "            mask = np.logical_and(distances > 0.1, distances <  bond_distances)\n",
    "            distances = distances.round(2)\n",
    "            new_bonds = {frozenset([i, j]): dist for i, j, dist in zip(ids[mask], ids_compare[mask], distances[mask])}\n",
    "            bonds.update(new_bonds)\n",
    "        return bonds      \n",
    "            \n",
    "    def atom_trace():\n",
    "        \"\"\"Creates an atom trace for the plot\"\"\"\n",
    "        colors = [cpk_colors[element] for element in elements]\n",
    "        markers = dict(color=colors, line=dict(color='lightgray', width=2), size=7, symbol='circle', opacity=0.8)\n",
    "        trace = go.Scatter3d(x=x_coordinates, y=y_coordinates, z=z_coordinates, mode='markers', marker=markers,\n",
    "                             text=elements, name='')\n",
    "        return trace\n",
    "\n",
    "    def bond_trace():\n",
    "        \"\"\"\"Creates a bond trace for the plot\"\"\"\n",
    "        trace = go.Scatter3d(x=[], y=[], z=[], hoverinfo='none', mode='lines',\n",
    "                             marker=dict(color='grey', size=7, opacity=1), line=dict(width=3))\n",
    "        for i, j in bonds.keys():\n",
    "            trace['x'] += (x_coordinates[i], x_coordinates[j], None)\n",
    "            trace['y'] += (y_coordinates[i], y_coordinates[j], None)\n",
    "            trace['z'] += (z_coordinates[i], z_coordinates[j], None)\n",
    "        return trace\n",
    "    \n",
    "    def interaction_trace(atom_id):\n",
    "        \"\"\"\"Creates an interaction trace for the plot\"\"\"\n",
    "        trace = go.Scatter3d(x=[], y=[], z=[], hoverinfo='none', mode='lines',\n",
    "                             marker=dict(color='pink', size=7, opacity=0.5),\n",
    "                            visible=False)\n",
    "        for i in interactions[atom_id]:\n",
    "            trace['x'] += (x_coordinates[atom_id], x_coordinates[i], None)\n",
    "            trace['y'] += (y_coordinates[atom_id], y_coordinates[i], None)\n",
    "            trace['z'] += (z_coordinates[atom_id], z_coordinates[i], None)\n",
    "        return trace\n",
    "    \n",
    "    bonds = get_bonds()\n",
    "    \n",
    "    zipped = zip(range(len(elements)), x_coordinates, y_coordinates, z_coordinates)\n",
    "    annotations_id = [dict(text=num, x=x, y=y, z=z, showarrow=False, yshift=15, font = dict(color = \"blue\"))\n",
    "                      for num, x, y, z in zipped]\n",
    "    \n",
    "    annotations_length = []\n",
    "    for (i, j), dist in bonds.items():\n",
    "        p_i, p_j = Point3D(coordinates[i]), Point3D(coordinates[j])\n",
    "        p = p_i.midpoint(p_j)\n",
    "        annotation = dict(text=dist, x=float(p.x), y=float(p.y), z=float(p.z), showarrow=False, yshift=10)\n",
    "        annotations_length.append(annotation)\n",
    "    \n",
    "    annotations_interaction = []\n",
    "    for k, v in interactions.items():\n",
    "        annotations = []\n",
    "        for i in v:\n",
    "            p_i, p_j = Point3D(coordinates[k]), Point3D(coordinates[i])\n",
    "            p = p_i.midpoint(p_j)\n",
    "            constant = coupling_constants[(k, i)]\n",
    "            annotation = dict(text=constant, x=float(p.x), y=float(p.y), z=float(p.z), showarrow=False, yshift=25,\n",
    "                              font = dict(color = \"hotpink\"))\n",
    "            annotations.append(annotation)\n",
    "        annotations_interaction.append(annotations)\n",
    "    \n",
    "    buttons = []\n",
    "    for num, i in enumerate(interactions.keys()):\n",
    "        mask = [False] * len(interactions)\n",
    "        mask[num] = True\n",
    "        button = dict(label=f'Atom {i}',\n",
    "                      method='update',\n",
    "                      args=[{'visible': [True] * 2 + mask},\n",
    "                            {'scene.annotations': annotations_id + annotations_length + annotations_interaction[num]}])\n",
    "        buttons.append(button)\n",
    "        \n",
    "    updatemenus = list([\n",
    "        dict(buttons = buttons,\n",
    "             direction = 'down',\n",
    "             xanchor = 'left',\n",
    "             yanchor = 'top'\n",
    "            )\n",
    "    ])\n",
    "    \n",
    "    data = [atom_trace(), bond_trace()]\n",
    "    \n",
    "    # add interaction traces\n",
    "    for num, i in enumerate(interactions.keys()):\n",
    "        trace = interaction_trace(i)\n",
    "        if num == 0:\n",
    "            trace.visible = True \n",
    "        data.append(trace)\n",
    "        \n",
    "    axis_params = dict(showgrid=False, showbackground=False, showticklabels=False, zeroline=False, titlefont=dict(color='white'))\n",
    "    layout = dict(scene=dict(xaxis=axis_params, yaxis=axis_params, zaxis=axis_params,\n",
    "                             annotations=annotations_id + annotations_length + annotations_interaction[0]),\n",
    "                  margin=dict(r=0, l=0, b=0, t=0), showlegend=False, updatemenus=updatemenus)\n",
    "\n",
    "    fig = go.Figure(data=data, layout=layout)\n",
    "    iplot(fig)"
   ]
  },
  {
   "cell_type": "code",
   "execution_count": 11,
   "metadata": {},
   "outputs": [],
   "source": [
    "import random\n",
    "molecule_names = train.molecule_name.unique()"
   ]
  },
  {
   "cell_type": "code",
   "execution_count": 26,
   "metadata": {},
   "outputs": [
    {
     "name": "stdout",
     "output_type": "stream",
     "text": [
      "dsgdb9nsd_000200\n"
     ]
    },
    {
     "data": {
      "application/vnd.plotly.v1+json": {
       "config": {
        "linkText": "Export to plot.ly",
        "plotlyServerURL": "https://plot.ly",
        "showLink": false
       },
       "data": [
        {
         "marker": {
          "color": [
           "red",
           "black",
           "blue",
           "black",
           "black",
           "blue",
           "white",
           "white",
           "white",
           "white"
          ],
          "line": {
           "color": "lightgray",
           "width": 2
          },
          "opacity": 0.8,
          "size": 7,
          "symbol": "circle"
         },
         "mode": "markers",
         "name": "",
         "text": [
          "O",
          "C",
          "N",
          "C",
          "C",
          "N",
          "H",
          "H",
          "H",
          "H"
         ],
         "type": "scatter3d",
         "x": [
          0.1115516646,
          0.074738425,
          0.1056148394,
          0.0437852446,
          -0.024003009500000002,
          -0.0028514919,
          0.165528295,
          0.0522997421,
          -0.0832076586,
          -0.038000570899999996
         ],
         "y": [
          1.31437064,
          -0.021755286000000002,
          -0.6922873570999999,
          -2.0217143859999998,
          -2.127543814,
          -0.8158043987000001,
          1.6779541,
          -2.816909781,
          -2.967081222,
          -0.5033775748
         ],
         "z": [
          0.1706596492,
          0.0256779697,
          -1.093558105,
          -0.7014996734000001,
          0.6556390053,
          1.122248485,
          -0.7220664542,
          -1.43043336,
          1.3267600720000001,
          2.077034732
         ]
        },
        {
         "hoverinfo": "none",
         "line": {
          "width": 3
         },
         "marker": {
          "color": "grey",
          "opacity": 1,
          "size": 7
         },
         "mode": "lines",
         "type": "scatter3d",
         "x": [
          0.1115516646,
          0.074738425,
          null,
          0.074738425,
          0.1056148394,
          null,
          0.1056148394,
          0.0437852446,
          null,
          0.0437852446,
          -0.024003009500000002,
          null,
          -0.024003009500000002,
          -0.0028514919,
          null,
          0.074738425,
          -0.0028514919,
          null,
          0.0437852446,
          0.0522997421,
          null,
          -0.0832076586,
          -0.024003009500000002,
          null,
          -0.038000570899999996,
          -0.0028514919,
          null,
          0.1115516646,
          0.165528295,
          null
         ],
         "y": [
          1.31437064,
          -0.021755286000000002,
          null,
          -0.021755286000000002,
          -0.6922873570999999,
          null,
          -0.6922873570999999,
          -2.0217143859999998,
          null,
          -2.0217143859999998,
          -2.127543814,
          null,
          -2.127543814,
          -0.8158043987000001,
          null,
          -0.021755286000000002,
          -0.8158043987000001,
          null,
          -2.0217143859999998,
          -2.816909781,
          null,
          -2.967081222,
          -2.127543814,
          null,
          -0.5033775748,
          -0.8158043987000001,
          null,
          1.31437064,
          1.6779541,
          null
         ],
         "z": [
          0.1706596492,
          0.0256779697,
          null,
          0.0256779697,
          -1.093558105,
          null,
          -1.093558105,
          -0.7014996734000001,
          null,
          -0.7014996734000001,
          0.6556390053,
          null,
          0.6556390053,
          1.122248485,
          null,
          0.0256779697,
          1.122248485,
          null,
          -0.7014996734000001,
          -1.43043336,
          null,
          1.3267600720000001,
          0.6556390053,
          null,
          2.077034732,
          1.122248485,
          null,
          0.1706596492,
          -0.7220664542,
          null
         ]
        },
        {
         "hoverinfo": "none",
         "marker": {
          "color": "pink",
          "opacity": 0.5,
          "size": 7
         },
         "mode": "lines",
         "type": "scatter3d",
         "visible": true,
         "x": [
          0.165528295,
          0.074738425,
          null,
          0.165528295,
          0.1056148394,
          null,
          0.165528295,
          -0.0028514919,
          null
         ],
         "y": [
          1.6779541,
          -0.021755286000000002,
          null,
          1.6779541,
          -0.6922873570999999,
          null,
          1.6779541,
          -0.8158043987000001,
          null
         ],
         "z": [
          -0.7220664542,
          0.0256779697,
          null,
          -0.7220664542,
          -1.093558105,
          null,
          -0.7220664542,
          1.122248485,
          null
         ]
        },
        {
         "hoverinfo": "none",
         "marker": {
          "color": "pink",
          "opacity": 0.5,
          "size": 7
         },
         "mode": "lines",
         "type": "scatter3d",
         "visible": false,
         "x": [
          0.0522997421,
          0.074738425,
          null,
          0.0522997421,
          0.1056148394,
          null,
          0.0522997421,
          0.0437852446,
          null,
          0.0522997421,
          -0.024003009500000002,
          null,
          0.0522997421,
          -0.0028514919,
          null,
          0.0522997421,
          -0.0832076586,
          null
         ],
         "y": [
          -2.816909781,
          -0.021755286000000002,
          null,
          -2.816909781,
          -0.6922873570999999,
          null,
          -2.816909781,
          -2.0217143859999998,
          null,
          -2.816909781,
          -2.127543814,
          null,
          -2.816909781,
          -0.8158043987000001,
          null,
          -2.816909781,
          -2.967081222,
          null
         ],
         "z": [
          -1.43043336,
          0.0256779697,
          null,
          -1.43043336,
          -1.093558105,
          null,
          -1.43043336,
          -0.7014996734000001,
          null,
          -1.43043336,
          0.6556390053,
          null,
          -1.43043336,
          1.122248485,
          null,
          -1.43043336,
          1.3267600720000001,
          null
         ]
        },
        {
         "hoverinfo": "none",
         "marker": {
          "color": "pink",
          "opacity": 0.5,
          "size": 7
         },
         "mode": "lines",
         "type": "scatter3d",
         "visible": false,
         "x": [
          -0.0832076586,
          0.074738425,
          null,
          -0.0832076586,
          0.1056148394,
          null,
          -0.0832076586,
          0.0437852446,
          null,
          -0.0832076586,
          -0.024003009500000002,
          null,
          -0.0832076586,
          -0.0028514919,
          null,
          -0.0832076586,
          -0.038000570899999996,
          null
         ],
         "y": [
          -2.967081222,
          -0.021755286000000002,
          null,
          -2.967081222,
          -0.6922873570999999,
          null,
          -2.967081222,
          -2.0217143859999998,
          null,
          -2.967081222,
          -2.127543814,
          null,
          -2.967081222,
          -0.8158043987000001,
          null,
          -2.967081222,
          -0.5033775748,
          null
         ],
         "z": [
          1.3267600720000001,
          0.0256779697,
          null,
          1.3267600720000001,
          -1.093558105,
          null,
          1.3267600720000001,
          -0.7014996734000001,
          null,
          1.3267600720000001,
          0.6556390053,
          null,
          1.3267600720000001,
          1.122248485,
          null,
          1.3267600720000001,
          2.077034732,
          null
         ]
        },
        {
         "hoverinfo": "none",
         "marker": {
          "color": "pink",
          "opacity": 0.5,
          "size": 7
         },
         "mode": "lines",
         "type": "scatter3d",
         "visible": false,
         "x": [
          -0.038000570899999996,
          0.074738425,
          null,
          -0.038000570899999996,
          0.1056148394,
          null,
          -0.038000570899999996,
          0.0437852446,
          null,
          -0.038000570899999996,
          -0.024003009500000002,
          null,
          -0.038000570899999996,
          -0.0028514919,
          null
         ],
         "y": [
          -0.5033775748,
          -0.021755286000000002,
          null,
          -0.5033775748,
          -0.6922873570999999,
          null,
          -0.5033775748,
          -2.0217143859999998,
          null,
          -0.5033775748,
          -2.127543814,
          null,
          -0.5033775748,
          -0.8158043987000001,
          null
         ],
         "z": [
          2.077034732,
          0.0256779697,
          null,
          2.077034732,
          -1.093558105,
          null,
          2.077034732,
          -0.7014996734000001,
          null,
          2.077034732,
          0.6556390053,
          null,
          2.077034732,
          1.122248485,
          null
         ]
        }
       ],
       "layout": {
        "margin": {
         "b": 0,
         "l": 0,
         "r": 0,
         "t": 0
        },
        "scene": {
         "annotations": [
          {
           "font": {
            "color": "blue"
           },
           "showarrow": false,
           "text": "0",
           "x": 0.1115516646,
           "y": 1.31437064,
           "yshift": 15,
           "z": 0.1706596492
          },
          {
           "font": {
            "color": "blue"
           },
           "showarrow": false,
           "text": "1",
           "x": 0.074738425,
           "y": -0.021755286000000002,
           "yshift": 15,
           "z": 0.0256779697
          },
          {
           "font": {
            "color": "blue"
           },
           "showarrow": false,
           "text": "2",
           "x": 0.1056148394,
           "y": -0.6922873570999999,
           "yshift": 15,
           "z": -1.093558105
          },
          {
           "font": {
            "color": "blue"
           },
           "showarrow": false,
           "text": "3",
           "x": 0.0437852446,
           "y": -2.0217143859999998,
           "yshift": 15,
           "z": -0.7014996734000001
          },
          {
           "font": {
            "color": "blue"
           },
           "showarrow": false,
           "text": "4",
           "x": -0.024003009500000002,
           "y": -2.127543814,
           "yshift": 15,
           "z": 0.6556390053
          },
          {
           "font": {
            "color": "blue"
           },
           "showarrow": false,
           "text": "5",
           "x": -0.0028514919,
           "y": -0.8158043987000001,
           "yshift": 15,
           "z": 1.122248485
          },
          {
           "font": {
            "color": "blue"
           },
           "showarrow": false,
           "text": "6",
           "x": 0.165528295,
           "y": 1.6779541,
           "yshift": 15,
           "z": -0.7220664542
          },
          {
           "font": {
            "color": "blue"
           },
           "showarrow": false,
           "text": "7",
           "x": 0.0522997421,
           "y": -2.816909781,
           "yshift": 15,
           "z": -1.43043336
          },
          {
           "font": {
            "color": "blue"
           },
           "showarrow": false,
           "text": "8",
           "x": -0.0832076586,
           "y": -2.967081222,
           "yshift": 15,
           "z": 1.3267600720000001
          },
          {
           "font": {
            "color": "blue"
           },
           "showarrow": false,
           "text": "9",
           "x": -0.038000570899999996,
           "y": -0.5033775748,
           "yshift": 15,
           "z": 2.077034732
          },
          {
           "showarrow": false,
           "text": "1.34",
           "x": 0.0931450448,
           "y": 0.646307677,
           "yshift": 10,
           "z": 0.09816880945
          },
          {
           "showarrow": false,
           "text": "1.31",
           "x": 0.0901766322,
           "y": -0.35702132155,
           "yshift": 10,
           "z": -0.53394006765
          },
          {
           "showarrow": false,
           "text": "1.39",
           "x": 0.074700042,
           "y": -1.35700087155,
           "yshift": 10,
           "z": -0.8975288892
          },
          {
           "showarrow": false,
           "text": "1.36",
           "x": 0.00989111755,
           "y": -2.0746291,
           "yshift": 10,
           "z": -0.02293033405
          },
          {
           "showarrow": false,
           "text": "1.39",
           "x": -0.0134272507,
           "y": -1.47167410635,
           "yshift": 10,
           "z": 0.88894374515
          },
          {
           "showarrow": false,
           "text": "1.36",
           "x": 0.03594346655,
           "y": -0.41877984235,
           "yshift": 10,
           "z": 0.57396322735
          },
          {
           "showarrow": false,
           "text": "1.08",
           "x": 0.04804249335,
           "y": -2.4193120835,
           "yshift": 10,
           "z": -1.0659665167
          },
          {
           "showarrow": false,
           "text": "1.08",
           "x": -0.05360533405,
           "y": -2.547312518,
           "yshift": 10,
           "z": 0.99119953865
          },
          {
           "showarrow": false,
           "text": "1.01",
           "x": -0.0204260314,
           "y": -0.65959098675,
           "yshift": 10,
           "z": 1.5996416085
          },
          {
           "showarrow": false,
           "text": "0.97",
           "x": 0.1385399798,
           "y": 1.49616237,
           "yshift": 10,
           "z": -0.2757034025
          },
          {
           "font": {
            "color": "hotpink"
           },
           "showarrow": false,
           "text": "-1.42",
           "x": 0.12013336,
           "y": 0.828099407,
           "yshift": 25,
           "z": -0.34819424225
          },
          {
           "font": {
            "color": "hotpink"
           },
           "showarrow": false,
           "text": "-0.6",
           "x": 0.1355715672,
           "y": 0.49283337145,
           "yshift": 25,
           "z": -0.9078122796
          },
          {
           "font": {
            "color": "hotpink"
           },
           "showarrow": false,
           "text": "2.67",
           "x": 0.08133840155,
           "y": 0.43107485065,
           "yshift": 25,
           "z": 0.2000910154
          }
         ],
         "xaxis": {
          "showbackground": false,
          "showgrid": false,
          "showticklabels": false,
          "title": {
           "font": {
            "color": "white"
           }
          },
          "zeroline": false
         },
         "yaxis": {
          "showbackground": false,
          "showgrid": false,
          "showticklabels": false,
          "title": {
           "font": {
            "color": "white"
           }
          },
          "zeroline": false
         },
         "zaxis": {
          "showbackground": false,
          "showgrid": false,
          "showticklabels": false,
          "title": {
           "font": {
            "color": "white"
           }
          },
          "zeroline": false
         }
        },
        "showlegend": false,
        "template": {
         "data": {
          "bar": [
           {
            "error_x": {
             "color": "#2a3f5f"
            },
            "error_y": {
             "color": "#2a3f5f"
            },
            "marker": {
             "line": {
              "color": "#E5ECF6",
              "width": 0.5
             }
            },
            "type": "bar"
           }
          ],
          "barpolar": [
           {
            "marker": {
             "line": {
              "color": "#E5ECF6",
              "width": 0.5
             }
            },
            "type": "barpolar"
           }
          ],
          "carpet": [
           {
            "aaxis": {
             "endlinecolor": "#2a3f5f",
             "gridcolor": "white",
             "linecolor": "white",
             "minorgridcolor": "white",
             "startlinecolor": "#2a3f5f"
            },
            "baxis": {
             "endlinecolor": "#2a3f5f",
             "gridcolor": "white",
             "linecolor": "white",
             "minorgridcolor": "white",
             "startlinecolor": "#2a3f5f"
            },
            "type": "carpet"
           }
          ],
          "choropleth": [
           {
            "colorbar": {
             "outlinewidth": 0,
             "ticks": ""
            },
            "type": "choropleth"
           }
          ],
          "contour": [
           {
            "colorbar": {
             "outlinewidth": 0,
             "ticks": ""
            },
            "colorscale": [
             [
              0,
              "#0d0887"
             ],
             [
              0.1111111111111111,
              "#46039f"
             ],
             [
              0.2222222222222222,
              "#7201a8"
             ],
             [
              0.3333333333333333,
              "#9c179e"
             ],
             [
              0.4444444444444444,
              "#bd3786"
             ],
             [
              0.5555555555555556,
              "#d8576b"
             ],
             [
              0.6666666666666666,
              "#ed7953"
             ],
             [
              0.7777777777777778,
              "#fb9f3a"
             ],
             [
              0.8888888888888888,
              "#fdca26"
             ],
             [
              1,
              "#f0f921"
             ]
            ],
            "type": "contour"
           }
          ],
          "contourcarpet": [
           {
            "colorbar": {
             "outlinewidth": 0,
             "ticks": ""
            },
            "type": "contourcarpet"
           }
          ],
          "heatmap": [
           {
            "colorbar": {
             "outlinewidth": 0,
             "ticks": ""
            },
            "colorscale": [
             [
              0,
              "#0d0887"
             ],
             [
              0.1111111111111111,
              "#46039f"
             ],
             [
              0.2222222222222222,
              "#7201a8"
             ],
             [
              0.3333333333333333,
              "#9c179e"
             ],
             [
              0.4444444444444444,
              "#bd3786"
             ],
             [
              0.5555555555555556,
              "#d8576b"
             ],
             [
              0.6666666666666666,
              "#ed7953"
             ],
             [
              0.7777777777777778,
              "#fb9f3a"
             ],
             [
              0.8888888888888888,
              "#fdca26"
             ],
             [
              1,
              "#f0f921"
             ]
            ],
            "type": "heatmap"
           }
          ],
          "heatmapgl": [
           {
            "colorbar": {
             "outlinewidth": 0,
             "ticks": ""
            },
            "colorscale": [
             [
              0,
              "#0d0887"
             ],
             [
              0.1111111111111111,
              "#46039f"
             ],
             [
              0.2222222222222222,
              "#7201a8"
             ],
             [
              0.3333333333333333,
              "#9c179e"
             ],
             [
              0.4444444444444444,
              "#bd3786"
             ],
             [
              0.5555555555555556,
              "#d8576b"
             ],
             [
              0.6666666666666666,
              "#ed7953"
             ],
             [
              0.7777777777777778,
              "#fb9f3a"
             ],
             [
              0.8888888888888888,
              "#fdca26"
             ],
             [
              1,
              "#f0f921"
             ]
            ],
            "type": "heatmapgl"
           }
          ],
          "histogram": [
           {
            "marker": {
             "colorbar": {
              "outlinewidth": 0,
              "ticks": ""
             }
            },
            "type": "histogram"
           }
          ],
          "histogram2d": [
           {
            "colorbar": {
             "outlinewidth": 0,
             "ticks": ""
            },
            "colorscale": [
             [
              0,
              "#0d0887"
             ],
             [
              0.1111111111111111,
              "#46039f"
             ],
             [
              0.2222222222222222,
              "#7201a8"
             ],
             [
              0.3333333333333333,
              "#9c179e"
             ],
             [
              0.4444444444444444,
              "#bd3786"
             ],
             [
              0.5555555555555556,
              "#d8576b"
             ],
             [
              0.6666666666666666,
              "#ed7953"
             ],
             [
              0.7777777777777778,
              "#fb9f3a"
             ],
             [
              0.8888888888888888,
              "#fdca26"
             ],
             [
              1,
              "#f0f921"
             ]
            ],
            "type": "histogram2d"
           }
          ],
          "histogram2dcontour": [
           {
            "colorbar": {
             "outlinewidth": 0,
             "ticks": ""
            },
            "colorscale": [
             [
              0,
              "#0d0887"
             ],
             [
              0.1111111111111111,
              "#46039f"
             ],
             [
              0.2222222222222222,
              "#7201a8"
             ],
             [
              0.3333333333333333,
              "#9c179e"
             ],
             [
              0.4444444444444444,
              "#bd3786"
             ],
             [
              0.5555555555555556,
              "#d8576b"
             ],
             [
              0.6666666666666666,
              "#ed7953"
             ],
             [
              0.7777777777777778,
              "#fb9f3a"
             ],
             [
              0.8888888888888888,
              "#fdca26"
             ],
             [
              1,
              "#f0f921"
             ]
            ],
            "type": "histogram2dcontour"
           }
          ],
          "mesh3d": [
           {
            "colorbar": {
             "outlinewidth": 0,
             "ticks": ""
            },
            "type": "mesh3d"
           }
          ],
          "parcoords": [
           {
            "line": {
             "colorbar": {
              "outlinewidth": 0,
              "ticks": ""
             }
            },
            "type": "parcoords"
           }
          ],
          "scatter": [
           {
            "marker": {
             "colorbar": {
              "outlinewidth": 0,
              "ticks": ""
             }
            },
            "type": "scatter"
           }
          ],
          "scatter3d": [
           {
            "line": {
             "colorbar": {
              "outlinewidth": 0,
              "ticks": ""
             }
            },
            "marker": {
             "colorbar": {
              "outlinewidth": 0,
              "ticks": ""
             }
            },
            "type": "scatter3d"
           }
          ],
          "scattercarpet": [
           {
            "marker": {
             "colorbar": {
              "outlinewidth": 0,
              "ticks": ""
             }
            },
            "type": "scattercarpet"
           }
          ],
          "scattergeo": [
           {
            "marker": {
             "colorbar": {
              "outlinewidth": 0,
              "ticks": ""
             }
            },
            "type": "scattergeo"
           }
          ],
          "scattergl": [
           {
            "marker": {
             "colorbar": {
              "outlinewidth": 0,
              "ticks": ""
             }
            },
            "type": "scattergl"
           }
          ],
          "scattermapbox": [
           {
            "marker": {
             "colorbar": {
              "outlinewidth": 0,
              "ticks": ""
             }
            },
            "type": "scattermapbox"
           }
          ],
          "scatterpolar": [
           {
            "marker": {
             "colorbar": {
              "outlinewidth": 0,
              "ticks": ""
             }
            },
            "type": "scatterpolar"
           }
          ],
          "scatterpolargl": [
           {
            "marker": {
             "colorbar": {
              "outlinewidth": 0,
              "ticks": ""
             }
            },
            "type": "scatterpolargl"
           }
          ],
          "scatterternary": [
           {
            "marker": {
             "colorbar": {
              "outlinewidth": 0,
              "ticks": ""
             }
            },
            "type": "scatterternary"
           }
          ],
          "surface": [
           {
            "colorbar": {
             "outlinewidth": 0,
             "ticks": ""
            },
            "colorscale": [
             [
              0,
              "#0d0887"
             ],
             [
              0.1111111111111111,
              "#46039f"
             ],
             [
              0.2222222222222222,
              "#7201a8"
             ],
             [
              0.3333333333333333,
              "#9c179e"
             ],
             [
              0.4444444444444444,
              "#bd3786"
             ],
             [
              0.5555555555555556,
              "#d8576b"
             ],
             [
              0.6666666666666666,
              "#ed7953"
             ],
             [
              0.7777777777777778,
              "#fb9f3a"
             ],
             [
              0.8888888888888888,
              "#fdca26"
             ],
             [
              1,
              "#f0f921"
             ]
            ],
            "type": "surface"
           }
          ],
          "table": [
           {
            "cells": {
             "fill": {
              "color": "#EBF0F8"
             },
             "line": {
              "color": "white"
             }
            },
            "header": {
             "fill": {
              "color": "#C8D4E3"
             },
             "line": {
              "color": "white"
             }
            },
            "type": "table"
           }
          ]
         },
         "layout": {
          "annotationdefaults": {
           "arrowcolor": "#2a3f5f",
           "arrowhead": 0,
           "arrowwidth": 1
          },
          "colorscale": {
           "diverging": [
            [
             0,
             "#8e0152"
            ],
            [
             0.1,
             "#c51b7d"
            ],
            [
             0.2,
             "#de77ae"
            ],
            [
             0.3,
             "#f1b6da"
            ],
            [
             0.4,
             "#fde0ef"
            ],
            [
             0.5,
             "#f7f7f7"
            ],
            [
             0.6,
             "#e6f5d0"
            ],
            [
             0.7,
             "#b8e186"
            ],
            [
             0.8,
             "#7fbc41"
            ],
            [
             0.9,
             "#4d9221"
            ],
            [
             1,
             "#276419"
            ]
           ],
           "sequential": [
            [
             0,
             "#0d0887"
            ],
            [
             0.1111111111111111,
             "#46039f"
            ],
            [
             0.2222222222222222,
             "#7201a8"
            ],
            [
             0.3333333333333333,
             "#9c179e"
            ],
            [
             0.4444444444444444,
             "#bd3786"
            ],
            [
             0.5555555555555556,
             "#d8576b"
            ],
            [
             0.6666666666666666,
             "#ed7953"
            ],
            [
             0.7777777777777778,
             "#fb9f3a"
            ],
            [
             0.8888888888888888,
             "#fdca26"
            ],
            [
             1,
             "#f0f921"
            ]
           ],
           "sequentialminus": [
            [
             0,
             "#0d0887"
            ],
            [
             0.1111111111111111,
             "#46039f"
            ],
            [
             0.2222222222222222,
             "#7201a8"
            ],
            [
             0.3333333333333333,
             "#9c179e"
            ],
            [
             0.4444444444444444,
             "#bd3786"
            ],
            [
             0.5555555555555556,
             "#d8576b"
            ],
            [
             0.6666666666666666,
             "#ed7953"
            ],
            [
             0.7777777777777778,
             "#fb9f3a"
            ],
            [
             0.8888888888888888,
             "#fdca26"
            ],
            [
             1,
             "#f0f921"
            ]
           ]
          },
          "colorway": [
           "#636efa",
           "#EF553B",
           "#00cc96",
           "#ab63fa",
           "#FFA15A",
           "#19d3f3",
           "#FF6692",
           "#B6E880",
           "#FF97FF",
           "#FECB52"
          ],
          "font": {
           "color": "#2a3f5f"
          },
          "geo": {
           "bgcolor": "white",
           "lakecolor": "white",
           "landcolor": "#E5ECF6",
           "showlakes": true,
           "showland": true,
           "subunitcolor": "white"
          },
          "hoverlabel": {
           "align": "left"
          },
          "hovermode": "closest",
          "mapbox": {
           "style": "light"
          },
          "paper_bgcolor": "white",
          "plot_bgcolor": "#E5ECF6",
          "polar": {
           "angularaxis": {
            "gridcolor": "white",
            "linecolor": "white",
            "ticks": ""
           },
           "bgcolor": "#E5ECF6",
           "radialaxis": {
            "gridcolor": "white",
            "linecolor": "white",
            "ticks": ""
           }
          },
          "scene": {
           "xaxis": {
            "backgroundcolor": "#E5ECF6",
            "gridcolor": "white",
            "gridwidth": 2,
            "linecolor": "white",
            "showbackground": true,
            "ticks": "",
            "zerolinecolor": "white"
           },
           "yaxis": {
            "backgroundcolor": "#E5ECF6",
            "gridcolor": "white",
            "gridwidth": 2,
            "linecolor": "white",
            "showbackground": true,
            "ticks": "",
            "zerolinecolor": "white"
           },
           "zaxis": {
            "backgroundcolor": "#E5ECF6",
            "gridcolor": "white",
            "gridwidth": 2,
            "linecolor": "white",
            "showbackground": true,
            "ticks": "",
            "zerolinecolor": "white"
           }
          },
          "shapedefaults": {
           "line": {
            "color": "#2a3f5f"
           }
          },
          "ternary": {
           "aaxis": {
            "gridcolor": "white",
            "linecolor": "white",
            "ticks": ""
           },
           "baxis": {
            "gridcolor": "white",
            "linecolor": "white",
            "ticks": ""
           },
           "bgcolor": "#E5ECF6",
           "caxis": {
            "gridcolor": "white",
            "linecolor": "white",
            "ticks": ""
           }
          },
          "title": {
           "x": 0.05
          },
          "xaxis": {
           "automargin": true,
           "gridcolor": "white",
           "linecolor": "white",
           "ticks": "",
           "zerolinecolor": "white",
           "zerolinewidth": 2
          },
          "yaxis": {
           "automargin": true,
           "gridcolor": "white",
           "linecolor": "white",
           "ticks": "",
           "zerolinecolor": "white",
           "zerolinewidth": 2
          }
         }
        },
        "updatemenus": [
         {
          "buttons": [
           {
            "args": [
             {
              "visible": [
               true,
               true,
               true,
               false,
               false,
               false
              ]
             },
             {
              "scene.annotations": [
               {
                "font": {
                 "color": "blue"
                },
                "showarrow": false,
                "text": 0,
                "x": 0.1115516646,
                "y": 1.31437064,
                "yshift": 15,
                "z": 0.1706596492
               },
               {
                "font": {
                 "color": "blue"
                },
                "showarrow": false,
                "text": 1,
                "x": 0.074738425,
                "y": -0.021755286000000002,
                "yshift": 15,
                "z": 0.0256779697
               },
               {
                "font": {
                 "color": "blue"
                },
                "showarrow": false,
                "text": 2,
                "x": 0.1056148394,
                "y": -0.6922873570999999,
                "yshift": 15,
                "z": -1.093558105
               },
               {
                "font": {
                 "color": "blue"
                },
                "showarrow": false,
                "text": 3,
                "x": 0.0437852446,
                "y": -2.0217143859999998,
                "yshift": 15,
                "z": -0.7014996734000001
               },
               {
                "font": {
                 "color": "blue"
                },
                "showarrow": false,
                "text": 4,
                "x": -0.024003009500000002,
                "y": -2.127543814,
                "yshift": 15,
                "z": 0.6556390053
               },
               {
                "font": {
                 "color": "blue"
                },
                "showarrow": false,
                "text": 5,
                "x": -0.0028514919,
                "y": -0.8158043987000001,
                "yshift": 15,
                "z": 1.122248485
               },
               {
                "font": {
                 "color": "blue"
                },
                "showarrow": false,
                "text": 6,
                "x": 0.165528295,
                "y": 1.6779541,
                "yshift": 15,
                "z": -0.7220664542
               },
               {
                "font": {
                 "color": "blue"
                },
                "showarrow": false,
                "text": 7,
                "x": 0.0522997421,
                "y": -2.816909781,
                "yshift": 15,
                "z": -1.43043336
               },
               {
                "font": {
                 "color": "blue"
                },
                "showarrow": false,
                "text": 8,
                "x": -0.0832076586,
                "y": -2.967081222,
                "yshift": 15,
                "z": 1.3267600720000001
               },
               {
                "font": {
                 "color": "blue"
                },
                "showarrow": false,
                "text": 9,
                "x": -0.038000570899999996,
                "y": -0.5033775748,
                "yshift": 15,
                "z": 2.077034732
               },
               {
                "showarrow": false,
                "text": 1.34,
                "x": 0.0931450448,
                "y": 0.646307677,
                "yshift": 10,
                "z": 0.09816880945
               },
               {
                "showarrow": false,
                "text": 1.31,
                "x": 0.0901766322,
                "y": -0.35702132155,
                "yshift": 10,
                "z": -0.53394006765
               },
               {
                "showarrow": false,
                "text": 1.39,
                "x": 0.074700042,
                "y": -1.35700087155,
                "yshift": 10,
                "z": -0.8975288892
               },
               {
                "showarrow": false,
                "text": 1.36,
                "x": 0.00989111755,
                "y": -2.0746291,
                "yshift": 10,
                "z": -0.02293033405
               },
               {
                "showarrow": false,
                "text": 1.39,
                "x": -0.0134272507,
                "y": -1.47167410635,
                "yshift": 10,
                "z": 0.88894374515
               },
               {
                "showarrow": false,
                "text": 1.36,
                "x": 0.03594346655,
                "y": -0.41877984235,
                "yshift": 10,
                "z": 0.57396322735
               },
               {
                "showarrow": false,
                "text": 1.08,
                "x": 0.04804249335,
                "y": -2.4193120835,
                "yshift": 10,
                "z": -1.0659665167
               },
               {
                "showarrow": false,
                "text": 1.08,
                "x": -0.05360533405,
                "y": -2.547312518,
                "yshift": 10,
                "z": 0.99119953865
               },
               {
                "showarrow": false,
                "text": 1.01,
                "x": -0.0204260314,
                "y": -0.65959098675,
                "yshift": 10,
                "z": 1.5996416085
               },
               {
                "showarrow": false,
                "text": 0.97,
                "x": 0.1385399798,
                "y": 1.49616237,
                "yshift": 10,
                "z": -0.2757034025
               },
               {
                "font": {
                 "color": "hotpink"
                },
                "showarrow": false,
                "text": -1.42,
                "x": 0.12013336,
                "y": 0.828099407,
                "yshift": 25,
                "z": -0.34819424225
               },
               {
                "font": {
                 "color": "hotpink"
                },
                "showarrow": false,
                "text": -0.6,
                "x": 0.1355715672,
                "y": 0.49283337145,
                "yshift": 25,
                "z": -0.9078122796
               },
               {
                "font": {
                 "color": "hotpink"
                },
                "showarrow": false,
                "text": 2.67,
                "x": 0.08133840155,
                "y": 0.43107485065,
                "yshift": 25,
                "z": 0.2000910154
               }
              ]
             }
            ],
            "label": "Atom 6",
            "method": "update"
           },
           {
            "args": [
             {
              "visible": [
               true,
               true,
               false,
               true,
               false,
               false
              ]
             },
             {
              "scene.annotations": [
               {
                "font": {
                 "color": "blue"
                },
                "showarrow": false,
                "text": 0,
                "x": 0.1115516646,
                "y": 1.31437064,
                "yshift": 15,
                "z": 0.1706596492
               },
               {
                "font": {
                 "color": "blue"
                },
                "showarrow": false,
                "text": 1,
                "x": 0.074738425,
                "y": -0.021755286000000002,
                "yshift": 15,
                "z": 0.0256779697
               },
               {
                "font": {
                 "color": "blue"
                },
                "showarrow": false,
                "text": 2,
                "x": 0.1056148394,
                "y": -0.6922873570999999,
                "yshift": 15,
                "z": -1.093558105
               },
               {
                "font": {
                 "color": "blue"
                },
                "showarrow": false,
                "text": 3,
                "x": 0.0437852446,
                "y": -2.0217143859999998,
                "yshift": 15,
                "z": -0.7014996734000001
               },
               {
                "font": {
                 "color": "blue"
                },
                "showarrow": false,
                "text": 4,
                "x": -0.024003009500000002,
                "y": -2.127543814,
                "yshift": 15,
                "z": 0.6556390053
               },
               {
                "font": {
                 "color": "blue"
                },
                "showarrow": false,
                "text": 5,
                "x": -0.0028514919,
                "y": -0.8158043987000001,
                "yshift": 15,
                "z": 1.122248485
               },
               {
                "font": {
                 "color": "blue"
                },
                "showarrow": false,
                "text": 6,
                "x": 0.165528295,
                "y": 1.6779541,
                "yshift": 15,
                "z": -0.7220664542
               },
               {
                "font": {
                 "color": "blue"
                },
                "showarrow": false,
                "text": 7,
                "x": 0.0522997421,
                "y": -2.816909781,
                "yshift": 15,
                "z": -1.43043336
               },
               {
                "font": {
                 "color": "blue"
                },
                "showarrow": false,
                "text": 8,
                "x": -0.0832076586,
                "y": -2.967081222,
                "yshift": 15,
                "z": 1.3267600720000001
               },
               {
                "font": {
                 "color": "blue"
                },
                "showarrow": false,
                "text": 9,
                "x": -0.038000570899999996,
                "y": -0.5033775748,
                "yshift": 15,
                "z": 2.077034732
               },
               {
                "showarrow": false,
                "text": 1.34,
                "x": 0.0931450448,
                "y": 0.646307677,
                "yshift": 10,
                "z": 0.09816880945
               },
               {
                "showarrow": false,
                "text": 1.31,
                "x": 0.0901766322,
                "y": -0.35702132155,
                "yshift": 10,
                "z": -0.53394006765
               },
               {
                "showarrow": false,
                "text": 1.39,
                "x": 0.074700042,
                "y": -1.35700087155,
                "yshift": 10,
                "z": -0.8975288892
               },
               {
                "showarrow": false,
                "text": 1.36,
                "x": 0.00989111755,
                "y": -2.0746291,
                "yshift": 10,
                "z": -0.02293033405
               },
               {
                "showarrow": false,
                "text": 1.39,
                "x": -0.0134272507,
                "y": -1.47167410635,
                "yshift": 10,
                "z": 0.88894374515
               },
               {
                "showarrow": false,
                "text": 1.36,
                "x": 0.03594346655,
                "y": -0.41877984235,
                "yshift": 10,
                "z": 0.57396322735
               },
               {
                "showarrow": false,
                "text": 1.08,
                "x": 0.04804249335,
                "y": -2.4193120835,
                "yshift": 10,
                "z": -1.0659665167
               },
               {
                "showarrow": false,
                "text": 1.08,
                "x": -0.05360533405,
                "y": -2.547312518,
                "yshift": 10,
                "z": 0.99119953865
               },
               {
                "showarrow": false,
                "text": 1.01,
                "x": -0.0204260314,
                "y": -0.65959098675,
                "yshift": 10,
                "z": 1.5996416085
               },
               {
                "showarrow": false,
                "text": 0.97,
                "x": 0.1385399798,
                "y": 1.49616237,
                "yshift": 10,
                "z": -0.2757034025
               },
               {
                "font": {
                 "color": "hotpink"
                },
                "showarrow": false,
                "text": 12.59,
                "x": 0.06351908355,
                "y": -1.4193325335,
                "yshift": 25,
                "z": -0.70237769515
               },
               {
                "font": {
                 "color": "hotpink"
                },
                "showarrow": false,
                "text": 8.76,
                "x": 0.07895729075,
                "y": -1.75459856905,
                "yshift": 25,
                "z": -1.2619957325
               },
               {
                "font": {
                 "color": "hotpink"
                },
                "showarrow": false,
                "text": 133.75,
                "x": 0.04804249335,
                "y": -2.4193120835,
                "yshift": 25,
                "z": -1.0659665167
               },
               {
                "font": {
                 "color": "hotpink"
                },
                "showarrow": false,
                "text": 13.28,
                "x": 0.0141483663,
                "y": -2.4722267975,
                "yshift": 25,
                "z": -0.38739717735
               },
               {
                "font": {
                 "color": "hotpink"
                },
                "showarrow": false,
                "text": 1.92,
                "x": 0.0247241251,
                "y": -1.81635708985,
                "yshift": 25,
                "z": -0.1540924375
               },
               {
                "font": {
                 "color": "hotpink"
                },
                "showarrow": false,
                "text": -0.1,
                "x": -0.01545395825,
                "y": -2.8919955015,
                "yshift": 25,
                "z": -0.051836644
               }
              ]
             }
            ],
            "label": "Atom 7",
            "method": "update"
           },
           {
            "args": [
             {
              "visible": [
               true,
               true,
               false,
               false,
               true,
               false
              ]
             },
             {
              "scene.annotations": [
               {
                "font": {
                 "color": "blue"
                },
                "showarrow": false,
                "text": 0,
                "x": 0.1115516646,
                "y": 1.31437064,
                "yshift": 15,
                "z": 0.1706596492
               },
               {
                "font": {
                 "color": "blue"
                },
                "showarrow": false,
                "text": 1,
                "x": 0.074738425,
                "y": -0.021755286000000002,
                "yshift": 15,
                "z": 0.0256779697
               },
               {
                "font": {
                 "color": "blue"
                },
                "showarrow": false,
                "text": 2,
                "x": 0.1056148394,
                "y": -0.6922873570999999,
                "yshift": 15,
                "z": -1.093558105
               },
               {
                "font": {
                 "color": "blue"
                },
                "showarrow": false,
                "text": 3,
                "x": 0.0437852446,
                "y": -2.0217143859999998,
                "yshift": 15,
                "z": -0.7014996734000001
               },
               {
                "font": {
                 "color": "blue"
                },
                "showarrow": false,
                "text": 4,
                "x": -0.024003009500000002,
                "y": -2.127543814,
                "yshift": 15,
                "z": 0.6556390053
               },
               {
                "font": {
                 "color": "blue"
                },
                "showarrow": false,
                "text": 5,
                "x": -0.0028514919,
                "y": -0.8158043987000001,
                "yshift": 15,
                "z": 1.122248485
               },
               {
                "font": {
                 "color": "blue"
                },
                "showarrow": false,
                "text": 6,
                "x": 0.165528295,
                "y": 1.6779541,
                "yshift": 15,
                "z": -0.7220664542
               },
               {
                "font": {
                 "color": "blue"
                },
                "showarrow": false,
                "text": 7,
                "x": 0.0522997421,
                "y": -2.816909781,
                "yshift": 15,
                "z": -1.43043336
               },
               {
                "font": {
                 "color": "blue"
                },
                "showarrow": false,
                "text": 8,
                "x": -0.0832076586,
                "y": -2.967081222,
                "yshift": 15,
                "z": 1.3267600720000001
               },
               {
                "font": {
                 "color": "blue"
                },
                "showarrow": false,
                "text": 9,
                "x": -0.038000570899999996,
                "y": -0.5033775748,
                "yshift": 15,
                "z": 2.077034732
               },
               {
                "showarrow": false,
                "text": 1.34,
                "x": 0.0931450448,
                "y": 0.646307677,
                "yshift": 10,
                "z": 0.09816880945
               },
               {
                "showarrow": false,
                "text": 1.31,
                "x": 0.0901766322,
                "y": -0.35702132155,
                "yshift": 10,
                "z": -0.53394006765
               },
               {
                "showarrow": false,
                "text": 1.39,
                "x": 0.074700042,
                "y": -1.35700087155,
                "yshift": 10,
                "z": -0.8975288892
               },
               {
                "showarrow": false,
                "text": 1.36,
                "x": 0.00989111755,
                "y": -2.0746291,
                "yshift": 10,
                "z": -0.02293033405
               },
               {
                "showarrow": false,
                "text": 1.39,
                "x": -0.0134272507,
                "y": -1.47167410635,
                "yshift": 10,
                "z": 0.88894374515
               },
               {
                "showarrow": false,
                "text": 1.36,
                "x": 0.03594346655,
                "y": -0.41877984235,
                "yshift": 10,
                "z": 0.57396322735
               },
               {
                "showarrow": false,
                "text": 1.08,
                "x": 0.04804249335,
                "y": -2.4193120835,
                "yshift": 10,
                "z": -1.0659665167
               },
               {
                "showarrow": false,
                "text": 1.08,
                "x": -0.05360533405,
                "y": -2.547312518,
                "yshift": 10,
                "z": 0.99119953865
               },
               {
                "showarrow": false,
                "text": 1.01,
                "x": -0.0204260314,
                "y": -0.65959098675,
                "yshift": 10,
                "z": 1.5996416085
               },
               {
                "showarrow": false,
                "text": 0.97,
                "x": 0.1385399798,
                "y": 1.49616237,
                "yshift": 10,
                "z": -0.2757034025
               },
               {
                "font": {
                 "color": "hotpink"
                },
                "showarrow": false,
                "text": 7.88,
                "x": -0.0042346168,
                "y": -1.494418254,
                "yshift": 25,
                "z": 0.67621902085
               },
               {
                "font": {
                 "color": "hotpink"
                },
                "showarrow": false,
                "text": 0.08,
                "x": 0.0112035904,
                "y": -1.82968428955,
                "yshift": 25,
                "z": 0.1166009835
               },
               {
                "font": {
                 "color": "hotpink"
                },
                "showarrow": false,
                "text": 5.76,
                "x": -0.019711207,
                "y": -2.494397804,
                "yshift": 25,
                "z": 0.3126301993
               },
               {
                "font": {
                 "color": "hotpink"
                },
                "showarrow": false,
                "text": 130.46,
                "x": -0.05360533405,
                "y": -2.547312518,
                "yshift": 25,
                "z": 0.99119953865
               },
               {
                "font": {
                 "color": "hotpink"
                },
                "showarrow": false,
                "text": 4.34,
                "x": -0.04302957525,
                "y": -1.89144281035,
                "yshift": 25,
                "z": 1.2245042785
               },
               {
                "font": {
                 "color": "hotpink"
                },
                "showarrow": false,
                "text": -0.12,
                "x": -0.06060411475,
                "y": -1.7352293984,
                "yshift": 25,
                "z": 1.701897402
               }
              ]
             }
            ],
            "label": "Atom 8",
            "method": "update"
           },
           {
            "args": [
             {
              "visible": [
               true,
               true,
               false,
               false,
               false,
               true
              ]
             },
             {
              "scene.annotations": [
               {
                "font": {
                 "color": "blue"
                },
                "showarrow": false,
                "text": 0,
                "x": 0.1115516646,
                "y": 1.31437064,
                "yshift": 15,
                "z": 0.1706596492
               },
               {
                "font": {
                 "color": "blue"
                },
                "showarrow": false,
                "text": 1,
                "x": 0.074738425,
                "y": -0.021755286000000002,
                "yshift": 15,
                "z": 0.0256779697
               },
               {
                "font": {
                 "color": "blue"
                },
                "showarrow": false,
                "text": 2,
                "x": 0.1056148394,
                "y": -0.6922873570999999,
                "yshift": 15,
                "z": -1.093558105
               },
               {
                "font": {
                 "color": "blue"
                },
                "showarrow": false,
                "text": 3,
                "x": 0.0437852446,
                "y": -2.0217143859999998,
                "yshift": 15,
                "z": -0.7014996734000001
               },
               {
                "font": {
                 "color": "blue"
                },
                "showarrow": false,
                "text": 4,
                "x": -0.024003009500000002,
                "y": -2.127543814,
                "yshift": 15,
                "z": 0.6556390053
               },
               {
                "font": {
                 "color": "blue"
                },
                "showarrow": false,
                "text": 5,
                "x": -0.0028514919,
                "y": -0.8158043987000001,
                "yshift": 15,
                "z": 1.122248485
               },
               {
                "font": {
                 "color": "blue"
                },
                "showarrow": false,
                "text": 6,
                "x": 0.165528295,
                "y": 1.6779541,
                "yshift": 15,
                "z": -0.7220664542
               },
               {
                "font": {
                 "color": "blue"
                },
                "showarrow": false,
                "text": 7,
                "x": 0.0522997421,
                "y": -2.816909781,
                "yshift": 15,
                "z": -1.43043336
               },
               {
                "font": {
                 "color": "blue"
                },
                "showarrow": false,
                "text": 8,
                "x": -0.0832076586,
                "y": -2.967081222,
                "yshift": 15,
                "z": 1.3267600720000001
               },
               {
                "font": {
                 "color": "blue"
                },
                "showarrow": false,
                "text": 9,
                "x": -0.038000570899999996,
                "y": -0.5033775748,
                "yshift": 15,
                "z": 2.077034732
               },
               {
                "showarrow": false,
                "text": 1.34,
                "x": 0.0931450448,
                "y": 0.646307677,
                "yshift": 10,
                "z": 0.09816880945
               },
               {
                "showarrow": false,
                "text": 1.31,
                "x": 0.0901766322,
                "y": -0.35702132155,
                "yshift": 10,
                "z": -0.53394006765
               },
               {
                "showarrow": false,
                "text": 1.39,
                "x": 0.074700042,
                "y": -1.35700087155,
                "yshift": 10,
                "z": -0.8975288892
               },
               {
                "showarrow": false,
                "text": 1.36,
                "x": 0.00989111755,
                "y": -2.0746291,
                "yshift": 10,
                "z": -0.02293033405
               },
               {
                "showarrow": false,
                "text": 1.39,
                "x": -0.0134272507,
                "y": -1.47167410635,
                "yshift": 10,
                "z": 0.88894374515
               },
               {
                "showarrow": false,
                "text": 1.36,
                "x": 0.03594346655,
                "y": -0.41877984235,
                "yshift": 10,
                "z": 0.57396322735
               },
               {
                "showarrow": false,
                "text": 1.08,
                "x": 0.04804249335,
                "y": -2.4193120835,
                "yshift": 10,
                "z": -1.0659665167
               },
               {
                "showarrow": false,
                "text": 1.08,
                "x": -0.05360533405,
                "y": -2.547312518,
                "yshift": 10,
                "z": 0.99119953865
               },
               {
                "showarrow": false,
                "text": 1.01,
                "x": -0.0204260314,
                "y": -0.65959098675,
                "yshift": 10,
                "z": 1.5996416085
               },
               {
                "showarrow": false,
                "text": 0.97,
                "x": 0.1385399798,
                "y": 1.49616237,
                "yshift": 10,
                "z": -0.2757034025
               },
               {
                "font": {
                 "color": "hotpink"
                },
                "showarrow": false,
                "text": -3.3,
                "x": 0.01836892705,
                "y": -0.2625664304,
                "yshift": 25,
                "z": 1.05135635085
               },
               {
                "font": {
                 "color": "hotpink"
                },
                "showarrow": false,
                "text": -0.52,
                "x": 0.03380713425,
                "y": -0.59783246595,
                "yshift": 25,
                "z": 0.4917383135
               },
               {
                "font": {
                 "color": "hotpink"
                },
                "showarrow": false,
                "text": 8.16,
                "x": 0.00289233685,
                "y": -1.2625459804,
                "yshift": 25,
                "z": 0.6877675293
               },
               {
                "font": {
                 "color": "hotpink"
                },
                "showarrow": false,
                "text": 4.8,
                "x": -0.0310017902,
                "y": -1.3154606944,
                "yshift": 25,
                "z": 1.36633686865
               },
               {
                "font": {
                 "color": "hotpink"
                },
                "showarrow": false,
                "text": 60.53,
                "x": -0.0204260314,
                "y": -0.65959098675,
                "yshift": 25,
                "z": 1.5996416085
               }
              ]
             }
            ],
            "label": "Atom 9",
            "method": "update"
           }
          ],
          "direction": "down",
          "xanchor": "left",
          "yanchor": "top"
         }
        ]
       }
      },
      "text/html": [
       "<div>\n",
       "        \n",
       "        \n",
       "            <div id=\"66d698ee-6183-4533-8888-0e23c5d0a162\" class=\"plotly-graph-div\" style=\"height:525px; width:100%;\"></div>\n",
       "            <script type=\"text/javascript\">\n",
       "                require([\"plotly\"], function(Plotly) {\n",
       "                    window.PLOTLYENV=window.PLOTLYENV || {};\n",
       "                    \n",
       "                if (document.getElementById(\"66d698ee-6183-4533-8888-0e23c5d0a162\")) {\n",
       "                    Plotly.newPlot(\n",
       "                        '66d698ee-6183-4533-8888-0e23c5d0a162',\n",
       "                        [{\"marker\": {\"color\": [\"red\", \"black\", \"blue\", \"black\", \"black\", \"blue\", \"white\", \"white\", \"white\", \"white\"], \"line\": {\"color\": \"lightgray\", \"width\": 2}, \"opacity\": 0.8, \"size\": 7, \"symbol\": \"circle\"}, \"mode\": \"markers\", \"name\": \"\", \"text\": [\"O\", \"C\", \"N\", \"C\", \"C\", \"N\", \"H\", \"H\", \"H\", \"H\"], \"type\": \"scatter3d\", \"x\": [0.1115516646, 0.074738425, 0.1056148394, 0.0437852446, -0.024003009500000002, -0.0028514919, 0.165528295, 0.0522997421, -0.0832076586, -0.038000570899999996], \"y\": [1.31437064, -0.021755286000000002, -0.6922873570999999, -2.0217143859999998, -2.127543814, -0.8158043987000001, 1.6779541, -2.816909781, -2.967081222, -0.5033775748], \"z\": [0.1706596492, 0.0256779697, -1.093558105, -0.7014996734000001, 0.6556390053, 1.122248485, -0.7220664542, -1.43043336, 1.3267600720000001, 2.077034732]}, {\"hoverinfo\": \"none\", \"line\": {\"width\": 3}, \"marker\": {\"color\": \"grey\", \"opacity\": 1, \"size\": 7}, \"mode\": \"lines\", \"type\": \"scatter3d\", \"x\": [0.1115516646, 0.074738425, null, 0.074738425, 0.1056148394, null, 0.1056148394, 0.0437852446, null, 0.0437852446, -0.024003009500000002, null, -0.024003009500000002, -0.0028514919, null, 0.074738425, -0.0028514919, null, 0.0437852446, 0.0522997421, null, -0.0832076586, -0.024003009500000002, null, -0.038000570899999996, -0.0028514919, null, 0.1115516646, 0.165528295, null], \"y\": [1.31437064, -0.021755286000000002, null, -0.021755286000000002, -0.6922873570999999, null, -0.6922873570999999, -2.0217143859999998, null, -2.0217143859999998, -2.127543814, null, -2.127543814, -0.8158043987000001, null, -0.021755286000000002, -0.8158043987000001, null, -2.0217143859999998, -2.816909781, null, -2.967081222, -2.127543814, null, -0.5033775748, -0.8158043987000001, null, 1.31437064, 1.6779541, null], \"z\": [0.1706596492, 0.0256779697, null, 0.0256779697, -1.093558105, null, -1.093558105, -0.7014996734000001, null, -0.7014996734000001, 0.6556390053, null, 0.6556390053, 1.122248485, null, 0.0256779697, 1.122248485, null, -0.7014996734000001, -1.43043336, null, 1.3267600720000001, 0.6556390053, null, 2.077034732, 1.122248485, null, 0.1706596492, -0.7220664542, null]}, {\"hoverinfo\": \"none\", \"marker\": {\"color\": \"pink\", \"opacity\": 0.5, \"size\": 7}, \"mode\": \"lines\", \"type\": \"scatter3d\", \"visible\": true, \"x\": [0.165528295, 0.074738425, null, 0.165528295, 0.1056148394, null, 0.165528295, -0.0028514919, null], \"y\": [1.6779541, -0.021755286000000002, null, 1.6779541, -0.6922873570999999, null, 1.6779541, -0.8158043987000001, null], \"z\": [-0.7220664542, 0.0256779697, null, -0.7220664542, -1.093558105, null, -0.7220664542, 1.122248485, null]}, {\"hoverinfo\": \"none\", \"marker\": {\"color\": \"pink\", \"opacity\": 0.5, \"size\": 7}, \"mode\": \"lines\", \"type\": \"scatter3d\", \"visible\": false, \"x\": [0.0522997421, 0.074738425, null, 0.0522997421, 0.1056148394, null, 0.0522997421, 0.0437852446, null, 0.0522997421, -0.024003009500000002, null, 0.0522997421, -0.0028514919, null, 0.0522997421, -0.0832076586, null], \"y\": [-2.816909781, -0.021755286000000002, null, -2.816909781, -0.6922873570999999, null, -2.816909781, -2.0217143859999998, null, -2.816909781, -2.127543814, null, -2.816909781, -0.8158043987000001, null, -2.816909781, -2.967081222, null], \"z\": [-1.43043336, 0.0256779697, null, -1.43043336, -1.093558105, null, -1.43043336, -0.7014996734000001, null, -1.43043336, 0.6556390053, null, -1.43043336, 1.122248485, null, -1.43043336, 1.3267600720000001, null]}, {\"hoverinfo\": \"none\", \"marker\": {\"color\": \"pink\", \"opacity\": 0.5, \"size\": 7}, \"mode\": \"lines\", \"type\": \"scatter3d\", \"visible\": false, \"x\": [-0.0832076586, 0.074738425, null, -0.0832076586, 0.1056148394, null, -0.0832076586, 0.0437852446, null, -0.0832076586, -0.024003009500000002, null, -0.0832076586, -0.0028514919, null, -0.0832076586, -0.038000570899999996, null], \"y\": [-2.967081222, -0.021755286000000002, null, -2.967081222, -0.6922873570999999, null, -2.967081222, -2.0217143859999998, null, -2.967081222, -2.127543814, null, -2.967081222, -0.8158043987000001, null, -2.967081222, -0.5033775748, null], \"z\": [1.3267600720000001, 0.0256779697, null, 1.3267600720000001, -1.093558105, null, 1.3267600720000001, -0.7014996734000001, null, 1.3267600720000001, 0.6556390053, null, 1.3267600720000001, 1.122248485, null, 1.3267600720000001, 2.077034732, null]}, {\"hoverinfo\": \"none\", \"marker\": {\"color\": \"pink\", \"opacity\": 0.5, \"size\": 7}, \"mode\": \"lines\", \"type\": \"scatter3d\", \"visible\": false, \"x\": [-0.038000570899999996, 0.074738425, null, -0.038000570899999996, 0.1056148394, null, -0.038000570899999996, 0.0437852446, null, -0.038000570899999996, -0.024003009500000002, null, -0.038000570899999996, -0.0028514919, null], \"y\": [-0.5033775748, -0.021755286000000002, null, -0.5033775748, -0.6922873570999999, null, -0.5033775748, -2.0217143859999998, null, -0.5033775748, -2.127543814, null, -0.5033775748, -0.8158043987000001, null], \"z\": [2.077034732, 0.0256779697, null, 2.077034732, -1.093558105, null, 2.077034732, -0.7014996734000001, null, 2.077034732, 0.6556390053, null, 2.077034732, 1.122248485, null]}],\n",
       "                        {\"margin\": {\"b\": 0, \"l\": 0, \"r\": 0, \"t\": 0}, \"scene\": {\"annotations\": [{\"font\": {\"color\": \"blue\"}, \"showarrow\": false, \"text\": \"0\", \"x\": 0.1115516646, \"y\": 1.31437064, \"yshift\": 15, \"z\": 0.1706596492}, {\"font\": {\"color\": \"blue\"}, \"showarrow\": false, \"text\": \"1\", \"x\": 0.074738425, \"y\": -0.021755286000000002, \"yshift\": 15, \"z\": 0.0256779697}, {\"font\": {\"color\": \"blue\"}, \"showarrow\": false, \"text\": \"2\", \"x\": 0.1056148394, \"y\": -0.6922873570999999, \"yshift\": 15, \"z\": -1.093558105}, {\"font\": {\"color\": \"blue\"}, \"showarrow\": false, \"text\": \"3\", \"x\": 0.0437852446, \"y\": -2.0217143859999998, \"yshift\": 15, \"z\": -0.7014996734000001}, {\"font\": {\"color\": \"blue\"}, \"showarrow\": false, \"text\": \"4\", \"x\": -0.024003009500000002, \"y\": -2.127543814, \"yshift\": 15, \"z\": 0.6556390053}, {\"font\": {\"color\": \"blue\"}, \"showarrow\": false, \"text\": \"5\", \"x\": -0.0028514919, \"y\": -0.8158043987000001, \"yshift\": 15, \"z\": 1.122248485}, {\"font\": {\"color\": \"blue\"}, \"showarrow\": false, \"text\": \"6\", \"x\": 0.165528295, \"y\": 1.6779541, \"yshift\": 15, \"z\": -0.7220664542}, {\"font\": {\"color\": \"blue\"}, \"showarrow\": false, \"text\": \"7\", \"x\": 0.0522997421, \"y\": -2.816909781, \"yshift\": 15, \"z\": -1.43043336}, {\"font\": {\"color\": \"blue\"}, \"showarrow\": false, \"text\": \"8\", \"x\": -0.0832076586, \"y\": -2.967081222, \"yshift\": 15, \"z\": 1.3267600720000001}, {\"font\": {\"color\": \"blue\"}, \"showarrow\": false, \"text\": \"9\", \"x\": -0.038000570899999996, \"y\": -0.5033775748, \"yshift\": 15, \"z\": 2.077034732}, {\"showarrow\": false, \"text\": \"1.34\", \"x\": 0.0931450448, \"y\": 0.646307677, \"yshift\": 10, \"z\": 0.09816880945}, {\"showarrow\": false, \"text\": \"1.31\", \"x\": 0.0901766322, \"y\": -0.35702132155, \"yshift\": 10, \"z\": -0.53394006765}, {\"showarrow\": false, \"text\": \"1.39\", \"x\": 0.074700042, \"y\": -1.35700087155, \"yshift\": 10, \"z\": -0.8975288892}, {\"showarrow\": false, \"text\": \"1.36\", \"x\": 0.00989111755, \"y\": -2.0746291, \"yshift\": 10, \"z\": -0.02293033405}, {\"showarrow\": false, \"text\": \"1.39\", \"x\": -0.0134272507, \"y\": -1.47167410635, \"yshift\": 10, \"z\": 0.88894374515}, {\"showarrow\": false, \"text\": \"1.36\", \"x\": 0.03594346655, \"y\": -0.41877984235, \"yshift\": 10, \"z\": 0.57396322735}, {\"showarrow\": false, \"text\": \"1.08\", \"x\": 0.04804249335, \"y\": -2.4193120835, \"yshift\": 10, \"z\": -1.0659665167}, {\"showarrow\": false, \"text\": \"1.08\", \"x\": -0.05360533405, \"y\": -2.547312518, \"yshift\": 10, \"z\": 0.99119953865}, {\"showarrow\": false, \"text\": \"1.01\", \"x\": -0.0204260314, \"y\": -0.65959098675, \"yshift\": 10, \"z\": 1.5996416085}, {\"showarrow\": false, \"text\": \"0.97\", \"x\": 0.1385399798, \"y\": 1.49616237, \"yshift\": 10, \"z\": -0.2757034025}, {\"font\": {\"color\": \"hotpink\"}, \"showarrow\": false, \"text\": \"-1.42\", \"x\": 0.12013336, \"y\": 0.828099407, \"yshift\": 25, \"z\": -0.34819424225}, {\"font\": {\"color\": \"hotpink\"}, \"showarrow\": false, \"text\": \"-0.6\", \"x\": 0.1355715672, \"y\": 0.49283337145, \"yshift\": 25, \"z\": -0.9078122796}, {\"font\": {\"color\": \"hotpink\"}, \"showarrow\": false, \"text\": \"2.67\", \"x\": 0.08133840155, \"y\": 0.43107485065, \"yshift\": 25, \"z\": 0.2000910154}], \"xaxis\": {\"showbackground\": false, \"showgrid\": false, \"showticklabels\": false, \"title\": {\"font\": {\"color\": \"white\"}}, \"zeroline\": false}, \"yaxis\": {\"showbackground\": false, \"showgrid\": false, \"showticklabels\": false, \"title\": {\"font\": {\"color\": \"white\"}}, \"zeroline\": false}, \"zaxis\": {\"showbackground\": false, \"showgrid\": false, \"showticklabels\": false, \"title\": {\"font\": {\"color\": \"white\"}}, \"zeroline\": false}}, \"showlegend\": false, \"template\": {\"data\": {\"bar\": [{\"error_x\": {\"color\": \"#2a3f5f\"}, \"error_y\": {\"color\": \"#2a3f5f\"}, \"marker\": {\"line\": {\"color\": \"#E5ECF6\", \"width\": 0.5}}, \"type\": \"bar\"}], \"barpolar\": [{\"marker\": {\"line\": {\"color\": \"#E5ECF6\", \"width\": 0.5}}, \"type\": \"barpolar\"}], \"carpet\": [{\"aaxis\": {\"endlinecolor\": \"#2a3f5f\", \"gridcolor\": \"white\", \"linecolor\": \"white\", \"minorgridcolor\": \"white\", \"startlinecolor\": \"#2a3f5f\"}, \"baxis\": {\"endlinecolor\": \"#2a3f5f\", \"gridcolor\": \"white\", \"linecolor\": \"white\", \"minorgridcolor\": \"white\", \"startlinecolor\": \"#2a3f5f\"}, \"type\": \"carpet\"}], \"choropleth\": [{\"colorbar\": {\"outlinewidth\": 0, \"ticks\": \"\"}, \"type\": \"choropleth\"}], \"contour\": [{\"colorbar\": {\"outlinewidth\": 0, \"ticks\": \"\"}, \"colorscale\": [[0.0, \"#0d0887\"], [0.1111111111111111, \"#46039f\"], [0.2222222222222222, \"#7201a8\"], [0.3333333333333333, \"#9c179e\"], [0.4444444444444444, \"#bd3786\"], [0.5555555555555556, \"#d8576b\"], [0.6666666666666666, \"#ed7953\"], [0.7777777777777778, \"#fb9f3a\"], [0.8888888888888888, \"#fdca26\"], [1.0, \"#f0f921\"]], \"type\": \"contour\"}], \"contourcarpet\": [{\"colorbar\": {\"outlinewidth\": 0, \"ticks\": \"\"}, \"type\": \"contourcarpet\"}], \"heatmap\": [{\"colorbar\": {\"outlinewidth\": 0, \"ticks\": \"\"}, \"colorscale\": [[0.0, \"#0d0887\"], [0.1111111111111111, \"#46039f\"], [0.2222222222222222, \"#7201a8\"], [0.3333333333333333, \"#9c179e\"], [0.4444444444444444, \"#bd3786\"], [0.5555555555555556, \"#d8576b\"], [0.6666666666666666, \"#ed7953\"], [0.7777777777777778, \"#fb9f3a\"], [0.8888888888888888, \"#fdca26\"], [1.0, \"#f0f921\"]], \"type\": \"heatmap\"}], \"heatmapgl\": [{\"colorbar\": {\"outlinewidth\": 0, \"ticks\": \"\"}, \"colorscale\": [[0.0, \"#0d0887\"], [0.1111111111111111, \"#46039f\"], [0.2222222222222222, \"#7201a8\"], [0.3333333333333333, \"#9c179e\"], [0.4444444444444444, \"#bd3786\"], [0.5555555555555556, \"#d8576b\"], [0.6666666666666666, \"#ed7953\"], [0.7777777777777778, \"#fb9f3a\"], [0.8888888888888888, \"#fdca26\"], [1.0, \"#f0f921\"]], \"type\": \"heatmapgl\"}], \"histogram\": [{\"marker\": {\"colorbar\": {\"outlinewidth\": 0, \"ticks\": \"\"}}, \"type\": \"histogram\"}], \"histogram2d\": [{\"colorbar\": {\"outlinewidth\": 0, \"ticks\": \"\"}, \"colorscale\": [[0.0, \"#0d0887\"], [0.1111111111111111, \"#46039f\"], [0.2222222222222222, \"#7201a8\"], [0.3333333333333333, \"#9c179e\"], [0.4444444444444444, \"#bd3786\"], [0.5555555555555556, \"#d8576b\"], [0.6666666666666666, \"#ed7953\"], [0.7777777777777778, \"#fb9f3a\"], [0.8888888888888888, \"#fdca26\"], [1.0, \"#f0f921\"]], \"type\": \"histogram2d\"}], \"histogram2dcontour\": [{\"colorbar\": {\"outlinewidth\": 0, \"ticks\": \"\"}, \"colorscale\": [[0.0, \"#0d0887\"], [0.1111111111111111, \"#46039f\"], [0.2222222222222222, \"#7201a8\"], [0.3333333333333333, \"#9c179e\"], [0.4444444444444444, \"#bd3786\"], [0.5555555555555556, \"#d8576b\"], [0.6666666666666666, \"#ed7953\"], [0.7777777777777778, \"#fb9f3a\"], [0.8888888888888888, \"#fdca26\"], [1.0, \"#f0f921\"]], \"type\": \"histogram2dcontour\"}], \"mesh3d\": [{\"colorbar\": {\"outlinewidth\": 0, \"ticks\": \"\"}, \"type\": \"mesh3d\"}], \"parcoords\": [{\"line\": {\"colorbar\": {\"outlinewidth\": 0, \"ticks\": \"\"}}, \"type\": \"parcoords\"}], \"scatter\": [{\"marker\": {\"colorbar\": {\"outlinewidth\": 0, \"ticks\": \"\"}}, \"type\": \"scatter\"}], \"scatter3d\": [{\"line\": {\"colorbar\": {\"outlinewidth\": 0, \"ticks\": \"\"}}, \"marker\": {\"colorbar\": {\"outlinewidth\": 0, \"ticks\": \"\"}}, \"type\": \"scatter3d\"}], \"scattercarpet\": [{\"marker\": {\"colorbar\": {\"outlinewidth\": 0, \"ticks\": \"\"}}, \"type\": \"scattercarpet\"}], \"scattergeo\": [{\"marker\": {\"colorbar\": {\"outlinewidth\": 0, \"ticks\": \"\"}}, \"type\": \"scattergeo\"}], \"scattergl\": [{\"marker\": {\"colorbar\": {\"outlinewidth\": 0, \"ticks\": \"\"}}, \"type\": \"scattergl\"}], \"scattermapbox\": [{\"marker\": {\"colorbar\": {\"outlinewidth\": 0, \"ticks\": \"\"}}, \"type\": \"scattermapbox\"}], \"scatterpolar\": [{\"marker\": {\"colorbar\": {\"outlinewidth\": 0, \"ticks\": \"\"}}, \"type\": \"scatterpolar\"}], \"scatterpolargl\": [{\"marker\": {\"colorbar\": {\"outlinewidth\": 0, \"ticks\": \"\"}}, \"type\": \"scatterpolargl\"}], \"scatterternary\": [{\"marker\": {\"colorbar\": {\"outlinewidth\": 0, \"ticks\": \"\"}}, \"type\": \"scatterternary\"}], \"surface\": [{\"colorbar\": {\"outlinewidth\": 0, \"ticks\": \"\"}, \"colorscale\": [[0.0, \"#0d0887\"], [0.1111111111111111, \"#46039f\"], [0.2222222222222222, \"#7201a8\"], [0.3333333333333333, \"#9c179e\"], [0.4444444444444444, \"#bd3786\"], [0.5555555555555556, \"#d8576b\"], [0.6666666666666666, \"#ed7953\"], [0.7777777777777778, \"#fb9f3a\"], [0.8888888888888888, \"#fdca26\"], [1.0, \"#f0f921\"]], \"type\": \"surface\"}], \"table\": [{\"cells\": {\"fill\": {\"color\": \"#EBF0F8\"}, \"line\": {\"color\": \"white\"}}, \"header\": {\"fill\": {\"color\": \"#C8D4E3\"}, \"line\": {\"color\": \"white\"}}, \"type\": \"table\"}]}, \"layout\": {\"annotationdefaults\": {\"arrowcolor\": \"#2a3f5f\", \"arrowhead\": 0, \"arrowwidth\": 1}, \"colorscale\": {\"diverging\": [[0, \"#8e0152\"], [0.1, \"#c51b7d\"], [0.2, \"#de77ae\"], [0.3, \"#f1b6da\"], [0.4, \"#fde0ef\"], [0.5, \"#f7f7f7\"], [0.6, \"#e6f5d0\"], [0.7, \"#b8e186\"], [0.8, \"#7fbc41\"], [0.9, \"#4d9221\"], [1, \"#276419\"]], \"sequential\": [[0.0, \"#0d0887\"], [0.1111111111111111, \"#46039f\"], [0.2222222222222222, \"#7201a8\"], [0.3333333333333333, \"#9c179e\"], [0.4444444444444444, \"#bd3786\"], [0.5555555555555556, \"#d8576b\"], [0.6666666666666666, \"#ed7953\"], [0.7777777777777778, \"#fb9f3a\"], [0.8888888888888888, \"#fdca26\"], [1.0, \"#f0f921\"]], \"sequentialminus\": [[0.0, \"#0d0887\"], [0.1111111111111111, \"#46039f\"], [0.2222222222222222, \"#7201a8\"], [0.3333333333333333, \"#9c179e\"], [0.4444444444444444, \"#bd3786\"], [0.5555555555555556, \"#d8576b\"], [0.6666666666666666, \"#ed7953\"], [0.7777777777777778, \"#fb9f3a\"], [0.8888888888888888, \"#fdca26\"], [1.0, \"#f0f921\"]]}, \"colorway\": [\"#636efa\", \"#EF553B\", \"#00cc96\", \"#ab63fa\", \"#FFA15A\", \"#19d3f3\", \"#FF6692\", \"#B6E880\", \"#FF97FF\", \"#FECB52\"], \"font\": {\"color\": \"#2a3f5f\"}, \"geo\": {\"bgcolor\": \"white\", \"lakecolor\": \"white\", \"landcolor\": \"#E5ECF6\", \"showlakes\": true, \"showland\": true, \"subunitcolor\": \"white\"}, \"hoverlabel\": {\"align\": \"left\"}, \"hovermode\": \"closest\", \"mapbox\": {\"style\": \"light\"}, \"paper_bgcolor\": \"white\", \"plot_bgcolor\": \"#E5ECF6\", \"polar\": {\"angularaxis\": {\"gridcolor\": \"white\", \"linecolor\": \"white\", \"ticks\": \"\"}, \"bgcolor\": \"#E5ECF6\", \"radialaxis\": {\"gridcolor\": \"white\", \"linecolor\": \"white\", \"ticks\": \"\"}}, \"scene\": {\"xaxis\": {\"backgroundcolor\": \"#E5ECF6\", \"gridcolor\": \"white\", \"gridwidth\": 2, \"linecolor\": \"white\", \"showbackground\": true, \"ticks\": \"\", \"zerolinecolor\": \"white\"}, \"yaxis\": {\"backgroundcolor\": \"#E5ECF6\", \"gridcolor\": \"white\", \"gridwidth\": 2, \"linecolor\": \"white\", \"showbackground\": true, \"ticks\": \"\", \"zerolinecolor\": \"white\"}, \"zaxis\": {\"backgroundcolor\": \"#E5ECF6\", \"gridcolor\": \"white\", \"gridwidth\": 2, \"linecolor\": \"white\", \"showbackground\": true, \"ticks\": \"\", \"zerolinecolor\": \"white\"}}, \"shapedefaults\": {\"line\": {\"color\": \"#2a3f5f\"}}, \"ternary\": {\"aaxis\": {\"gridcolor\": \"white\", \"linecolor\": \"white\", \"ticks\": \"\"}, \"baxis\": {\"gridcolor\": \"white\", \"linecolor\": \"white\", \"ticks\": \"\"}, \"bgcolor\": \"#E5ECF6\", \"caxis\": {\"gridcolor\": \"white\", \"linecolor\": \"white\", \"ticks\": \"\"}}, \"title\": {\"x\": 0.05}, \"xaxis\": {\"automargin\": true, \"gridcolor\": \"white\", \"linecolor\": \"white\", \"ticks\": \"\", \"zerolinecolor\": \"white\", \"zerolinewidth\": 2}, \"yaxis\": {\"automargin\": true, \"gridcolor\": \"white\", \"linecolor\": \"white\", \"ticks\": \"\", \"zerolinecolor\": \"white\", \"zerolinewidth\": 2}}}, \"updatemenus\": [{\"buttons\": [{\"args\": [{\"visible\": [true, true, true, false, false, false]}, {\"scene.annotations\": [{\"font\": {\"color\": \"blue\"}, \"showarrow\": false, \"text\": 0, \"x\": 0.1115516646, \"y\": 1.31437064, \"yshift\": 15, \"z\": 0.1706596492}, {\"font\": {\"color\": \"blue\"}, \"showarrow\": false, \"text\": 1, \"x\": 0.074738425, \"y\": -0.021755286000000002, \"yshift\": 15, \"z\": 0.0256779697}, {\"font\": {\"color\": \"blue\"}, \"showarrow\": false, \"text\": 2, \"x\": 0.1056148394, \"y\": -0.6922873570999999, \"yshift\": 15, \"z\": -1.093558105}, {\"font\": {\"color\": \"blue\"}, \"showarrow\": false, \"text\": 3, \"x\": 0.0437852446, \"y\": -2.0217143859999998, \"yshift\": 15, \"z\": -0.7014996734000001}, {\"font\": {\"color\": \"blue\"}, \"showarrow\": false, \"text\": 4, \"x\": -0.024003009500000002, \"y\": -2.127543814, \"yshift\": 15, \"z\": 0.6556390053}, {\"font\": {\"color\": \"blue\"}, \"showarrow\": false, \"text\": 5, \"x\": -0.0028514919, \"y\": -0.8158043987000001, \"yshift\": 15, \"z\": 1.122248485}, {\"font\": {\"color\": \"blue\"}, \"showarrow\": false, \"text\": 6, \"x\": 0.165528295, \"y\": 1.6779541, \"yshift\": 15, \"z\": -0.7220664542}, {\"font\": {\"color\": \"blue\"}, \"showarrow\": false, \"text\": 7, \"x\": 0.0522997421, \"y\": -2.816909781, \"yshift\": 15, \"z\": -1.43043336}, {\"font\": {\"color\": \"blue\"}, \"showarrow\": false, \"text\": 8, \"x\": -0.0832076586, \"y\": -2.967081222, \"yshift\": 15, \"z\": 1.3267600720000001}, {\"font\": {\"color\": \"blue\"}, \"showarrow\": false, \"text\": 9, \"x\": -0.038000570899999996, \"y\": -0.5033775748, \"yshift\": 15, \"z\": 2.077034732}, {\"showarrow\": false, \"text\": 1.34, \"x\": 0.0931450448, \"y\": 0.646307677, \"yshift\": 10, \"z\": 0.09816880945}, {\"showarrow\": false, \"text\": 1.31, \"x\": 0.0901766322, \"y\": -0.35702132155, \"yshift\": 10, \"z\": -0.53394006765}, {\"showarrow\": false, \"text\": 1.39, \"x\": 0.074700042, \"y\": -1.35700087155, \"yshift\": 10, \"z\": -0.8975288892}, {\"showarrow\": false, \"text\": 1.36, \"x\": 0.00989111755, \"y\": -2.0746291, \"yshift\": 10, \"z\": -0.02293033405}, {\"showarrow\": false, \"text\": 1.39, \"x\": -0.0134272507, \"y\": -1.47167410635, \"yshift\": 10, \"z\": 0.88894374515}, {\"showarrow\": false, \"text\": 1.36, \"x\": 0.03594346655, \"y\": -0.41877984235, \"yshift\": 10, \"z\": 0.57396322735}, {\"showarrow\": false, \"text\": 1.08, \"x\": 0.04804249335, \"y\": -2.4193120835, \"yshift\": 10, \"z\": -1.0659665167}, {\"showarrow\": false, \"text\": 1.08, \"x\": -0.05360533405, \"y\": -2.547312518, \"yshift\": 10, \"z\": 0.99119953865}, {\"showarrow\": false, \"text\": 1.01, \"x\": -0.0204260314, \"y\": -0.65959098675, \"yshift\": 10, \"z\": 1.5996416085}, {\"showarrow\": false, \"text\": 0.97, \"x\": 0.1385399798, \"y\": 1.49616237, \"yshift\": 10, \"z\": -0.2757034025}, {\"font\": {\"color\": \"hotpink\"}, \"showarrow\": false, \"text\": -1.42, \"x\": 0.12013336, \"y\": 0.828099407, \"yshift\": 25, \"z\": -0.34819424225}, {\"font\": {\"color\": \"hotpink\"}, \"showarrow\": false, \"text\": -0.6, \"x\": 0.1355715672, \"y\": 0.49283337145, \"yshift\": 25, \"z\": -0.9078122796}, {\"font\": {\"color\": \"hotpink\"}, \"showarrow\": false, \"text\": 2.67, \"x\": 0.08133840155, \"y\": 0.43107485065, \"yshift\": 25, \"z\": 0.2000910154}]}], \"label\": \"Atom 6\", \"method\": \"update\"}, {\"args\": [{\"visible\": [true, true, false, true, false, false]}, {\"scene.annotations\": [{\"font\": {\"color\": \"blue\"}, \"showarrow\": false, \"text\": 0, \"x\": 0.1115516646, \"y\": 1.31437064, \"yshift\": 15, \"z\": 0.1706596492}, {\"font\": {\"color\": \"blue\"}, \"showarrow\": false, \"text\": 1, \"x\": 0.074738425, \"y\": -0.021755286000000002, \"yshift\": 15, \"z\": 0.0256779697}, {\"font\": {\"color\": \"blue\"}, \"showarrow\": false, \"text\": 2, \"x\": 0.1056148394, \"y\": -0.6922873570999999, \"yshift\": 15, \"z\": -1.093558105}, {\"font\": {\"color\": \"blue\"}, \"showarrow\": false, \"text\": 3, \"x\": 0.0437852446, \"y\": -2.0217143859999998, \"yshift\": 15, \"z\": -0.7014996734000001}, {\"font\": {\"color\": \"blue\"}, \"showarrow\": false, \"text\": 4, \"x\": -0.024003009500000002, \"y\": -2.127543814, \"yshift\": 15, \"z\": 0.6556390053}, {\"font\": {\"color\": \"blue\"}, \"showarrow\": false, \"text\": 5, \"x\": -0.0028514919, \"y\": -0.8158043987000001, \"yshift\": 15, \"z\": 1.122248485}, {\"font\": {\"color\": \"blue\"}, \"showarrow\": false, \"text\": 6, \"x\": 0.165528295, \"y\": 1.6779541, \"yshift\": 15, \"z\": -0.7220664542}, {\"font\": {\"color\": \"blue\"}, \"showarrow\": false, \"text\": 7, \"x\": 0.0522997421, \"y\": -2.816909781, \"yshift\": 15, \"z\": -1.43043336}, {\"font\": {\"color\": \"blue\"}, \"showarrow\": false, \"text\": 8, \"x\": -0.0832076586, \"y\": -2.967081222, \"yshift\": 15, \"z\": 1.3267600720000001}, {\"font\": {\"color\": \"blue\"}, \"showarrow\": false, \"text\": 9, \"x\": -0.038000570899999996, \"y\": -0.5033775748, \"yshift\": 15, \"z\": 2.077034732}, {\"showarrow\": false, \"text\": 1.34, \"x\": 0.0931450448, \"y\": 0.646307677, \"yshift\": 10, \"z\": 0.09816880945}, {\"showarrow\": false, \"text\": 1.31, \"x\": 0.0901766322, \"y\": -0.35702132155, \"yshift\": 10, \"z\": -0.53394006765}, {\"showarrow\": false, \"text\": 1.39, \"x\": 0.074700042, \"y\": -1.35700087155, \"yshift\": 10, \"z\": -0.8975288892}, {\"showarrow\": false, \"text\": 1.36, \"x\": 0.00989111755, \"y\": -2.0746291, \"yshift\": 10, \"z\": -0.02293033405}, {\"showarrow\": false, \"text\": 1.39, \"x\": -0.0134272507, \"y\": -1.47167410635, \"yshift\": 10, \"z\": 0.88894374515}, {\"showarrow\": false, \"text\": 1.36, \"x\": 0.03594346655, \"y\": -0.41877984235, \"yshift\": 10, \"z\": 0.57396322735}, {\"showarrow\": false, \"text\": 1.08, \"x\": 0.04804249335, \"y\": -2.4193120835, \"yshift\": 10, \"z\": -1.0659665167}, {\"showarrow\": false, \"text\": 1.08, \"x\": -0.05360533405, \"y\": -2.547312518, \"yshift\": 10, \"z\": 0.99119953865}, {\"showarrow\": false, \"text\": 1.01, \"x\": -0.0204260314, \"y\": -0.65959098675, \"yshift\": 10, \"z\": 1.5996416085}, {\"showarrow\": false, \"text\": 0.97, \"x\": 0.1385399798, \"y\": 1.49616237, \"yshift\": 10, \"z\": -0.2757034025}, {\"font\": {\"color\": \"hotpink\"}, \"showarrow\": false, \"text\": 12.59, \"x\": 0.06351908355, \"y\": -1.4193325335, \"yshift\": 25, \"z\": -0.70237769515}, {\"font\": {\"color\": \"hotpink\"}, \"showarrow\": false, \"text\": 8.76, \"x\": 0.07895729075, \"y\": -1.75459856905, \"yshift\": 25, \"z\": -1.2619957325}, {\"font\": {\"color\": \"hotpink\"}, \"showarrow\": false, \"text\": 133.75, \"x\": 0.04804249335, \"y\": -2.4193120835, \"yshift\": 25, \"z\": -1.0659665167}, {\"font\": {\"color\": \"hotpink\"}, \"showarrow\": false, \"text\": 13.28, \"x\": 0.0141483663, \"y\": -2.4722267975, \"yshift\": 25, \"z\": -0.38739717735}, {\"font\": {\"color\": \"hotpink\"}, \"showarrow\": false, \"text\": 1.92, \"x\": 0.0247241251, \"y\": -1.81635708985, \"yshift\": 25, \"z\": -0.1540924375}, {\"font\": {\"color\": \"hotpink\"}, \"showarrow\": false, \"text\": -0.1, \"x\": -0.01545395825, \"y\": -2.8919955015, \"yshift\": 25, \"z\": -0.051836644}]}], \"label\": \"Atom 7\", \"method\": \"update\"}, {\"args\": [{\"visible\": [true, true, false, false, true, false]}, {\"scene.annotations\": [{\"font\": {\"color\": \"blue\"}, \"showarrow\": false, \"text\": 0, \"x\": 0.1115516646, \"y\": 1.31437064, \"yshift\": 15, \"z\": 0.1706596492}, {\"font\": {\"color\": \"blue\"}, \"showarrow\": false, \"text\": 1, \"x\": 0.074738425, \"y\": -0.021755286000000002, \"yshift\": 15, \"z\": 0.0256779697}, {\"font\": {\"color\": \"blue\"}, \"showarrow\": false, \"text\": 2, \"x\": 0.1056148394, \"y\": -0.6922873570999999, \"yshift\": 15, \"z\": -1.093558105}, {\"font\": {\"color\": \"blue\"}, \"showarrow\": false, \"text\": 3, \"x\": 0.0437852446, \"y\": -2.0217143859999998, \"yshift\": 15, \"z\": -0.7014996734000001}, {\"font\": {\"color\": \"blue\"}, \"showarrow\": false, \"text\": 4, \"x\": -0.024003009500000002, \"y\": -2.127543814, \"yshift\": 15, \"z\": 0.6556390053}, {\"font\": {\"color\": \"blue\"}, \"showarrow\": false, \"text\": 5, \"x\": -0.0028514919, \"y\": -0.8158043987000001, \"yshift\": 15, \"z\": 1.122248485}, {\"font\": {\"color\": \"blue\"}, \"showarrow\": false, \"text\": 6, \"x\": 0.165528295, \"y\": 1.6779541, \"yshift\": 15, \"z\": -0.7220664542}, {\"font\": {\"color\": \"blue\"}, \"showarrow\": false, \"text\": 7, \"x\": 0.0522997421, \"y\": -2.816909781, \"yshift\": 15, \"z\": -1.43043336}, {\"font\": {\"color\": \"blue\"}, \"showarrow\": false, \"text\": 8, \"x\": -0.0832076586, \"y\": -2.967081222, \"yshift\": 15, \"z\": 1.3267600720000001}, {\"font\": {\"color\": \"blue\"}, \"showarrow\": false, \"text\": 9, \"x\": -0.038000570899999996, \"y\": -0.5033775748, \"yshift\": 15, \"z\": 2.077034732}, {\"showarrow\": false, \"text\": 1.34, \"x\": 0.0931450448, \"y\": 0.646307677, \"yshift\": 10, \"z\": 0.09816880945}, {\"showarrow\": false, \"text\": 1.31, \"x\": 0.0901766322, \"y\": -0.35702132155, \"yshift\": 10, \"z\": -0.53394006765}, {\"showarrow\": false, \"text\": 1.39, \"x\": 0.074700042, \"y\": -1.35700087155, \"yshift\": 10, \"z\": -0.8975288892}, {\"showarrow\": false, \"text\": 1.36, \"x\": 0.00989111755, \"y\": -2.0746291, \"yshift\": 10, \"z\": -0.02293033405}, {\"showarrow\": false, \"text\": 1.39, \"x\": -0.0134272507, \"y\": -1.47167410635, \"yshift\": 10, \"z\": 0.88894374515}, {\"showarrow\": false, \"text\": 1.36, \"x\": 0.03594346655, \"y\": -0.41877984235, \"yshift\": 10, \"z\": 0.57396322735}, {\"showarrow\": false, \"text\": 1.08, \"x\": 0.04804249335, \"y\": -2.4193120835, \"yshift\": 10, \"z\": -1.0659665167}, {\"showarrow\": false, \"text\": 1.08, \"x\": -0.05360533405, \"y\": -2.547312518, \"yshift\": 10, \"z\": 0.99119953865}, {\"showarrow\": false, \"text\": 1.01, \"x\": -0.0204260314, \"y\": -0.65959098675, \"yshift\": 10, \"z\": 1.5996416085}, {\"showarrow\": false, \"text\": 0.97, \"x\": 0.1385399798, \"y\": 1.49616237, \"yshift\": 10, \"z\": -0.2757034025}, {\"font\": {\"color\": \"hotpink\"}, \"showarrow\": false, \"text\": 7.88, \"x\": -0.0042346168, \"y\": -1.494418254, \"yshift\": 25, \"z\": 0.67621902085}, {\"font\": {\"color\": \"hotpink\"}, \"showarrow\": false, \"text\": 0.08, \"x\": 0.0112035904, \"y\": -1.82968428955, \"yshift\": 25, \"z\": 0.1166009835}, {\"font\": {\"color\": \"hotpink\"}, \"showarrow\": false, \"text\": 5.76, \"x\": -0.019711207, \"y\": -2.494397804, \"yshift\": 25, \"z\": 0.3126301993}, {\"font\": {\"color\": \"hotpink\"}, \"showarrow\": false, \"text\": 130.46, \"x\": -0.05360533405, \"y\": -2.547312518, \"yshift\": 25, \"z\": 0.99119953865}, {\"font\": {\"color\": \"hotpink\"}, \"showarrow\": false, \"text\": 4.34, \"x\": -0.04302957525, \"y\": -1.89144281035, \"yshift\": 25, \"z\": 1.2245042785}, {\"font\": {\"color\": \"hotpink\"}, \"showarrow\": false, \"text\": -0.12, \"x\": -0.06060411475, \"y\": -1.7352293984, \"yshift\": 25, \"z\": 1.701897402}]}], \"label\": \"Atom 8\", \"method\": \"update\"}, {\"args\": [{\"visible\": [true, true, false, false, false, true]}, {\"scene.annotations\": [{\"font\": {\"color\": \"blue\"}, \"showarrow\": false, \"text\": 0, \"x\": 0.1115516646, \"y\": 1.31437064, \"yshift\": 15, \"z\": 0.1706596492}, {\"font\": {\"color\": \"blue\"}, \"showarrow\": false, \"text\": 1, \"x\": 0.074738425, \"y\": -0.021755286000000002, \"yshift\": 15, \"z\": 0.0256779697}, {\"font\": {\"color\": \"blue\"}, \"showarrow\": false, \"text\": 2, \"x\": 0.1056148394, \"y\": -0.6922873570999999, \"yshift\": 15, \"z\": -1.093558105}, {\"font\": {\"color\": \"blue\"}, \"showarrow\": false, \"text\": 3, \"x\": 0.0437852446, \"y\": -2.0217143859999998, \"yshift\": 15, \"z\": -0.7014996734000001}, {\"font\": {\"color\": \"blue\"}, \"showarrow\": false, \"text\": 4, \"x\": -0.024003009500000002, \"y\": -2.127543814, \"yshift\": 15, \"z\": 0.6556390053}, {\"font\": {\"color\": \"blue\"}, \"showarrow\": false, \"text\": 5, \"x\": -0.0028514919, \"y\": -0.8158043987000001, \"yshift\": 15, \"z\": 1.122248485}, {\"font\": {\"color\": \"blue\"}, \"showarrow\": false, \"text\": 6, \"x\": 0.165528295, \"y\": 1.6779541, \"yshift\": 15, \"z\": -0.7220664542}, {\"font\": {\"color\": \"blue\"}, \"showarrow\": false, \"text\": 7, \"x\": 0.0522997421, \"y\": -2.816909781, \"yshift\": 15, \"z\": -1.43043336}, {\"font\": {\"color\": \"blue\"}, \"showarrow\": false, \"text\": 8, \"x\": -0.0832076586, \"y\": -2.967081222, \"yshift\": 15, \"z\": 1.3267600720000001}, {\"font\": {\"color\": \"blue\"}, \"showarrow\": false, \"text\": 9, \"x\": -0.038000570899999996, \"y\": -0.5033775748, \"yshift\": 15, \"z\": 2.077034732}, {\"showarrow\": false, \"text\": 1.34, \"x\": 0.0931450448, \"y\": 0.646307677, \"yshift\": 10, \"z\": 0.09816880945}, {\"showarrow\": false, \"text\": 1.31, \"x\": 0.0901766322, \"y\": -0.35702132155, \"yshift\": 10, \"z\": -0.53394006765}, {\"showarrow\": false, \"text\": 1.39, \"x\": 0.074700042, \"y\": -1.35700087155, \"yshift\": 10, \"z\": -0.8975288892}, {\"showarrow\": false, \"text\": 1.36, \"x\": 0.00989111755, \"y\": -2.0746291, \"yshift\": 10, \"z\": -0.02293033405}, {\"showarrow\": false, \"text\": 1.39, \"x\": -0.0134272507, \"y\": -1.47167410635, \"yshift\": 10, \"z\": 0.88894374515}, {\"showarrow\": false, \"text\": 1.36, \"x\": 0.03594346655, \"y\": -0.41877984235, \"yshift\": 10, \"z\": 0.57396322735}, {\"showarrow\": false, \"text\": 1.08, \"x\": 0.04804249335, \"y\": -2.4193120835, \"yshift\": 10, \"z\": -1.0659665167}, {\"showarrow\": false, \"text\": 1.08, \"x\": -0.05360533405, \"y\": -2.547312518, \"yshift\": 10, \"z\": 0.99119953865}, {\"showarrow\": false, \"text\": 1.01, \"x\": -0.0204260314, \"y\": -0.65959098675, \"yshift\": 10, \"z\": 1.5996416085}, {\"showarrow\": false, \"text\": 0.97, \"x\": 0.1385399798, \"y\": 1.49616237, \"yshift\": 10, \"z\": -0.2757034025}, {\"font\": {\"color\": \"hotpink\"}, \"showarrow\": false, \"text\": -3.3, \"x\": 0.01836892705, \"y\": -0.2625664304, \"yshift\": 25, \"z\": 1.05135635085}, {\"font\": {\"color\": \"hotpink\"}, \"showarrow\": false, \"text\": -0.52, \"x\": 0.03380713425, \"y\": -0.59783246595, \"yshift\": 25, \"z\": 0.4917383135}, {\"font\": {\"color\": \"hotpink\"}, \"showarrow\": false, \"text\": 8.16, \"x\": 0.00289233685, \"y\": -1.2625459804, \"yshift\": 25, \"z\": 0.6877675293}, {\"font\": {\"color\": \"hotpink\"}, \"showarrow\": false, \"text\": 4.8, \"x\": -0.0310017902, \"y\": -1.3154606944, \"yshift\": 25, \"z\": 1.36633686865}, {\"font\": {\"color\": \"hotpink\"}, \"showarrow\": false, \"text\": 60.53, \"x\": -0.0204260314, \"y\": -0.65959098675, \"yshift\": 25, \"z\": 1.5996416085}]}], \"label\": \"Atom 9\", \"method\": \"update\"}], \"direction\": \"down\", \"xanchor\": \"left\", \"yanchor\": \"top\"}]},\n",
       "                        {\"responsive\": true}\n",
       "                    ).then(function(){\n",
       "                            \n",
       "var gd = document.getElementById('66d698ee-6183-4533-8888-0e23c5d0a162');\n",
       "var x = new MutationObserver(function (mutations, observer) {{\n",
       "        var display = window.getComputedStyle(gd).display;\n",
       "        if (!display || display === 'none') {{\n",
       "            console.log([gd, 'removed!']);\n",
       "            Plotly.purge(gd);\n",
       "            observer.disconnect();\n",
       "        }}\n",
       "}});\n",
       "\n",
       "// Listen for the removal of the full notebook cells\n",
       "var notebookContainer = gd.closest('#notebook-container');\n",
       "if (notebookContainer) {{\n",
       "    x.observe(notebookContainer, {childList: true});\n",
       "}}\n",
       "\n",
       "// Listen for the clearing of the current output cell\n",
       "var outputEl = gd.closest('.output');\n",
       "if (outputEl) {{\n",
       "    x.observe(outputEl, {childList: true});\n",
       "}}\n",
       "\n",
       "                        })\n",
       "                };\n",
       "                });\n",
       "            </script>\n",
       "        </div>"
      ]
     },
     "metadata": {},
     "output_type": "display_data"
    }
   ],
   "source": [
    "molecule_name = 'dsgdb9nsd_000200'\n",
    "print(molecule_name)\n",
    "plot_interactions(molecule_name, structures, train)"
   ]
  },
  {
   "cell_type": "code",
   "execution_count": 20,
   "metadata": {},
   "outputs": [],
   "source": [
    "import numpy as np\n",
    "import pandas as pd\n",
    "\n",
    "structures = pd.read_csv('./input/structures.csv')\n",
    "structures_group = structures.groupby('molecule_name')\n",
    "molecule_names = structures['molecule_name'].unique()\n",
    "atomic_radii = dict(C=0.77, F=0.71, H=0.38, N=0.75, O=0.73)"
   ]
  },
  {
   "cell_type": "code",
   "execution_count": 25,
   "metadata": {},
   "outputs": [
    {
     "data": {
      "application/vnd.jupyter.widget-view+json": {
       "model_id": "cfb009ceac6044b3aae19ea84173d80c",
       "version_major": 2,
       "version_minor": 0
      },
      "text/plain": [
       "HBox(children=(IntProgress(value=0, max=130775), HTML(value='')))"
      ]
     },
     "metadata": {},
     "output_type": "display_data"
    }
   ],
   "source": [
    "xyz = structures[['x','y','z']].values\n",
    "ss = structures.groupby('molecule_name').size()\n",
    "ss = ss.cumsum()\n",
    "ssx = np.zeros(len(ss) + 1, 'int')\n",
    "ssx[1:] = ss\n",
    "def sofast_dist(xyz, ssx, molecule_id):\n",
    "    start_molecule, end_molecule = ssx[molecule_id], ssx[molecule_id+1]\n",
    "    locs = xyz[start_molecule:end_molecule]     \n",
    "    d=locs[:,None,:]-locs\n",
    "    return np.sqrt(np.einsum('ijk,ijk->ij',d,d))\n",
    "\n",
    "for molecule_id in tqdm_notebook(range(len(molecule_names))):\n",
    "    sofast_dist(xyz, ssx, molecule_id)"
   ]
  },
  {
   "cell_type": "code",
   "execution_count": 24,
   "metadata": {},
   "outputs": [
    {
     "data": {
      "text/plain": [
       "array([      0,       5,       9, ..., 2358623, 2358641, 2358657])"
      ]
     },
     "execution_count": 24,
     "metadata": {},
     "output_type": "execute_result"
    }
   ],
   "source": [
    "ssx"
   ]
  }
 ],
 "metadata": {
  "kernelspec": {
   "display_name": "Python 3",
   "language": "python",
   "name": "python3"
  },
  "language_info": {
   "codemirror_mode": {
    "name": "ipython",
    "version": 3
   },
   "file_extension": ".py",
   "mimetype": "text/x-python",
   "name": "python",
   "nbconvert_exporter": "python",
   "pygments_lexer": "ipython3",
   "version": "3.6.8"
  }
 },
 "nbformat": 4,
 "nbformat_minor": 2
}
